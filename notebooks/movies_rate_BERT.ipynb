{
 "cells": [
  {
   "cell_type": "code",
   "execution_count": null,
   "id": "27742b2d",
   "metadata": {},
   "outputs": [],
   "source": [
    "# Se importan librerías necesarias\n",
    "\n",
    "# Manipulación de datos\n",
    "import pandas as pd\n",
    "import numpy as np\n",
    "import time\n",
    "import joblib\n",
    "\n",
    "# Conexión a la base de datos\n",
    "import sqlite3\n",
    "from sqlalchemy import create_engine\n",
    "import pyarrow\n",
    "\n",
    "# Visualización\n",
    "import matplotlib.pyplot as plt\n",
    "import seaborn as sns\n",
    "from IPython.display import display, HTML\n",
    "\n",
    "# Estadística\n",
    "from scipy import stats as st\n",
    "\n",
    "# Preprocesamiento\n",
    "from sklearn.preprocessing import StandardScaler, OneHotEncoder\n",
    "from sklearn.model_selection import train_test_split, GridSearchCV, cross_val_score\n",
    "\n",
    "# Modelos de clasificación\n",
    "from sklearn.linear_model import LogisticRegression, LinearRegression\n",
    "from sklearn.tree import DecisionTreeClassifier, DecisionTreeRegressor\n",
    "from sklearn.ensemble import RandomForestClassifier, RandomForestRegressor, GradientBoostingRegressor\n",
    "from sklearn.dummy import DummyClassifier\n",
    "from sklearn.neighbors import KNeighborsClassifier, KNeighborsRegressor, NearestNeighbors\n",
    "from sklearn.pipeline import Pipeline\n",
    "from sklearn.compose import ColumnTransformer\n",
    "from sklearn.svm import LinearSVC\n",
    "import xgboost as xgb\n",
    "from xgboost import XGBClassifier, XGBRegressor\n",
    "from catboost import CatBoostClassifier, CatBoostRegressor\n",
    "import lightgbm as lgb\n",
    "from lightgbm import LGBMClassifier, LGBMRegressor, early_stopping, log_evaluation\n",
    "# from imblearn.over_sampling import SMOTE\n",
    "# from imblearn.under_sampling import RandomUnderSampler\n",
    "# from imblearn.over_sampling import RandomOverSampler\n",
    "\n",
    "# Procesamiento de texto\n",
    "import nltk, re\n",
    "from nltk import pos_tag\n",
    "from nltk.corpus import stopwords, wordnet\n",
    "from nltk.stem import WordNetLemmatizer\n",
    "from nltk import pos_tag, word_tokenize\n",
    "from sklearn.feature_extraction.text import TfidfVectorizer, CountVectorizer\n",
    "\n",
    "from transformers import DistilBertTokenizerFast, DistilBertForSequenceClassification\n",
    "from transformers import Trainer, TrainingArguments\n",
    "from sklearn.model_selection import train_test_split\n",
    "import torch\n",
    "from torch.utils.data import Dataset\n",
    "\n",
    "\n",
    "\n",
    "# Métricas y visualización de resultados\n",
    "from sklearn.metrics import (\n",
    "    accuracy_score,\n",
    "    precision_score,\n",
    "    recall_score,\n",
    "    f1_score,\n",
    "    roc_auc_score,\n",
    "    confusion_matrix,\n",
    "    classification_report,\n",
    "    roc_curve,\n",
    "    ConfusionMatrixDisplay,\n",
    "    RocCurveDisplay,\n",
    "    mean_squared_error,\n",
    "    mean_absolute_error,\n",
    "    r2_score,\n",
    "    make_scorer\n",
    ")\n",
    "\n",
    "# Control de advertencias\n",
    "import warnings\n",
    "warnings.filterwarnings('ignore')\n",
    "\n",
    "# Se establece el estilo gráfico general para las visualizaciones\n",
    "sns.set(style='white', palette='deep', font_scale=1.2)\n"
   ]
  },
  {
   "cell_type": "code",
   "execution_count": 2,
   "id": "c3f6f83e",
   "metadata": {},
   "outputs": [
    {
     "data": {
      "application/vnd.microsoft.datawrangler.viewer.v0+json": {
       "columns": [
        {
         "name": "index",
         "rawType": "int64",
         "type": "integer"
        },
        {
         "name": "tconst",
         "rawType": "object",
         "type": "string"
        },
        {
         "name": "title_type",
         "rawType": "object",
         "type": "string"
        },
        {
         "name": "primary_title",
         "rawType": "object",
         "type": "string"
        },
        {
         "name": "original_title",
         "rawType": "object",
         "type": "string"
        },
        {
         "name": "start_year",
         "rawType": "int64",
         "type": "integer"
        },
        {
         "name": "end_year",
         "rawType": "object",
         "type": "string"
        },
        {
         "name": "runtime_minutes",
         "rawType": "object",
         "type": "string"
        },
        {
         "name": "is_adult",
         "rawType": "int64",
         "type": "integer"
        },
        {
         "name": "genres",
         "rawType": "object",
         "type": "string"
        },
        {
         "name": "average_rating",
         "rawType": "float64",
         "type": "float"
        },
        {
         "name": "votes",
         "rawType": "Int64",
         "type": "integer"
        },
        {
         "name": "review",
         "rawType": "object",
         "type": "string"
        },
        {
         "name": "rating",
         "rawType": "int64",
         "type": "integer"
        },
        {
         "name": "sp",
         "rawType": "object",
         "type": "string"
        },
        {
         "name": "pos",
         "rawType": "int64",
         "type": "integer"
        },
        {
         "name": "ds_part",
         "rawType": "object",
         "type": "string"
        },
        {
         "name": "idx",
         "rawType": "int64",
         "type": "integer"
        }
       ],
       "ref": "ea9facbf-585c-47d3-915c-b0cad6a9df0b",
       "rows": [
        [
         "0",
         "tt0068152",
         "movie",
         "$",
         "$",
         "1971",
         "\\N",
         "121",
         "0",
         "Comedy,Crime,Drama",
         "6.3",
         "2218",
         "The pakage implies that Warren Beatty and Goldie Hawn are pulling off a huge bank robbery, but that's not what I got out of it! I didn't get anything! In the first half there's a new character (without introduction) in every other scene. The first half-hour is completely incomprehensible, the rest is just one long, annoying, underlit chase scene. There's always an irritating sound in the background whether it's a loud watch ticking, a blaring siren, a train whistling, or even the horrible score by Quincy Jones. There are a lot of parts that are laughably bad, too. Like, the bad guys chasing Beatty on thin ice with a CAR! Or, the police arriving at the scene roughly fifteen times. I really hated this movie!",
         "1",
         "neg",
         "0",
         "train",
         "8335"
        ],
        [
         "1",
         "tt0068152",
         "movie",
         "$",
         "$",
         "1971",
         "\\N",
         "121",
         "0",
         "Comedy,Crime,Drama",
         "6.3",
         "2218",
         "How the hell did they get this made?! Presenting itself as a caper comedy, the misbegotten \"$\" is essentially two hours of people mumbling sentence fragments. The usually dependable Warren Beatty looks drunk, and the usually hilarious Goldie Hawn acts like she's on depressants. As for Gert Frobe, his most famous role - Goldfinger - was infinitely more admirable than his character here. Not even the guy with the champagne bottle of LSD can save this litany of worthlessness. Am I comparing this movie to \"Plan 9 from Outer Space\"? I wouldn't do such a thing even if someone paid me. \"P9FOS\" was idiotically made but ended up hilarious; this was idiotically made and causes you to feel like your brain just melted out of your ears. Warren Beatty and Goldie Hawn made up for this when they co-starred in \"Shampoo\", but then they co-starred in the dreadful \"Town & Country\". Maybe they just shouldn't co-star in movies. All in all, I would rather have my skin torn off than have to watch this again. Awful. Maybe they should remake it with Jackie Chan. Then I would pay to see it.",
         "1",
         "neg",
         "0",
         "train",
         "8336"
        ],
        [
         "2",
         "tt0313150",
         "short",
         "'15'",
         "'15'",
         "2002",
         "\\N",
         "25",
         "0",
         "Comedy,Drama,Short",
         "6.3",
         "184",
         "There is no real story the film seems more like a fly on the wall drama-documentary than a proper film so this piece may in itself be a spoiler. Teen drama about 3 young Singaporean kids (very similar to UK chavs) who play truant from school, run with gangs, get into fights, insult people on the street, get tattoos, hang about doing nothing, etc. etc, They generally imagine themselves to be hard and every so often shout challenging rap chants into the camera. Filmed in MTV style, fast cuts, crazy camera angles, tight close ups and animation interludes. The dialogue might have been crisper in the original languages of Mandarin and Hokkien than in the subtitles and I have no doubt that some of the contemporary Singapore references will slip over Western heads as well as the cultural and political context unless of course you are familiar with Singapore. This kind of teen film may be a first for Singapore but it has been done before and done better in other Western countries, La Haine (1995) for example.",
         "3",
         "neg",
         "0",
         "test",
         "2489"
        ],
        [
         "3",
         "tt0313150",
         "short",
         "'15'",
         "'15'",
         "2002",
         "\\N",
         "25",
         "0",
         "Comedy,Drama,Short",
         "6.3",
         "184",
         "Um .... a serious film about troubled teens in Singapore, a country I have not much knowledge on but have the previous wrong impression that all the kids there are highly disciplined and controlled by their family and government. Well, I guess I am wrong, just like other cities/ countries, they also have their troubled teens who also lead the not so surprising rebellious way of life of drugs, fights, bad language, and .... many other obvious signs of being a bad boy. The surprising part of this film isn't really about how these kids running around causing themselves and others trouble, but rather the subtle gayness hidden behind their so call loyalty between them. The bond between these \"brothers\" may very well originated from an unconscious gay tendency inside these boys. Though it isn't uncommon for str8 guys to have very close friendship with each other, but watch this film closely, it should be entering all sorts of gay film festivals and I would not be surprised that it may win itself a lot more awards toward this direction!",
         "7",
         "pos",
         "1",
         "test",
         "9280"
        ],
        [
         "4",
         "tt0313150",
         "short",
         "'15'",
         "'15'",
         "2002",
         "\\N",
         "25",
         "0",
         "Comedy,Drama,Short",
         "6.3",
         "184",
         "I'm totally agree with GarryJohal from Singapore's comments about this film. Quotation: 'Yes non-Singaporean's can't see what's the big deal about this film. Some of the references in this film fly right over the head of foreign viewers and mostly Singaporeans are the ones who would actually 'get' it.' It's still not quite the truth and as a Malaysian-Chinese, i do 'get it' although i don't speak Hokkien because we do have the similar 'problems' in Malaysia too. I know that it's really hard to understand and to accept this as a REALITY but it is definitely NOT a 'no real story'. I was pleased to see this film outside Malaysia because it will and definitely be banned in Malaysia too. Which means either you get it in 'illegal copied VCDs or DVDs' or hope that someone to be kind enough to 'share' it in the internet. This is not an 'another violent teen drama.......' because it portrays the reality which exists in Singapore (and in Malaysia too) in an interesting way (sad+humour). I was just a little sad to know that this film got about 20 cuts in censorship. What a waste!",
         "9",
         "pos",
         "1",
         "test",
         "9281"
        ],
        [
         "5",
         "tt0313150",
         "short",
         "'15'",
         "'15'",
         "2002",
         "\\N",
         "25",
         "0",
         "Comedy,Drama,Short",
         "6.3",
         "184",
         "This is the first movie I've seen from Singapore and it's great. If you don't know a lot about Asia, its languages and its culture, then this film may be a bit confusing for the non-informed people. As an Asian-American who's double majoring in two Asian languages (one of them being Mandarin) and has taken some Asian American Studies classes, this film was easier for me to understand, but even without that kind of knowledge, I believe this movie is still accessible to its foreign audiences as long as you keep in mind that it's a coming-of-age type of movie. The film is definitely worth seeing just so that you get the chance to see what kind of issues Singapore's young teenage boys are struggling and having to deal with. This is an awesome coming-of-age movie, but filmed and shown in a more artistic and original way. The actors are outstanding.",
         "9",
         "pos",
         "1",
         "test",
         "9282"
        ],
        [
         "6",
         "tt0313150",
         "short",
         "'15'",
         "'15'",
         "2002",
         "\\N",
         "25",
         "0",
         "Comedy,Drama,Short",
         "6.3",
         "184",
         "Yes non-Singaporean's can't see what's the big deal about this film. Some of the references in this film fly right over the head of foreign viewers and mostly Singaporeans are the ones who would actually 'get' it. But i plead with you, foreigner, look at the other crap that's been churned out from Singapore and compare it to this film. It's like comparing a mule's diarhhoea chunks to a little diamond. This film is the first to truly show some the singapore's seedy underbelly - something the forces that be, pretend does not exist. And there's a part in the film where a gangster(ah-beng in our unique colloquial 'ingris') curses in 4 languages, namely Tamil English Malay and Hokkien. Well the truth is most of us can and do do that all the time. The sad thing is that viewers from foreign contries will have an easier time getting their oily little claws on this gem, in its country of origin, it was banned initially, only to be given and R-rating, and that too with about 20 cuts to it. It's nice to know you that one of the best, creative, edgy and original films ever created would be easier for you to obtain unadulterated, uncensored; halfway across the world than in your own nation.",
         "9",
         "pos",
         "1",
         "test",
         "9283"
        ],
        [
         "7",
         "tt0035958",
         "movie",
         "'Gung Ho!': The Story of Carlson's Makin Island Raiders",
         "'Gung Ho!': The Story of Carlson's Makin Island Raiders",
         "1943",
         "\\N",
         "88",
         "0",
         "Drama,History,War",
         "6.1",
         "1240",
         "This true story of Carlson's Raiders is more of a Army training film than anything else.Obviously thrown together quickly on a miniscule budget about the only thing it has to recommend it is an early performance by Robert Mitchum,who's the only decent actor in the cast,and actual footage of the wreckage at Pearl Harbor which gets your blood boiling,as it was obviously intended to do.",
         "2",
         "neg",
         "0",
         "train",
         "9903"
        ],
        [
         "8",
         "tt0035958",
         "movie",
         "'Gung Ho!': The Story of Carlson's Makin Island Raiders",
         "'Gung Ho!': The Story of Carlson's Makin Island Raiders",
         "1943",
         "\\N",
         "88",
         "0",
         "Drama,History,War",
         "6.1",
         "1240",
         "Should have been titled 'Balderdash!' Little in the film is true except the name of the island and the fact submarines were involved. Little more than training film quality with poor camera work, muddy stock footage and perhaps the low point of stereotyping 'Japs' with laughing Japanese infantry, laughing Japanese fighter pilots and one-dimensional square-jawed Americans dying left and right. Sixty years later it is unintentionally funny as an odd artifact and as an opportunity to see what is possible when the war fever is upon you. The plot and the dialogue remind me of playing guns on a summer's afternoon in my childhood, peering through the neighbor's hedge to gain a fatal advantage on my best friend Steve and my little brother. In actual fact, the Makin Island raid was a near total failure with Carlson and his men wandering around in the dark exchanging gunfire with shadows until finally, thirsty and completely disoriented, looking for someone to surrender to, before they happened upon some equally confused Japanese soldiers who promptly surrendered to them! In the withdrawal several of Carlson's Marines ended up on another island and were abandoned! The film, of course, couldn't tell that story, not in 1943, so this bit of whimsy was fabricated and rushed into release to the beating of drums. With Randolph Scott, and his jaw, as Colonel Thorwald (Carlson) leading a unit comprised almost entirely of stock caricatures, the green recruit (Harry Landon, Robert Mitchum), the grizzled veteran (J. Carroll Naish, Milburn Stone, Sam Levene), the country-bumpkin (Rod Cameron), the all-American boy (Alan Curtis), and scores of sneering (when they weren't laughing) 'Japs'. And yet the cast nearly overcomes the material. Almost. Randolph Scott's narrow range is well suited to his role of earnest commander and he is supported by a solid group of professionals who do their best with thin gruel. But in the end, the one-note object of the exercise wins. Any pretense is totally abandoned at the close when Randy Scott simply looks directly into the camera and delivers a stirring (well sorta stirring) call to arms. The cast was better than this material. So was the audience. Should be viewed with Reefer Madness and a bottle of moderately priced Merlot.",
         "2",
         "neg",
         "0",
         "train",
         "9905"
        ],
        [
         "9",
         "tt0035958",
         "movie",
         "'Gung Ho!': The Story of Carlson's Makin Island Raiders",
         "'Gung Ho!': The Story of Carlson's Makin Island Raiders",
         "1943",
         "\\N",
         "88",
         "0",
         "Drama,History,War",
         "6.1",
         "1240",
         "The movie 'Gung Ho!': The Story of Carlson's Makin Island Raiders was made in 1943 with a view to go up the moral of American people at the duration of second world war. It shows with the better way that the cinema can constitute body of propaganda. The value of this film is only collection and no artistic. In a film of propaganda it is useless to judge direction and actors. Watch that movie if you are interested to learn how propaganda functions in the movies or if you are a big fun of Robert Mitchum who has a small role in the film. If you want to see a film for the second world war, they exist much better and objective. I rated it 4/10.",
         "4",
         "neg",
         "0",
         "train",
         "9904"
        ],
        [
         "10",
         "tt0035958",
         "movie",
         "'Gung Ho!': The Story of Carlson's Makin Island Raiders",
         "'Gung Ho!': The Story of Carlson's Makin Island Raiders",
         "1943",
         "\\N",
         "88",
         "0",
         "Drama,History,War",
         "6.1",
         "1240",
         "After reading the reviews, it became obvious that everyone intellectualized this work. How utterly boring. Oh how about the good ol' days and there was nothing like it. Of all the comments no one expressed any emotion to this work or any other. I grew up just after the end of the steam age and this cinematic gem along with Dan'l Boone graced the Saturday afternoon matinées. This was an annual movie that made the rounds and filled the seats with gabbing, yapping, farting, giggling, snot monsters like myself or was-self. And it was a movie theatre filler at the time. Almost as big as the Wizard of Oz. IMDb insists that every critique contains something about the plot. Problem is was that it was rather a template. Here goes. Randolph Scott (cowboy/hero)gathers friends and goes defeats those evil people. Hooray! All of us kids figured out that plot before we plunked our quarter down to watch it. That was just about the plot line of every Scott, John Wayne, Roy Rogers film ever made. If you take the time to go back and review each and every movie - just don't ask for surprises. One must remember the context of the times. There was no or little TV. None for kids. There was school. There was the great outdoors. There were toy guns. No Cyber time. And the steam age had just collapsed. But movies such as this provided the entertainment and filled the imaginations of young whippersnappers. Even the girls got into it. This movie was the entertainment. And it is just as mindless as anything produced today. It had a purpose originally of being propaganda. But quickly came to be kids movies. Our fathers had experienced the real thing. And it wouldn't be until Sam Peckinpah a decade later who finally lavished the red splashes of imitation blood in realistic and copious quantities. Not until his directorship did anyone die slowly, with great pain and miserably. Until Peckinpah war and gun fights were a rather bloodless affair. Thanks Sam. To see a movie had little or no blood, the adults didn't mind. They wouldn't have tolerated it I think. No guts spraying the shattering plant life. So this movie had all of the glory and none of the gory. Gung Ho was suitable for kids then. You will see that I assigned a four to this rating. Why would I do that? Well. It is a terrible movie. No matter how I love it. I do love this movie because it brought back one of the happier moments of my childhood. But it is not all that good of a movie in quality terms. Basically Gung Ho transitted to become a romance novel for children. Should people watch it. Of course. I am not saying to stay away. Realistically however. The plot is simple. The characters shallow? they are shoals. You can love a bad movie.",
         "4",
         "neg",
         "0",
         "train",
         "9906"
        ],
        [
         "11",
         "tt0217978",
         "movie",
         "'R Xmas",
         "'R Xmas",
         "2001",
         "\\N",
         "85",
         "0",
         "Crime,Drama,Thriller",
         "5.8",
         "1275",
         "The whole movie seemed to suffer from poor editing - every scene seemed to take forever to unfold and when they did, I felt like I had waited a long time for very little to happen. I guess I missed the whole point of the movie - either that or there wasn't one.",
         "1",
         "neg",
         "0",
         "test",
         "3579"
        ],
        [
         "12",
         "tt0217978",
         "movie",
         "'R Xmas",
         "'R Xmas",
         "2001",
         "\\N",
         "85",
         "0",
         "Crime,Drama,Thriller",
         "5.8",
         "1275",
         "I don't know what has happened to director Abel Ferrara. Ever since the \"Body Snatchers\" remake he seems to have lost it. \"King of New York\" and \"The Bad Lieutenant\" remain two of the best films of the '90s: searing indictments of a decade gone wrong. With films like \"'R Xmas\" (whatever that means) and \"New Rose Hotel\" he seems determined to disgust and bore his former supporters. This film has NO LIFE in it. While he gets excellent performances out of his actors in all of his projects the result of this mishmash of ideas just doesn't jell. Whatever the point is -- that the new breed of drug dealer is more or less the same as any other upper middle class New Yawkuh -- gets lost in the mind numbing script and boring direction. I saw this opening night at the 4-Plex in downtown L.A. In the lobby, while buying tickets, I was surprised and delighted to see it filled with a large, racially mixed group of men and women in their twenties and thirties. Then they started into the theater but it was the theater that was featuring \"8 Mile\" not \"'R Xmas\"! The theater showing \"'R Xmas\" (keep in mind, this was opening night!) had a total of 4 people watching it, myself, my wife and two others! Way to go, Abel! 2/10",
         "2",
         "neg",
         "0",
         "test",
         "3581"
        ],
        [
         "13",
         "tt0217978",
         "movie",
         "'R Xmas",
         "'R Xmas",
         "2001",
         "\\N",
         "85",
         "0",
         "Crime,Drama,Thriller",
         "5.8",
         "1275",
         "\"R Xmas\" peers into the lives of a middle class married-with-kid family of narco-distributors during the Christmas holiday season. There's no story here - just a disjointed collection of events. Ferrara seems to get off on the juxtaposition of the holidays and home life with narcotics peddling in NYC, jumping back and forth between each. The players appear to be improv'ing and adlibing now and then making for an unconvincing watch. Overall a poor effort not worth the time. (D)",
         "3",
         "neg",
         "0",
         "test",
         "3577"
        ],
        [
         "14",
         "tt0217978",
         "movie",
         "'R Xmas",
         "'R Xmas",
         "2001",
         "\\N",
         "85",
         "0",
         "Crime,Drama,Thriller",
         "5.8",
         "1275",
         "Good actors, good director, well acted, well directed but...Where's the movie? Did they have an script or just improvised it all? At least it is a short-length movie (only 80 minutes, including credits). Nothing seems to happen in this film, nothing at all. A couple of small time drug dealers caught in small time troubles, but you'll never get a clue of what's happening, nor even what are they talking about in some sequences of the movie. Tons of \"f***'s\" and \"motherf*****'s\", but nothing else... For the people who love Abel Ferrara's films such as The Funeral, 'R Xmas is going to be a big disappointment, as it's been for me. What was he thinking about? Did he really think that this was a good movie? And if he didn't, then why did he made it?",
         "3",
         "neg",
         "0",
         "test",
         "3578"
        ],
        [
         "15",
         "tt0217978",
         "movie",
         "'R Xmas",
         "'R Xmas",
         "2001",
         "\\N",
         "85",
         "0",
         "Crime,Drama,Thriller",
         "5.8",
         "1275",
         "I caught the North American premiere of this at the Chicago International Film Festival. I was beyond disappointed. From the mood in the audience, I wasn't the only one. The film takes a long time to get to the conflict, and then refuses to resolve it, opting instead to tell us the story is \"To Be Continued\". Is it a spoiler to reveal that a movie has no ending? I consider it more of a warning. This is, at best, only half a movie- and not the good half.",
         "3",
         "neg",
         "0",
         "test",
         "3582"
        ],
        [
         "16",
         "tt0217978",
         "movie",
         "'R Xmas",
         "'R Xmas",
         "2001",
         "\\N",
         "85",
         "0",
         "Crime,Drama,Thriller",
         "5.8",
         "1275",
         "The whole movie was done half-assed. It could have been a much better movie but, that would have required a re-write and different actors. Compared to \"Traffic\" this was a wreck. I am just glad I didn't have to pay for it. Spoiler: What was the point of having crooked cops getting arrested? To share the guilt of drug dealers and make them feel better? Pu-leaze! The parents were scum, driven by greed, and didn't even consider the harm they were doing; as pointed out by Ice-T. 2 out of 10",
         "3",
         "neg",
         "0",
         "test",
         "3583"
        ],
        [
         "17",
         "tt0217978",
         "movie",
         "'R Xmas",
         "'R Xmas",
         "2001",
         "\\N",
         "85",
         "0",
         "Crime,Drama,Thriller",
         "5.8",
         "1275",
         "In New York, in a morning close to Christmas, an upper class father and mother go in their BMW to a private school to see the play of their daughter. Then they go shopping and later they return to their fancy apartment in Manhattan. In the night, they move to a simple apartment in a dangerous neighborhood, where they prepare drugs for distribution. On the Christmas Eve, while buying the Christmas gift for their daughter, the father is kidnapped, and his wife desperately tries to raise a high amount of money to pay the requested ransom. \"R Xmas\" is a deceptive movie of Abel Ferrara. The lead characters do not have names, are anonymous, and maybe his intention is to tell that in the breast of a neighbor family in your building may have drug dealers; or that drug dealers may also have families and may be loving persons; or that there are many dirty cops, probably worse than the criminals; or is it a simple apology to crime? Whatever! However, this humanization of criminals is a horrible message, and I really did not like this movie. In Brazil, for example, many drug dealers and criminals help their communities, due to the absence of the State in poor areas and slums, but this procedure does not make them model citizen. In this movie, we see a loving upper class family in the day, providing drugs as means of living, but the destruction of the members of other families is not shown in the story, and it is impossible to feel sympathy for any characters. In the end, I wished all of them dead. My vote is four. Title (Brazil): \"Gangues do Gueto\" (\"Gangs of the Ghetto\")",
         "4",
         "neg",
         "0",
         "test",
         "3576"
        ],
        [
         "18",
         "tt0217978",
         "movie",
         "'R Xmas",
         "'R Xmas",
         "2001",
         "\\N",
         "85",
         "0",
         "Crime,Drama,Thriller",
         "5.8",
         "1275",
         "'R Xmas is one of the only films I've seen where I can almost say that simply nothing happens.I felt as though I watched a drug dealing middle- class couple,with child,walk around,eat,smoke,converse(excuse me,swear)through most of the film.And I don't believe I'm missing the point.I think this film was well directed,well acted(although the husband's performance was rather wooden),and the constant feeling of impending doom around every corner certainly kept the viewer involved.But when the dust clears,your left with zero(just a boat-load of fade outs).I didn't want car chases,gun violence,beatings,etc.In fact,I'm sick of violence.But my goodness,let's at least get a bit deeper into all these characters(let's get to know each of these corrupt officers a little better-not just show glancing shots of them as street thugs).Why was the dialogue so juvenile? Everyone spoke as if they were in junior high.I believe even this side of our human race can say something other than fu_ _,sh_ _,etc.The pacing and the storyline of 'R Xmas I found quite interesting,but the execution was plain and simple-empty.4/10",
         "4",
         "neg",
         "0",
         "test",
         "3580"
        ],
        [
         "19",
         "tt0073697",
         "movie",
         "'Sheba, Baby'",
         "'Sheba, Baby'",
         "1975",
         "\\N",
         "90",
         "0",
         "Action,Crime,Drama",
         "5.8",
         "1204",
         "I've seen Foxy Brown, Coffy, Friday Foster, Bucktown, and Black Mama/White Mama...of these this is Pam Grier's worst movie. Poor acting, bad script, boring action scenes...there's just nothing there. Avoid this and rent Friday Foster, Coffy or Foxy Brown instead.",
         "2",
         "neg",
         "0",
         "test",
         "3354"
        ],
        [
         "20",
         "tt0073697",
         "movie",
         "'Sheba, Baby'",
         "'Sheba, Baby'",
         "1975",
         "\\N",
         "90",
         "0",
         "Action,Crime,Drama",
         "5.8",
         "1204",
         "I really tried, but this movie just didn't work for me. The action scenes were dull, the acting was surprisingly poor, and some of these characters were TOO stereotypical to even be funny. Pam Grier tries, but when you have nothing to work with, even her considerable talent cannot prevent a disaster. Even by the standards of this weak genre, this film is pretty bad.",
         "3",
         "neg",
         "0",
         "test",
         "3355"
        ],
        [
         "21",
         "tt0073697",
         "movie",
         "'Sheba, Baby'",
         "'Sheba, Baby'",
         "1975",
         "\\N",
         "90",
         "0",
         "Action,Crime,Drama",
         "5.8",
         "1204",
         "When Pam Grier made COFFY in 1973, it was an exciting though flawed film. The plot was gritty and satisfying--even if the acting was often amateurish. It was so successful that American International Pictures decided to rehash the formula the following year with FOXY BROWN--not a bad film but certainly almost like \"COFFY II\". Now, only a year later, the studio had apparently given up on creating anything new for Ms. Grier, as SHEBA, BABY was essentially the same plot from COFFY and FOXY BROWN yet again. Because the idea was so recycled and because the acting and acting are so tired and low-energy, it's really scraping the bottom of the Blaxploitation barrel. Exactly like these other films, SHEBA, BABY begins with some local Black mobsters pressuring and eventually killing someone Pam Grier loves. In the past, it had been drug dealers and pimps, now it was mobsters trying to run all the loan companies and pawn shops out of town so they can corner the market. And, like the other films, Pam is a one-woman hit squad--dispensing justice and a good butt whoopin'. And, like the other films, there is a \"cat fight\" between Pam and a White lady right in front of \"Mr. Big\". And, like the other films, Mr. Big is a White guy pulling all the strings. And, like the other films, she is captured by Mr. Big. And, like the other films, he DOESN'T immediately kill her but gives her ample opportunity to escape (here, leaving a knife conveniently lying around). And, like the other films, she eventually gets free and kills his jive-@$$. While this formula did seem interesting in 1973, by this film it was frankly a predictable bore. Even if you hadn't seen the other films, it still was bad because the action was so slow--the punching and kicking seemed so slow and staged. The same could be said for the gun play. In one scene, four guys with machine guns, an AR-15 and shotguns attack. Pam responds by opening fire with a .357 revolver and killing 3 of the 4 and getting the other to surrender!!! Even if she's a good shot, she was rather slow and the guys just seemed to wait until she killed them!!! Plus, even a world champion shooter or Rambo couldn't have succeeded with such one-sided odds--after all, these guys had very impressive weapons and they were already pointed at her when she \"cleverly\" whipped out her pistol and easily dispatched these professional hit men!! In addition to slow and lame action scenes compared to any other Blaxpoitation film, the movie has many logical gaps that show the writing was terrible but the studio just didn't care. In one case, her boyfriend, \"Williams\", knew about the yacht and Nu-tronic at the end of the film but Pam never told him--how did he know about this? In another, the cops approach a boat filled with hoods and the hood immediately open fire. However, the cops had no evidence anything was happening and the crooks began firing with little provocation. And, the crooks had .30 caliber machine guns and other amazingly powerful weapons but in many cases were killed by cops wielding snub-nosed .38s! The bottom line is that this is a great example of \"Been there/done that....a WHOLE LOT BETTER\". I love Blaxploitation films, but this one is just too dopey and slow to merit watching except by very devoted fans of the genre.",
         "3",
         "neg",
         "0",
         "test",
         "3356"
        ],
        [
         "22",
         "tt0073697",
         "movie",
         "'Sheba, Baby'",
         "'Sheba, Baby'",
         "1975",
         "\\N",
         "90",
         "0",
         "Action,Crime,Drama",
         "5.8",
         "1204",
         "Sheba Shayne (Pam Grier) receives a telegram informing her that her father may be in trouble. Sheba, a private investigator and former cop, goes to her father's aid. But someone will stop at nothing to run her father out of business. An attempt to show their muscle goes awry and Sheba's father is gunned down in cold blood. These guys have messed with the wrong woman. If I had to describe Sheba Baby, the best I can come up with is Pam Grier Lite with some really bad acting. For a Pam Grier film, Sheba Baby is incredibly tame. It's nowhere near as violent as some of her earlier films. Gone are the over-the-top images of Pam placing a small revolver or razor blades in her afro. Pilot (D'Urville Martin) and his crew can't hold a candle to some of the real villains Pam faced in her previous movies. It's strictly by-the-numbers and almost has a made-for-TV feel. As for the bad acting, the baddies that Pam faces off with are as unnatural sounding in their delivery as I've seen. As a result, characters like Pilot don't come across as threatening as they should or need to for the movie to work. That's not to say there aren't moments or elements in Sheba Baby that I didn't enjoy (Pam in a wetsuit and Pam brandishing a spear gun), it's just that when compared with Pam's other films like Coffy, Foxy Brown, and even Friday Foster that the movie fails. One final observation - maybe I'm just more sensitive to these things post-9/11, but I don't remember a time, even in the security lax 70s, when you could take a suitcase full of guns on an airplane. When Sheba flies to her father's aid, she's got an arsenal packed in her luggage!",
         "4",
         "neg",
         "0",
         "test",
         "3357"
        ],
        [
         "23",
         "tt0073697",
         "movie",
         "'Sheba, Baby'",
         "'Sheba, Baby'",
         "1975",
         "\\N",
         "90",
         "0",
         "Action,Crime,Drama",
         "5.8",
         "1204",
         "Below average blaxpoitation action / melodrama in which the lovely Ms. Grier plays a private eye who comes to the aid of her father (Rudy Challenger) and his partner (Austin Stoker of the original \"Assault on Precinct 13\") whose loan business is being threatened. I'll be frank - I agree with the few other user comments for this movie. \"Sheba, Baby\" has a less than satisfying script, direction that isn't particularly distinguished, action scenes that are moderately entertaining at best, and one of Ms. Grier's more nondescript supporting casts (although there's an important supporting role for D'Urville Martin, also a familiar name in blaxpoitation). I get the feeling that this routine movie may have been put together quickly merely to cash in on her then enormous popularity. It sure was cool seeing Stoker again, although Ms. Grier doesn't have as good a role - or dialog - as she has had in other films, although she is doing what she does best, and that's playing a sassy, sexy sister on a mission of vengeance. Non-stop soul / funk soundtrack is enjoyable, at the very least. Mostly recommended to those who wish to see everything in the Pam Grier film repertoire. 4/10",
         "4",
         "neg",
         "0",
         "test",
         "3358"
        ],
        [
         "24",
         "tt0073697",
         "movie",
         "'Sheba, Baby'",
         "'Sheba, Baby'",
         "1975",
         "\\N",
         "90",
         "0",
         "Action,Crime,Drama",
         "5.8",
         "1204",
         "If anything, William Girdler was an opportunist who wanted a piece of the action in regards to whatever was popular during the time. I mean, a blaxploitation flick in Louisville, Kentucky..who would of thunk it?!?! I can just imagine the enthusiasm he must've had getting Pam Grier, quite a hot item, to star in his picture. If you are pretty familiar with the genre, Girdler's Sheba, Baby doesn't necessarily stray too far from formula. Despite a change of venue, the film still deals with a ruthless businessman nicknamed Shark who muscles in on loan companies, using stooges to threaten them in order to get their signatures. Grier is Sheba Shayne, a former Louisville cop working in Chicago who returns home at the request of her father's partner, Brick(Austin Stoker, Assault on Precinct 13). Sheba's father, despite Shark's bullying tactics(..his man in town is Pilot, a wannabe gangster, equipped with stooges who aren't that menacing, rather buffoonish in nature, so thin-skinned they hire hit men outside of town to shoot up the Shayne Loan building), won't give up his company, and this eventually costs him his life when a warning through the use of brute force, leads to his being killed. Sheba will get her revenge on all those responsible for his father's death. In other words, Shark's ass is grass..can you dig it? Seeing Grier with a magnum is enough to sell this particular film, the novelty of the setting being in Louisville is part of the package. You even get to see a speedboat chase, Grier in shootouts with gangsters(..not necessarily the most polished kind one might be accustomed to seeing in a Chicago or New York during this period in blaxploitation), lots of blood spurting from bullet-riddled bodies torn apart by gun-fire, and colorful characters(..such as a wimpy loan shark in pimp-dress named Walker and Pilot who is one of the least scary mobsters you are likely to see)who show up during the film, most having the misfortune of coming in contact with a very angry Sheba. The plot itself is nothing special, but Grier is always worth watching, and Girdler orchestrates plenty of action sequences to keep his target audience entertained. A modest success for Girdler, and one of his more accomplished films.",
         "7",
         "pos",
         "1",
         "test",
         "12353"
        ],
        [
         "25",
         "tt0073697",
         "movie",
         "'Sheba, Baby'",
         "'Sheba, Baby'",
         "1975",
         "\\N",
         "90",
         "0",
         "Action,Crime,Drama",
         "5.8",
         "1204",
         "Pistol-packing Pam Grier takes names and kicks butt as the heroine in \"Asylum of Satan\" director William Girdler's entertaining blaxploitation actioneer \"Sheba Baby,\" co-starring D'Urville Martin and Austin Stoker. \"Sheba Baby\" is one of several tough chick flicks that Grier appeared in during the 1970s, including \"Coffy,\" \"Foxy Brown,\" and \"Friday Foster.\" The short-lived Girdler co-wrote this thoroughly routine private eye potboiler with producer David Shelton in one night and it features a headstrong female shamus that refuses to rely on a man to help her take care of business. Unfortunately, \"Sheba Baby\" isn't nearly as good as the blaxploitation movies that Grier made under the supervision of director Jack Hill. Hill helmed the African-American North Carolina native in \"Coffy,\" \"Foxy Brown,\" \"The Big Bird Cage,\" and \"The Big Doll House.\" Anybody that analyzes images of African-American women in cinema should be familiar with these epics. The chief problem with \"Sheba Baby\" is that our heroine gets too many convenient breaks. Naturally, the secondary villains are trigger happy clowns that couldn't hit the side of a barn with a howitzer. As the main antagonist, Dick Merrifield qualifies as both an egotistical as well as smarmy villain with choice lines like: \"Anything worth having is worth stealing.\" Additionally, composer Monk Huggins does provide a strong, atmospheric orchestral soundtrack, and the best song, with Barbara Mason warbling it, is \"Good Man Is Gone.\" \"Sheba Baby\" casts Grier as stylist Chicago gumshoe Sheba Shayne. She leaves the Windy City to return to her hometown of Louisville, Kentucky, to help out her father. When she arrives in Louisville, Sheba learns that her father, Andy (Rudy Challenger of \"Detroit 9000\"), is having trouble with a local black gangster nicknamed Pilot (cigar-chomping D'Urville Martin of \"Hammer\") who demands that Andy sell out his loan company to Pilot or die. Initially, Pilot dispatches a goon squad to trash Andy's office, but our heroine's father catches them in the act. They turn Sheba's father into a punching bag. Interestingly, during the fight scene, Girdler rarely shows fists smashing flesh. Earlier, Andy's right-hand man, Brick Williams (Austin Stoker of \"Horror High\"), had sent Sheba a telegram requesting that she return to Louisville, but she didn't receive it immediately thanks to her lazy partner who didn't know where to find her. Brick and Sheba hook up, rekindle their romantic flames, and share a night in the sack. Brick spends most of his time urging Sheba to remain calm in the face of adversity. As a former Louisville, Kentucky, police woman, Sheba prefers to shoot first and ask questions second. After she arrives home, Sheba borrows her father's car and barely escapes being blown to bits. As she is walking out the door to get into her father's car, Andy receives another harassing call from Pilot. Previously, Andy had refused to discuss the prospect of selling his loan company to Pilot, but Andy changes his mind and agrees to talk with the hoodlum. A gratified Pilot warns Andy about the dynamite that has been attached to his ignition with a delayed action fuse. In other words, cranking up the car won't trigger the explosion; the explosion comes ten seconds later. Andy and Brick rescue Sheba before the car blows up. Earlier, Sheba had agreed to let her father handle his problems without her interference. \"Dad, I know you think I'm doing a man's job, but I'm not going to sit on the sidelines just because I'm a woman,\" Sheba tells him. After her near-death experience, Sheba vows to learn who sabotaged her father's car. She grilles an old contact from her days as a cop and threatens the guy with her gun to extract the information. Only after Sheba has ground the guy's face into a bucket of chlorine dust does he relent and tell her about a pay-off at the town's railroad museum. Brick accompanies Sheba and shooting ensues with a flustered Pilot getting away by the skin of his chin. Later, Pilot sends a quintet of out-of-town contract thugs armed-to-the-teeth to trash Andy's office. These gunsels ignore their no-kill orders. Not only do they shoot the loan company office to ribbons, but they also blast Sheba's dad with a shotgun. Sheba retaliates in short order. Wielding her nickel-plated revolver, she guns down three of the four assailants Dirty Harry style. The last hit-man discards his weapon and pleads for mercy. Sheba has her finger on the trigger when Homicide Detective Phil Jackson (Charles Kissinger of \"Abby\") and a uniform cop arrive on the scene. At the hospital, Andy Shayne dies holding his daughter's hand. Naturally, Pilot is furious at this revelation and his fury borders on apoplexy. Afterward, Sheba tracks down a loan shark, Walker (Christopher Joy of \"Cleopatra Jones\"), and pries information out of him about the Pilot while she holds him at gunpoint in a car wash. This is one of the better staged scenes with lots of ominous shots of the car wash equipment whirling and humming. Walker warns Pilot about Sheba. Pilot and his henchmen confront Sheba in a parking lot and swap lead. Sheba flees on foot to a nearby carnival. While the police corner one of Pilot's men, she deals with the others. Pilot shoots one of his own accidentally and Sheba runs him down. She pins Pilot to a roller-coaster track and threatens to hold him there until the roller-coaster cuts his head off. Pilot manages to escape after he has spilled his guts to Sheba about the identity and phone number of the big man, Shark (Dick Merrifield of \"The Hellcats\"), whose reputation is so immaculate that Detective Jackson describes him as \"the guy with all the right answers.\" \"Sheba Baby\" isn't top-notch Pam Grier. However, the idea that our heroine can handle everything by herself without help from guys makes it interesting as well as entertaining chick flick.",
         "8",
         "pos",
         "1",
         "test",
         "12352"
        ],
        [
         "26",
         "tt0073697",
         "movie",
         "'Sheba, Baby'",
         "'Sheba, Baby'",
         "1975",
         "\\N",
         "90",
         "0",
         "Action,Crime,Drama",
         "5.8",
         "1204",
         "Sheba Baby is always underrated most likely because it has a pg rating instead of the usual r rating that a Grier movie gets. all that the pg means is that Pam doesn't take her top off, she takes her top off in every other movie she's been in though so. it is more exciting than Coffy, more action. it takes off slow but by the time she's on screen the thrills have started. like Dolemite d'urville martin is the heavy trying to get Sheba's father, but she ain't having that. she wages a one woman war against martin and his gang of cronies. the best scene is with a stupid pimp in his car which i'm still laughing about. i thought it would be stupid because of the pg rating but i was wrong it replaces sex with violence and in a blaxplotation film that can only be good!",
         "8",
         "pos",
         "1",
         "test",
         "12354"
        ],
        [
         "27",
         "tt0073697",
         "movie",
         "'Sheba, Baby'",
         "'Sheba, Baby'",
         "1975",
         "\\N",
         "90",
         "0",
         "Action,Crime,Drama",
         "5.8",
         "1204",
         "Sheba Baby, is another Pam Grier Blaxploitation film. It was one of Pam's less visceral films of this genre. Pam plays Sheba Shane, who's a Chicago gumshoe. Sheba's father is the owner of a small loan company, in Missouri. When local mobsters try to run her father of of business, Sheba goes after the bad guys. Pam Grier had already made her mark in Blaxploitation films, by the time Sheba Baby came along. Fans of both Coffy and Foxy Brown, know that Pam is capable of an explosive intensity as an actress. In Sheba Baby, the fiery performance that viewers had come to expect from Pam, wasn't as evident in this film. Not that Pam doesn't kick-butt in Sheba Baby. She's just not as much of a runaway-train vigilante, as she was in her previous Blaxploitation films. The supporting cast in this film, are a distinct disappointment. So Sheba Baby is Pam's film, through and through. And though Pam's a bit more subdued than in her other films, she still gives a compelling performance in Sheba Baby. This film is definitely worth your time, if you're an ardent Pam Grier fan.",
         "8",
         "pos",
         "1",
         "test",
         "12355"
        ],
        [
         "28",
         "tt0073697",
         "movie",
         "'Sheba, Baby'",
         "'Sheba, Baby'",
         "1975",
         "\\N",
         "90",
         "0",
         "Action,Crime,Drama",
         "5.8",
         "1204",
         "Yeah, I guess this movie is kinda dull compared to some of Pam Grier's other films. The plot is overly familiar, the dialog stilted, and some of the acting isn't too good. But it's worth seeing for the lengthy stretch near the end of the film, where we see Ms Grier in a sexy blue wetsuit, with the zipper half unzipped. Yeah, it seems like a frivolous point when discussing an actress of Pam Grier's talent, but she also happens to be an extremely gorgeous woman, and back in the day, she had a body that wouldn't quit. It's nice to see it being showcased in a tight wetsuit. Rent the DVD, and then tell me I'm wrong. Can't, can you? That's because you know I'm right! :-) And yes, I really did give a 10 just for the wetsuit scenes! ;-)",
         "10",
         "pos",
         "1",
         "test",
         "12356"
        ],
        [
         "29",
         "tt0118523",
         "movie",
         "'Til There Was You",
         "'Til There Was You",
         "1997",
         "\\N",
         "113",
         "0",
         "Comedy,Romance",
         "4.8",
         "2625",
         "'Til There was You is one of the worst films we've ever seen. It fails in every respect. Jeanne Tripplehorn was better (as an actress...) in Waterworld. In comparison, this film is Dungworld. When a character stumbles once, or even twice, in the course of a film, one can understand it. But Jeanne's character falls, trips, stumbles so often that she might have a bit of Jerry Lewis in her. In her defence, each (prat?) fall was probably blocked, choreographed, and rehearsed. And rehearsed. Although this is bad enough for a film, the actors (Dylan McDermott and Jeanne Tripplehorn) seem to spend most of the plot going \"out for a smoke\" or trying to find a place to smoke. If the film was a diatribe on having no place to smoke- Ok - BUT, it isn't. However long this film runs, it is too long by 10 minutes past the running time. Oh, Jeanne Tripplehorn, ALMOST acts in a public forum meeting. You ALMOST see her break life into the character. Oh, it's ALMOST as convincing as her scene yelling at Michael Douglas in Basic Instinct--hmm, on second thought, not really. This is a film to avoid at all costs unless you need a cigarette and are trapped in nicotine addicts anonymous or forced to watch outtakes of HOOPER (Burt Reynolds). And even then, toss a coin or go to sleep.",
         "1",
         "neg",
         "0",
         "test",
         "3715"
        ],
        [
         "30",
         "tt0118523",
         "movie",
         "'Til There Was You",
         "'Til There Was You",
         "1997",
         "\\N",
         "113",
         "0",
         "Comedy,Romance",
         "4.8",
         "2625",
         "From the beginning, 'Til There Was You was on the right track, setting up for the big finish where it would all come together. But the thing is, it didn 't. I found the ending extremely disappointing, but maybe in someway it was the right ending; a little more realistic you could say. Judge for yourself.",
         "1",
         "neg",
         "0",
         "test",
         "3716"
        ],
        [
         "31",
         "tt0118523",
         "movie",
         "'Til There Was You",
         "'Til There Was You",
         "1997",
         "\\N",
         "113",
         "0",
         "Comedy,Romance",
         "4.8",
         "2625",
         "The film has weird annoying characters, strange unexplainable slapstick, and an insurmountable amount of dialogue about smoking. The movie has a contrived plot of a bitchy, empty-headed woman's (Jeanne Tripplehorn) search for love. Although who would ever like Jeanne's character, personality, or reading of the dialogue, I really cannot say. Except that she likes to smoke. Sarah Jessica Parker gives an interesting character performance (who likes to smoke). Dylan McDermott does his best to look pretty and soulful (as he smokes). And, hey, what is Jennifer Aniston doing there? Oh, she's not really in it enough for anyone to care about her. (But she likes to smoke). This is a waste of anyone's time. I don't even know how I was able to sit through as much of the movie as I did. I can't even believe I spent the time to write this, except to warn others of its banality. Anyone need a cigarette?",
         "3",
         "neg",
         "0",
         "test",
         "3717"
        ],
        [
         "32",
         "tt0090556",
         "movie",
         "'night, Mother",
         "'night, Mother",
         "1986",
         "\\N",
         "96",
         "0",
         "Drama",
         "7.6",
         "2070",
         "************* SPOILERS BELOW ************* \"'Night, Mother\" is the story of Jesse (Sissy Spacek), a divorced epileptic woman who calmly announces to her brash mother (Anne Bancroft) that she's going to commit suicide. This is a fascinating premise that is drained of all vitality and excitement. The brilliant hook turns out to be a cheat- the story that follows is lacking in substance, gravity and revelatory value. Where are the shocks and surprises as mother and daughter have what may be the last conversation of their lives? Where are the secrets revealed, the confessions and fantasies and regrets? They're here, but they've all been painted the same dull color that keeps emotion in the background and celebrates the 'genius' of playwright Marsha Norman at the expense of everything else. The result is not a film but an exhausting endurance test. Let me preface my comments by saying I find Sissy Spacek to be one of the greatest actresses in the history of motion pictures, a woman so magnetic, so natural that she continues to surprise and amaze me after twenty years of stardom. She brings a touch of class and magic to everything she does, and I've seen her rescue more than one film from the recycling bin with her angelic face and vulnerable eyes, her soft voice and sweet smile. It was because of the great Spacek that I watched this film in the first place, and for one of her movies to be terrible it has to fail in a significant way. This film fails in two. First and foremost the film is adapted so faithfully from the Pulitzer-winning stage play that it is claustrophobic and repetitive. The entire movie is a two-woman dialogue between Jesse and her Mother. What worked on stage- a middle-aged mother and daughter argue for two hours in small house- dies on film. A play, no matter how great, needs to be *adapted* for the screen it is self-indulgent and arrogant to believe that the dialogue is so perfect that not of a word of it can be altered. The screenplay for this film could have been shortened by thirty to forty pages, and a knowing screenwriter would have given the brilliant Spacek and competent Bancroft some *physical* sequences, some facial reactions, something to break up the wall-to-wall yak fest and prison-like single-set. It is no wonder that the screenplay was adapted by the original playwright Marsha Norman, who may know theater but reveals herself here to be clueless in film. I cannot over-emphasize the effect the stage-play script has on the film. Watching Jesse and her Mother argue about Jesse's impending suicide is redundant and dull. The women walk from the living room into the kitchen into the den and back into the living room, where they start all over again. A tiny Midwestern house is not the ideal location for a single-set film, and the director never tries anything clever or original, never tries to break up the monotony with an exterior shot or cutaway or a flashback or *anything*. There's no music, no other characters, no other stories... just two women covering the couch cushions and arguing their opinions. The reverence given to the play is sickening even Shakespeare's most solemn classics get shaken up for the screen. The commitment to the original play seems almost spiteful it's as if the film was made only to document the dramatic treasure that was the stage play, with the audience an afterthought. The other reason the film fails is Anne Bancroft. She may be a good stage actress but on film- where presence is 80% of performance- she rarely seems to fit. She certainly doesn't fit here, playing a Midwestern grandmother but looking more like Mrs. Robinson before her morning coffee. She chases Jesse around the house, looking more aggravated than astounded, and seems extraordinarily unsympathetic, even when her lines convey a loving- if flawed- woman. Sissy Spacek is great as she always is, honest and open and so good that you actually understand and agree with her character's choice. Sissy lets us see that Jesse is a flat tire, a wrong turn of a woman who has had every bad break and made too many wrong choices. She's never had control of her life, and her suicide will be her way of finally saying \"No more- this is where I get off.\" That's how she puts it anyway, and when Spacek speaks you listen. She proves in all her films that a good actress doesn't have to behave like a man, doesn't have to be all bluff and bravado and borrowed testosterone. In this and in films like \"Coal Miner's Daughter\" she quietly demonstrates a soft strength and quiet depth that is as impressive as it is hypnotic you can't help but fall in love. That's why it was so hard for me to watch \"'Night, Mother.\" Spacek is wasted in a stilted stunt of a film that never serves to engage or even distract. I would not recommend this movie to anyone except die-hard fans of Sissy like myself and even then you'll be disappointed. I do give the film an entire letter grade bonus for the ending, which is courageous enough to let the lead character do what's right for *her* and not pander to a hackneyed happy ending. GRADE: C",
         "2",
         "neg",
         "0",
         "test",
         "6139"
        ],
        [
         "33",
         "tt0090556",
         "movie",
         "'night, Mother",
         "'night, Mother",
         "1986",
         "\\N",
         "96",
         "0",
         "Drama",
         "7.6",
         "2070",
         "I had the privilege of seeing this powerful play on Broadway with Kathy Bates in the lead. I only saw one other play in the 1970's-1990's that had an emotional impact like this play did. I really looked forward to the play being made into a movie but was very disappointed when I learned that Kathy Bates wouldn't reprise her role in the film--she wasn't well known off Broadway at the time and the producers must have wanted star power I suppose and cast Sissy Spacek instead. Sissy did an adequate job in the lead role but did not measure up to Kathy Bates in any way. I love Anne Bancroft but she seemed too young for this role. The movie plot was true to the play. Anyone who ever contemplates suicide should have to watch this movie to realize the devastation on those who are left behind.",
         "4",
         "neg",
         "0",
         "test",
         "6140"
        ],
        [
         "34",
         "tt0108999",
         "movie",
         "...And the Earth Did Not Swallow Him",
         "...And the Earth Did Not Swallow Him",
         "1994",
         "\\N",
         "99",
         "0",
         "Drama",
         "6.4",
         "126",
         "I rented this movie from a local library without having any prior knowledge of the book it is based on or the movie itself, purely based on the chance that it's one of those rare, overlooked gems that one can discover from time to time and really enjoy. Unfortunately this is not one of those movies. I am not sure if this is a movie driven by sentimentality or worse, deliberate agenda, but certain elements of it made it impossible to immerse. It is supposed to portray a struggling immigrant worker community which tries to cope with the difficult realities of their life. That is a fine premise and it could have made for a gripping story, but the execution just made me alternate between getting annoyed and amused at the ridiculousness of it. Here we have a community of simple farm workers who migrated to the US in search of employment and who get used and abused repeatedly by evil white men. And when I say evil - I mean EVIL. All white people in this movie are sinful, racist, sadistic, abusive devils whose sole purpose in life is sexual depravity intertwined with exploiting the poor immigrants. It would be a sad story if it wasn't so unintentionally grotesque and therefore hilarious. The portrayal of the immigrants is also a poster-worthy example of exaggeration except that it goes in the opposite direction. The immigrants are saintly, clean and could serve as ointment for boo-boos and ouies the world over. I couldn't help but laugh when I saw these \"field workers\" presumably digging in the ditches all day with their notoriously clean clothes and chiseled hair cuts from a top notch hair salon. A little restraint and a more unbiased hand at the helm could have made this a much better movie evoking some intended emotion rather than sarcastic snickers.",
         "3",
         "neg",
         "0",
         "test",
         "3142"
        ],
        [
         "35",
         "tt0108999",
         "movie",
         "...And the Earth Did Not Swallow Him",
         "...And the Earth Did Not Swallow Him",
         "1994",
         "\\N",
         "99",
         "0",
         "Drama",
         "6.4",
         "126",
         "The movie \". . . And The Earth Did not Swallow Him,\" based on the book by Tomas Rivera, is an eye-opening movie for most people. It talks about the exploitation that migrant farmworkers go through in order to survive. Sergio Perez uses impressionistic techniques to depict Rivera's story. He uses sienna and gray-scale effects to depict some of the scenes, and he uses specific photographic techniques to make the scenes look like they took place in the 1950s. Perez also gives life to the film by using time-appropriate music, including balladeering and guitar playing. I feel that it is a good film to view because it shows in detail how migrant farmworkers live, what they do for entertainment, and their beliefs.",
         "8",
         "pos",
         "1",
         "test",
         "11621"
        ],
        [
         "36",
         "tt0108999",
         "movie",
         "...And the Earth Did Not Swallow Him",
         "...And the Earth Did Not Swallow Him",
         "1994",
         "\\N",
         "99",
         "0",
         "Drama",
         "6.4",
         "126",
         "I was very moved by the young life experiences of a man who rose so high in the academic world. A hard life surrounded by the love of a close family and extended family of companion workers created a person able to succeed in the world. For the most part the Hispanic culture is shown as I have always observed and admired - hardworking, optimistic, and truly family oriented. The points of religious superstition were quite authentic to the Catholic church. Without a doubt,the actress who played the mother deserves an Academy Award. Her prayers for her missing son moved me to tears. I will recommend this stunningly thoughtful film to my friends and family.",
         "10",
         "pos",
         "1",
         "test",
         "11622"
        ],
        [
         "37",
         "tt0108999",
         "movie",
         "...And the Earth Did Not Swallow Him",
         "...And the Earth Did Not Swallow Him",
         "1994",
         "\\N",
         "99",
         "0",
         "Drama",
         "6.4",
         "126",
         "Recently finally available in DVD (11/11/08), Severo Pérez' film...and the Earth Did Not Swallow Him (1994) is based on one of the most highly regarded and discussed novels in Chicano literature. Tomás Rivera's ...y no se lo tragó la tierra/ ...and the Earth Did Not Devour Him (1972) is still generally acknowledged by many critics and serious readers as the classic Chicano novel. Originally written in the Spanish characteristic of South Texas and also translated into English, Rivera's novel continues as an indispensable presence within the Chicano literary landscape. Perez' film, originally made as a highly-rated American Playhouse PBS production has taken some time to be released in DVD. One can only wonder about this matter because its high quality is not an issue. The film, and now DVD, however, remains, so far as I know, the only cinematic adaptation of any Chicano novel and clearly is a tribute to Earth's incredible staying power. This cinematic version also strikes an exceptionally deep-rooted nerve that is, I maintain, both specifically ethnic, yet also generally universal. Doubts about Earth perhaps might have arisen because it is too \"ethnic,\" too alien from a basic American mainstream, too much a \"foreign\" art indie, too limited in economic resources. Yet, Perez in his version of art, in my opinion connects very effectively, artistically, and creates a sharply-etched portrayal of a Chicano migrant collectivity that focuses on daily family life. As far as a production done with relatively limited economic resources, its lovely cinematographic work and haunting music go much beyond its available funding. Simply viewing the film makes manifest this film's (or DVD) artistic value. Briefly, .and the Earth did not Swallow Him portrays in a neo-naturalistic way the plight, the suffering, and the despair of Chicano migrant laborers as they follow the crops northward from South Texas to Minnesota in 1952. The local priests bless the beat-up, overstuffed vehicles of these Chicano laborers who can no longer find work in the area and must follow the agricultural trail of the migrant worker northward. This Chicano collectivity, like the depression-era Joads in Steinbeck's The Grapes of Wrath, forms an epic tide, driven by economic need, a survival instinct, and anguished despair, and ultimately a barely flickering faith. A tribute to these people of the earth, a collective hero, the DVD is centered on a focal family, and most especially emblematic is a young protagonist within the family, a boy, perhaps twelve or so. This work then, also, functions as a bildungsroman. Ultimately, the viewer's sense of identification is generated through the experiences, subjectivity, and the struggles of the protagonist. Poverty, alienation, child labor, illness (sunstroke and a pregnancy death), discrimination, school absenteeism (the boy's escapism from the bullies of discrimination is spent lying down in a lovely, peaceful cemetery) are laid bare as matter of factyet, also symbolically. Worse still, the problematic conflict between the youngster and his mother goes beyond socio-economics and political conflict, into deeper realms of psychology and metaphysics. In a desperate but artistically rendered struggle, the youth battles his mother, an archetypical Mexican-American traditionalist, a representative of god's will, content with prayer, resignation, consolation, and acceptance. The rebellious youth cannot believe in a god that would permit such evil and suffering to be visited upon them. How can God be so cruel, he asks, since his little sister is certainly purely innocent, as to come down with serious illness in the fields? At this point, the boy must overcome obstacles even more daunting than poverty and discrimination. The issues now include death, doubt, and despair, and lack of meaning. And he has few resources available to himstrength of character, his own will power, his intelligence, and a powerful survival instinct. In this desperate, but artistically rendered struggle, the unnamed youngster, the central figure, feels the necessity of his enduring, of his achieving a heightened sense of meaning, and, the viewer hopes, a renewed and strengthened Life Force that can serve as an inspiration to Chicanos and others. This stark battle makes use of a plot device just touched on by the original work to tie the episodic work together: missing immigrant laborers from Mexico who leave no trace upon their death, although this DVD deals not with Mexican but Mexican-American migrant laborers A highly existential work: anguish and despair; a quest; a focus on a Project; and redemptionall under the auspices of free will in spite of the deterministic socio-economic and religious circumstances. Perez has a long list of credits basically as a documentary filmmaker. His many awards are confirmatory. The producer Paul Espinosa is also well-known and has been likewise honored for his work. The 1994 film, in fact, won and deserved a number of awards: first place, audience favorite at the Santa Barbara Film Festival in 1995; first place at the Cairo Film Festival; and a number of other well-deserved awards. In my opinion this film and DVD, Earth, by Perez is the best Chicano film that has been made.",
         "10",
         "pos",
         "1",
         "test",
         "11623"
        ],
        [
         "38",
         "tt0636268",
         "tvEpisode",
         "...In Translation",
         "...In Translation",
         "2005",
         "\\N",
         "43",
         "0",
         "Adventure,Drama,Fantasy",
         "8.5",
         "4247",
         "I know that in this episode there's other stuff apart from what I am going to discuss, and in fact I think it has some virtues; for example, the fact, after we had been given a very negative opinion of Jin from seeing Sun's flashbacks in \"House of the Rising Sun\", we get to see Jin's side of things and get a new, more balanced understanding of his life. But there is an element in this story that made me so deeply uncomfortable that it greatly dampened my enjoyment of the whole episode. Before now, in the scene where Jin appeared with blood on his hands and shirt, it had been hinted that Sun's father was someone who was getting rich through shady, illegal methods. I thought maybe he was a mob boss, even; mobs operate in Korea, just like in almost every other country in the world, so it was a reasonable possibility. However, in this episode we learn that Sun's father is in fact the boss (or a top executive) of a Korean automotive company, and that what Jin had been doing was physically attacking a government official (who was actually going to be murdered) on his behalf. I may be especially touchy about this because I happen to work in the automotive industry, but I would say it is SPECTACULARLY offensive and racist to even suggest that this kind of thing goes on in Korea; that huge, serious companies like Hyundai or Kia (which must be the model for this fictitious car company, as they are the only ones that actually exist in reality) operate with these mafia-like methods, instead of like any normal automotive company of the West. it is just unbelievable to me that the writers would have the gall to write something like that into the story, and that there hasn't been an uproar in Korea over it. It feels like extraneous \"Buy American!\" propaganda, portraying foreign car companies as criminal, untrustworthy, third-world outfits.",
         "4",
         "neg",
         "0",
         "train",
         "8630"
        ],
        [
         "39",
         "tt0109000",
         "movie",
         "00 Schneider - Jagd auf Nihil Baxter",
         "00 Schneider - Jagd auf Nihil Baxter",
         "1994",
         "\\N",
         "90",
         "0",
         "Comedy",
         "7.1",
         "2431",
         "I'm sorry but I cannot even partly agree with some comments on this awful piece of sh... English is not my native language, because I'm a German citizen, so please do not blame me for inappropriate grammar structures or something *gg I cannot understand why this movie got such a high rating? 6.3??? Are you kidding me? This movie has completely no sense, not even a seem of good acting... When I looked at the comments on The Da Vinci Code, which has - I think - nearly the same rating, I had to bang my head on the table , because I watched 00 Schneider directly after Sakrileg, and oh my god , there are worlds between them. The majority of the posters in this board tears every hyped movie to pieces while rating this crime of movie making with a 6.3 and denominates Helge as a genius. Of course , he knows how to make money, but I think the main aspect of your opinions is the fact, that German isn't your native language and you just ignore - or rather don't notice the bunch of crap which is said in the sentences. OK , I must confess that some scenes ARE funny, but all in all , a 6.3 is just too much for my compatriot ;)",
         "4",
         "neg",
         "0",
         "test",
         "1357"
        ],
        [
         "40",
         "tt0109000",
         "movie",
         "00 Schneider - Jagd auf Nihil Baxter",
         "00 Schneider - Jagd auf Nihil Baxter",
         "1994",
         "\\N",
         "90",
         "0",
         "Comedy",
         "7.1",
         "2431",
         "i consider this movie as one of the most interesting and funny movies of all time. It has so much highly intelligent thoughts in it, that anybody who thinks the movie is awful did not get it and is not able to recognize really deep philosophical themes, which are in it (in all the 3 Schneider movies) without a doubt. Several universities in germany and throughout europe have made studies on Schneider's way of seeing things. By the way, Helge Schneider is a very intelligent and sensitive person and on of the Jazz-musicions in germany (maybe europe). He is mostly inspired by the great M.Davis and T.Monk. So if you do not like him, it is ok, but please do not try to convince others that he might be stupid, cheap, boring or not funny. Because if you had to face this opinion in a discussion and if you are willing to really look into the art of H.Schneider you would have to \"surrender\".",
         "10",
         "pos",
         "1",
         "test",
         "5270"
        ],
        [
         "41",
         "tt0109000",
         "movie",
         "00 Schneider - Jagd auf Nihil Baxter",
         "00 Schneider - Jagd auf Nihil Baxter",
         "1994",
         "\\N",
         "90",
         "0",
         "Comedy",
         "7.1",
         "2431",
         "Helges best movie by far. Very funny, very surrealistic. If Bunuel made a movie starring Buster Keaton as Krusty the Clown it would look like this. Brilliant performances by the cast we already know from other Schneider movies, especially Helmut Körschgen as the sidekick of 00Schneider. (Andreas Kunze who once more plays the wife in this one is a bit annoying though). And of course Helge himself as Nihil Baxter is absolutely incredible. P.S: if this movie had a proper merchandising i would really like to buy a replica of that \"Holz ist\" painting.",
         "10",
         "pos",
         "1",
         "test",
         "5271"
        ],
        [
         "42",
         "tt0109000",
         "movie",
         "00 Schneider - Jagd auf Nihil Baxter",
         "00 Schneider - Jagd auf Nihil Baxter",
         "1994",
         "\\N",
         "90",
         "0",
         "Comedy",
         "7.1",
         "2431",
         "The phenomenon Helge Schneider defies easy description or quick categorization. Yet, for the international audience not acquainted to him, one could say he's something like a crude mix of Weird Al Yankovich and Andy Kaufman, adding a foible for Jazz music and 70s outfits. While his stage performances already are eccentric, his movie works are simply hilariously outrageous. \"00 Schneider\" is, in my opinion, Helge's best movie. He stars in the two leading roles - police detective \"Kommissar 00 Schneider\" and murderer-villain \"Nihil Baxter\", and also in a precious smaller role as physician \"Dr. Hasenbein\". In the opening scene, we see how modern-art-loving Baxter accidentally kills the circus clown Bratislav Metulskie, from whom he has bought a malfunctioning used Jaguar, when a beloved sculpture slips out of Baxter's hands, fatally hitting Metulskie. Upon reading about the incident in the newspaper, 00 comes back from retirement to investigate the case with the support of his loyal sidekick, Lt. Koerschgen, who is played by an elderly actor bearing the same name. They pick up Baxter's track quickly, and interrogate him at his weirdly decorated mansion (one of the movie's best scenes!), but initially fail to gather any proof. The story winds through many turns, with several scenes that don't always really contribute to the progress of the plot but are hilariously funny, such as a daydream by 00 (including the most unusual view on a running man's brief-clad crotch in movie history), a police-department party during which Koerschgen gets into a row with the chief and has to be hospitalized, and a visit at the already mentioned Dr. Hasenbein's. Baxter, then, is finally caught attempting to escape to Rio de Janeiro on a plane. Always worth special mention is Andreas Kunze who in this case plays 00's wife, as he's usually appearing in drag performing women's roles in Helge's Movies. So all you folks out there looking for new laughs, I strongly recommend this movie. The catch? You have to understand German (as I doubt there's an English version around)...",
         "10",
         "pos",
         "1",
         "test",
         "5272"
        ],
        [
         "43",
         "tt0499603",
         "movie",
         "10 Items or Less",
         "10 Items or Less",
         "2006",
         "\\N",
         "82",
         "0",
         "Comedy,Drama",
         "6.6",
         "14062",
         "While watching this movie, I came up with a script for a movie, called \"The Making of 10 Items or Less\": Producer: I've got good news and bad news. The good news is, we can get Morgan Freeman! Writer: That's great! But what's the bad news? Producer: We can only afford to hire him for one day. I guess we'll have to get someone else. Writer: So we hire him for one day. A movie is an hour and a half long. A work day is eight hours long. I fail to see a problem. Producer: But... he'll have to spend time getting into character. Writer: So we have him play a character who is essentially himself. Producer: But he'll still need to understand his motivation and all that. You're not saying we have him play a big-name actor that's doing a low-budget movie, are you? Writer: Why not? Producer: That's ridiculous! But fine, at least we'll have Morgan Freeman in our movie. And I guess we have to set the movie in Los Angeles too. Writer: Of course. Producer: This script is a load of crap. We'd better make money on this. Just in case, have Morgan Freeman's character plug Wal-Mart or Target or one of those stores, so at least someone will want to sell the DVDs. Writer: Sure thing! Producer: Wait a second... what's this about a tiny bodega with a \"ten items or less\" express lane? Writer: Oh, I guess that is pretty weird. But we can't change the title now! I doubt my script actually bears much resemblance to reality, but then neither did \"10 Items or Less\". This is a case of good acting, but bad writing, and I hate to see it happen. When watching an independent movie, you expect it to try to convey some sort of message. I think they might have been trying for the tired old \"don't let anything hold you back\" message that has been done to death in much better films. In any case, with \"10 Items or Less\", the only message I got was \"Look! Look at Morgan Freeman!\"",
         "2",
         "neg",
         "0",
         "train",
         "1412"
        ],
        [
         "44",
         "tt0499603",
         "movie",
         "10 Items or Less",
         "10 Items or Less",
         "2006",
         "\\N",
         "82",
         "0",
         "Comedy,Drama",
         "6.6",
         "14062",
         "I love Morgan Freeman. Paz Vega is an attractive, appealing and talented actress. I'm sure that this would have been a good movie had anything happened in it. Nothing does. It's short (less than 90 minutes). It was 75 minutes too long. After an hour of frustration, I scanned through the remaining 20-odd minutes. Excruciating. Freeman plays an actor - who hasn't worked in a while - researching a part that he might play, as a checkout clerk in a supermarket. He visits the supermarket where she works. Nothing happens. She decides to give him a ride home and they go to an Arby's, a Target, a car wash. Nothing happens. They converse about their lives. Nothing happens. Ever. I don't get it. But I also don't get the Bill Murray flicks \"Lost In Translation\" and \"Broken Flowers\". If you like those movies, maybe you'll like this. Lots of people find movies like this whimsical, charming, or - for reasons that escape me - find the dialog fascinating. A common device in movies of this ilk is to have a LONG take of stillness/silence after an actor delivers a line that's supposed to be meaningful. We know it's meaningful because it's followed by two minutes of nothing on the screen. Sorry, I must be a philistine. I don't get it. To me, these kinds of movies aren't funny, or charming, or thought-provoking. They're just boring. Why? Because there's no comedy. No drama. No tension. No laughs. No suspense. No action. Nothing to watch. In short, none of the things I go to the movies for. I can be bored for free. I see oddball/quirky characters in real life. I go to Target, and fast-food restaurants, and car-washes. These elements do not a movie make, even if stars are doing this stuff. I pay to be entertained. If you're crazy about Morgan Freeman and just like to hear him ramble on about nothing, have fun. If you wanna drool over Paz Vega, you can look and listen to her. But nothing happens, I promise. A total snoozefest.",
         "2",
         "neg",
         "0",
         "train",
         "1413"
        ],
        [
         "45",
         "tt0499603",
         "movie",
         "10 Items or Less",
         "10 Items or Less",
         "2006",
         "\\N",
         "82",
         "0",
         "Comedy,Drama",
         "6.6",
         "14062",
         "After I watched this movie, I came to IMDb and read some of the reviews, which compared it to Lost In Translation LITE. When I read that I immediately could see the reviewers point. This movie was a poor attempt at a similar theme. Interestingly, the format of the movie is nearly identical, but the PACING is incredibly different. \"10 Items\" rushes the viewer through the 1-day time line of the movie, whereas the better-planned \"Lost In...\" seems to stretch out over a few long days. I'm sure some people will see this because it has Morgan Freeman, and will be disappointed. It seems his better roles now-a-days are supporting roles in big blockbusters, rather than leading roles in sub-$10mil limited release movies and indie films.",
         "3",
         "neg",
         "0",
         "train",
         "1414"
        ],
        [
         "46",
         "tt0499603",
         "movie",
         "10 Items or Less",
         "10 Items or Less",
         "2006",
         "\\N",
         "82",
         "0",
         "Comedy,Drama",
         "6.6",
         "14062",
         "Not really spoilers in my opinion, but I wanted to cover myself, nevertheless. As the executive producer, Morgan Freeman wants the audience to ignore the numerous absurdities of his character in 10 Items Or Less, a movie with an intentional indie-feel, and just be absorbed in the mentor/be-all-that-you-can-be theme. He plays a alternate universe, semi-washed up version of the real Morgan Freeman, who is chauffeured in an old Econovan by a kid all the way into Carson, CA from Brentwood to research his next movie role. Why Carson, is a mystery to So. Cal residents. He could have saved the trip and gone anywhere in the San Fernando Valley and found the same elements. Paz Vega is pretty to watch, a cross between Salma Hayek and Penelope Cruz, playing a disgruntled grocery checker at a large but slow local market that apparently is the ultimate source for Moragn Freeman's research. His character is only known as \"Him\" to allude to how actors are regarded when encountered in real life by average people-\"Psst, that's 'him,' etc. Unfortunately, I was too distracted that Him had all kinds of worldly wisdom and advice but had no reliable return back to his home in Brentwood, carried no cash or debit card, or had the wisdom to keep a cell phone with him. If one has such a high opinion of their self that they believe they possess an answer to everything like Him does, then I gotta see cash and a Blackberry which displays intelligence and good survival instincts to preserve that big ego which Him definitely has. Nothing really happens in this movie. I don't believe that either of the main character's were substantially changed by their encounter with each other. It flirts with the idea of adultery, but then that thought fizzles. This to me was similar to Steve Martin's Shopgirl, without the sexual affair. It was self-indulgent for Freeman and unconvincing to the audience.",
         "4",
         "neg",
         "0",
         "train",
         "1409"
        ],
        [
         "47",
         "tt0499603",
         "movie",
         "10 Items or Less",
         "10 Items or Less",
         "2006",
         "\\N",
         "82",
         "0",
         "Comedy,Drama",
         "6.6",
         "14062",
         "A still famous but decadent actor (Morgan Freeman) has not filmed for four years. When he is invited to participate in a new project, he asks the clumsy cousin of the director to drop him in a poor Latin neighborhood in Carlson to research the work of the manager of a small supermarket. He sees the gorgeous Spanish cashier Scarlet (Paz Vega) and he becomes attracted with her ability. His driver never returns to catch him and Scarlet gives a ride to the actor. But first she has a job interview for the position of secretary in a construction company and the actor helps her to be prepared; then they spend the afternoon together having a pleasant time. I am a big fan of Morgan Freeman and Paz Vega. However, the pointless \"10 Items or Less\" is absolutely disappointing. This low-budget movie does not seem to have a storyline, and is supported by the chemistry and improvisations of Morgan Freeman and Paz Vega and actually nothing happens along 82 minutes. The ambiguous open conclusion is simply ridiculous, with the character of Morgan Freeman returning to his silver spoon world and telling the simple worker that they would never see each other again. Was he afraid to have a love affair with her and destroy his perfect world with his family? Or was a clash of classes, and he realizes that his fancy neighborhood would not be adequate to a simple worker from the lower classes? My vote is four. Title (Brazil): \"Um Astro em Minha Vida\" (\"A Star in My Life\")",
         "4",
         "neg",
         "0",
         "train",
         "1410"
        ],
        [
         "48",
         "tt0499603",
         "movie",
         "10 Items or Less",
         "10 Items or Less",
         "2006",
         "\\N",
         "82",
         "0",
         "Comedy,Drama",
         "6.6",
         "14062",
         "This movie was great the first time I saw it, when it was called \"Lost in Translation.\" But somehow Bill Murray turned into an eccentric black man played by Morgan Freeman, Scarlett Johansson turned into a cranky Latino woman played by Paz Vega, and Tokyo, Japan turned into Carson, California. Instead of meaningful conversations and silence we enjoyed in Translation, we get meaningless blabbering in 10 Items that verges on annoying. Instead of characters that were pensive and introspective as in Translation, we get characters that spew pointless advice on topics they have no clue about. How can a character that wears hundred dollar T-shirts and has never been inside a Target department store expect to give advice to a working-class woman on how to prepare for a job interview as an administrative assistant? Don't think that stops him. If he isn't giving her clothing advice, he's telling her what she should eat. The most annoying part of the movie for me was how supposedly they were in a hurry to make an appointment, and yet the characters keep finding time to run another errand, be it washing the car, stopping at Arby's, or just laying around to list off their 10 Items or Less lists of things they love and hate. I kept wanting to yell at them saying, \"Didn't you say you had somewhere to be? What the heck are doing? A minute ago you were practically late, now you're eating roast beef and pondering your lives!\" Until I saw this movie, I never truly understood how something could \"insist upon itself,\" but I think this movie does exactly that, and undeservedly so. The dialogue makes the characters cheesy and unsympatheticwith the exception that I felt sorry for both of the actors for having signed onto this project.",
         "4",
         "neg",
         "0",
         "train",
         "1411"
        ],
        [
         "49",
         "tt0499603",
         "movie",
         "10 Items or Less",
         "10 Items or Less",
         "2006",
         "\\N",
         "82",
         "0",
         "Comedy,Drama",
         "6.6",
         "14062",
         "I had high expectations for this indie having perused the many thumbs up reviews. Then.... Here's my additional 'two cents' to the already posted, excellent 'lost in translation' review. Premise: Morgan is 'stuck' in a dusty small town where he meets lovely Scarlet who is working in the local supermarket. Can Morgan help elevate the lovely Scarlet from her trailer trash life? Realistic dialog? NOT. How about that shopping in Target. First, Freeman looks at the Target interior as if he's walked into Harrods. Then, he's bowled over at a T-shirt rack confirming he has NEVER been in any store visited by lovely Scarlet. Morgan is detached from any and all aspects of Scarlet's reality and is portrayed as gleeful in his ignorance of everyone and everything in Scarlet's life. One reviewer enjoyed the Scarlet and ex-hubby fight scene where her survival, a car in this instance, requires she physically attack her ex hubbie. Does Freeman run to her defense....naw...he's cowering in disbelief and totally incapable of dealing with such a blunt aspect of her very real, sorry lot in life. Freeman's character believes a car wash and new very revealing, tight fitting blouse is the key to Scarlet's job interview. Another sign that Freeman is CLUELESS. Freeman's endless 'stage talk' where all aspects of Scarlet's reality are reduced to one or another stage related Freeman experience was irritating. Freeman is right to emphasize that Scarlet is young with her future ahead of her and then conveniently ignores the brick walls she faces vis a vis: uneducated, no white collar skills or experience, VERY POOR, no family support and a lifetime of low self esteem. Scarlet learns such life lessons from Freeman as: some people pay $100 for a T-shirt and a revealing blouse may open doors in lieu of her lack of education and white collar job skills. In the end Freeman offers Scarlet little more than strange diversion with a 'star',not even paying for gas for Scarlet's dead of night return to her unchanged life in a town the name of which Freeman cares not to know.",
         "4",
         "neg",
         "0",
         "train",
         "1415"
        ]
       ],
       "shape": {
        "columns": 17,
        "rows": 47331
       }
      },
      "text/html": [
       "<div>\n",
       "<style scoped>\n",
       "    .dataframe tbody tr th:only-of-type {\n",
       "        vertical-align: middle;\n",
       "    }\n",
       "\n",
       "    .dataframe tbody tr th {\n",
       "        vertical-align: top;\n",
       "    }\n",
       "\n",
       "    .dataframe thead th {\n",
       "        text-align: right;\n",
       "    }\n",
       "</style>\n",
       "<table border=\"1\" class=\"dataframe\">\n",
       "  <thead>\n",
       "    <tr style=\"text-align: right;\">\n",
       "      <th></th>\n",
       "      <th>tconst</th>\n",
       "      <th>title_type</th>\n",
       "      <th>primary_title</th>\n",
       "      <th>original_title</th>\n",
       "      <th>start_year</th>\n",
       "      <th>end_year</th>\n",
       "      <th>runtime_minutes</th>\n",
       "      <th>is_adult</th>\n",
       "      <th>genres</th>\n",
       "      <th>average_rating</th>\n",
       "      <th>votes</th>\n",
       "      <th>review</th>\n",
       "      <th>rating</th>\n",
       "      <th>sp</th>\n",
       "      <th>pos</th>\n",
       "      <th>ds_part</th>\n",
       "      <th>idx</th>\n",
       "    </tr>\n",
       "  </thead>\n",
       "  <tbody>\n",
       "    <tr>\n",
       "      <th>0</th>\n",
       "      <td>tt0068152</td>\n",
       "      <td>movie</td>\n",
       "      <td>$</td>\n",
       "      <td>$</td>\n",
       "      <td>1971</td>\n",
       "      <td>\\N</td>\n",
       "      <td>121</td>\n",
       "      <td>0</td>\n",
       "      <td>Comedy,Crime,Drama</td>\n",
       "      <td>6.3</td>\n",
       "      <td>2218</td>\n",
       "      <td>The pakage implies that Warren Beatty and Gold...</td>\n",
       "      <td>1</td>\n",
       "      <td>neg</td>\n",
       "      <td>0</td>\n",
       "      <td>train</td>\n",
       "      <td>8335</td>\n",
       "    </tr>\n",
       "    <tr>\n",
       "      <th>1</th>\n",
       "      <td>tt0068152</td>\n",
       "      <td>movie</td>\n",
       "      <td>$</td>\n",
       "      <td>$</td>\n",
       "      <td>1971</td>\n",
       "      <td>\\N</td>\n",
       "      <td>121</td>\n",
       "      <td>0</td>\n",
       "      <td>Comedy,Crime,Drama</td>\n",
       "      <td>6.3</td>\n",
       "      <td>2218</td>\n",
       "      <td>How the hell did they get this made?! Presenti...</td>\n",
       "      <td>1</td>\n",
       "      <td>neg</td>\n",
       "      <td>0</td>\n",
       "      <td>train</td>\n",
       "      <td>8336</td>\n",
       "    </tr>\n",
       "    <tr>\n",
       "      <th>2</th>\n",
       "      <td>tt0313150</td>\n",
       "      <td>short</td>\n",
       "      <td>'15'</td>\n",
       "      <td>'15'</td>\n",
       "      <td>2002</td>\n",
       "      <td>\\N</td>\n",
       "      <td>25</td>\n",
       "      <td>0</td>\n",
       "      <td>Comedy,Drama,Short</td>\n",
       "      <td>6.3</td>\n",
       "      <td>184</td>\n",
       "      <td>There is no real story the film seems more lik...</td>\n",
       "      <td>3</td>\n",
       "      <td>neg</td>\n",
       "      <td>0</td>\n",
       "      <td>test</td>\n",
       "      <td>2489</td>\n",
       "    </tr>\n",
       "    <tr>\n",
       "      <th>3</th>\n",
       "      <td>tt0313150</td>\n",
       "      <td>short</td>\n",
       "      <td>'15'</td>\n",
       "      <td>'15'</td>\n",
       "      <td>2002</td>\n",
       "      <td>\\N</td>\n",
       "      <td>25</td>\n",
       "      <td>0</td>\n",
       "      <td>Comedy,Drama,Short</td>\n",
       "      <td>6.3</td>\n",
       "      <td>184</td>\n",
       "      <td>Um .... a serious film about troubled teens in...</td>\n",
       "      <td>7</td>\n",
       "      <td>pos</td>\n",
       "      <td>1</td>\n",
       "      <td>test</td>\n",
       "      <td>9280</td>\n",
       "    </tr>\n",
       "    <tr>\n",
       "      <th>4</th>\n",
       "      <td>tt0313150</td>\n",
       "      <td>short</td>\n",
       "      <td>'15'</td>\n",
       "      <td>'15'</td>\n",
       "      <td>2002</td>\n",
       "      <td>\\N</td>\n",
       "      <td>25</td>\n",
       "      <td>0</td>\n",
       "      <td>Comedy,Drama,Short</td>\n",
       "      <td>6.3</td>\n",
       "      <td>184</td>\n",
       "      <td>I'm totally agree with GarryJohal from Singapo...</td>\n",
       "      <td>9</td>\n",
       "      <td>pos</td>\n",
       "      <td>1</td>\n",
       "      <td>test</td>\n",
       "      <td>9281</td>\n",
       "    </tr>\n",
       "    <tr>\n",
       "      <th>...</th>\n",
       "      <td>...</td>\n",
       "      <td>...</td>\n",
       "      <td>...</td>\n",
       "      <td>...</td>\n",
       "      <td>...</td>\n",
       "      <td>...</td>\n",
       "      <td>...</td>\n",
       "      <td>...</td>\n",
       "      <td>...</td>\n",
       "      <td>...</td>\n",
       "      <td>...</td>\n",
       "      <td>...</td>\n",
       "      <td>...</td>\n",
       "      <td>...</td>\n",
       "      <td>...</td>\n",
       "      <td>...</td>\n",
       "      <td>...</td>\n",
       "    </tr>\n",
       "    <tr>\n",
       "      <th>47326</th>\n",
       "      <td>tt0068398</td>\n",
       "      <td>tvEpisode</td>\n",
       "      <td>Étude in Black</td>\n",
       "      <td>Étude in Black</td>\n",
       "      <td>1972</td>\n",
       "      <td>\\N</td>\n",
       "      <td>97</td>\n",
       "      <td>0</td>\n",
       "      <td>Crime,Drama,Mystery</td>\n",
       "      <td>7.7</td>\n",
       "      <td>2254</td>\n",
       "      <td>This is another of my favorite Columbos. It sp...</td>\n",
       "      <td>10</td>\n",
       "      <td>pos</td>\n",
       "      <td>1</td>\n",
       "      <td>test</td>\n",
       "      <td>6038</td>\n",
       "    </tr>\n",
       "    <tr>\n",
       "      <th>47327</th>\n",
       "      <td>tt0223503</td>\n",
       "      <td>tvMovie</td>\n",
       "      <td>Îhatôbu gensô: KENjI no haru</td>\n",
       "      <td>Îhatôbu gensô: KENjI no haru</td>\n",
       "      <td>1996</td>\n",
       "      <td>\\N</td>\n",
       "      <td>55</td>\n",
       "      <td>0</td>\n",
       "      <td>Animation,Biography,Drama</td>\n",
       "      <td>7.3</td>\n",
       "      <td>278</td>\n",
       "      <td>Talk about being boring! I got this expecting ...</td>\n",
       "      <td>4</td>\n",
       "      <td>neg</td>\n",
       "      <td>0</td>\n",
       "      <td>test</td>\n",
       "      <td>989</td>\n",
       "    </tr>\n",
       "    <tr>\n",
       "      <th>47328</th>\n",
       "      <td>tt0223503</td>\n",
       "      <td>tvMovie</td>\n",
       "      <td>Îhatôbu gensô: KENjI no haru</td>\n",
       "      <td>Îhatôbu gensô: KENjI no haru</td>\n",
       "      <td>1996</td>\n",
       "      <td>\\N</td>\n",
       "      <td>55</td>\n",
       "      <td>0</td>\n",
       "      <td>Animation,Biography,Drama</td>\n",
       "      <td>7.3</td>\n",
       "      <td>278</td>\n",
       "      <td>I never thought I'd say this about a biopic, b...</td>\n",
       "      <td>8</td>\n",
       "      <td>pos</td>\n",
       "      <td>1</td>\n",
       "      <td>test</td>\n",
       "      <td>4163</td>\n",
       "    </tr>\n",
       "    <tr>\n",
       "      <th>47329</th>\n",
       "      <td>tt0223503</td>\n",
       "      <td>tvMovie</td>\n",
       "      <td>Îhatôbu gensô: KENjI no haru</td>\n",
       "      <td>Îhatôbu gensô: KENjI no haru</td>\n",
       "      <td>1996</td>\n",
       "      <td>\\N</td>\n",
       "      <td>55</td>\n",
       "      <td>0</td>\n",
       "      <td>Animation,Biography,Drama</td>\n",
       "      <td>7.3</td>\n",
       "      <td>278</td>\n",
       "      <td>Spirit and Chaos is an artistic biopic of Miya...</td>\n",
       "      <td>9</td>\n",
       "      <td>pos</td>\n",
       "      <td>1</td>\n",
       "      <td>test</td>\n",
       "      <td>4164</td>\n",
       "    </tr>\n",
       "    <tr>\n",
       "      <th>47330</th>\n",
       "      <td>tt0223503</td>\n",
       "      <td>tvMovie</td>\n",
       "      <td>Îhatôbu gensô: KENjI no haru</td>\n",
       "      <td>Îhatôbu gensô: KENjI no haru</td>\n",
       "      <td>1996</td>\n",
       "      <td>\\N</td>\n",
       "      <td>55</td>\n",
       "      <td>0</td>\n",
       "      <td>Animation,Biography,Drama</td>\n",
       "      <td>7.3</td>\n",
       "      <td>278</td>\n",
       "      <td>I'll make this brief. This was a joy to watch....</td>\n",
       "      <td>10</td>\n",
       "      <td>pos</td>\n",
       "      <td>1</td>\n",
       "      <td>test</td>\n",
       "      <td>4165</td>\n",
       "    </tr>\n",
       "  </tbody>\n",
       "</table>\n",
       "<p>47331 rows × 17 columns</p>\n",
       "</div>"
      ],
      "text/plain": [
       "          tconst title_type                 primary_title  \\\n",
       "0      tt0068152      movie                             $   \n",
       "1      tt0068152      movie                             $   \n",
       "2      tt0313150      short                          '15'   \n",
       "3      tt0313150      short                          '15'   \n",
       "4      tt0313150      short                          '15'   \n",
       "...          ...        ...                           ...   \n",
       "47326  tt0068398  tvEpisode                Étude in Black   \n",
       "47327  tt0223503    tvMovie  Îhatôbu gensô: KENjI no haru   \n",
       "47328  tt0223503    tvMovie  Îhatôbu gensô: KENjI no haru   \n",
       "47329  tt0223503    tvMovie  Îhatôbu gensô: KENjI no haru   \n",
       "47330  tt0223503    tvMovie  Îhatôbu gensô: KENjI no haru   \n",
       "\n",
       "                     original_title  start_year end_year runtime_minutes  \\\n",
       "0                                 $        1971       \\N             121   \n",
       "1                                 $        1971       \\N             121   \n",
       "2                              '15'        2002       \\N              25   \n",
       "3                              '15'        2002       \\N              25   \n",
       "4                              '15'        2002       \\N              25   \n",
       "...                             ...         ...      ...             ...   \n",
       "47326                Étude in Black        1972       \\N              97   \n",
       "47327  Îhatôbu gensô: KENjI no haru        1996       \\N              55   \n",
       "47328  Îhatôbu gensô: KENjI no haru        1996       \\N              55   \n",
       "47329  Îhatôbu gensô: KENjI no haru        1996       \\N              55   \n",
       "47330  Îhatôbu gensô: KENjI no haru        1996       \\N              55   \n",
       "\n",
       "       is_adult                     genres  average_rating  votes  \\\n",
       "0             0         Comedy,Crime,Drama             6.3   2218   \n",
       "1             0         Comedy,Crime,Drama             6.3   2218   \n",
       "2             0         Comedy,Drama,Short             6.3    184   \n",
       "3             0         Comedy,Drama,Short             6.3    184   \n",
       "4             0         Comedy,Drama,Short             6.3    184   \n",
       "...         ...                        ...             ...    ...   \n",
       "47326         0        Crime,Drama,Mystery             7.7   2254   \n",
       "47327         0  Animation,Biography,Drama             7.3    278   \n",
       "47328         0  Animation,Biography,Drama             7.3    278   \n",
       "47329         0  Animation,Biography,Drama             7.3    278   \n",
       "47330         0  Animation,Biography,Drama             7.3    278   \n",
       "\n",
       "                                                  review  rating   sp  pos  \\\n",
       "0      The pakage implies that Warren Beatty and Gold...       1  neg    0   \n",
       "1      How the hell did they get this made?! Presenti...       1  neg    0   \n",
       "2      There is no real story the film seems more lik...       3  neg    0   \n",
       "3      Um .... a serious film about troubled teens in...       7  pos    1   \n",
       "4      I'm totally agree with GarryJohal from Singapo...       9  pos    1   \n",
       "...                                                  ...     ...  ...  ...   \n",
       "47326  This is another of my favorite Columbos. It sp...      10  pos    1   \n",
       "47327  Talk about being boring! I got this expecting ...       4  neg    0   \n",
       "47328  I never thought I'd say this about a biopic, b...       8  pos    1   \n",
       "47329  Spirit and Chaos is an artistic biopic of Miya...       9  pos    1   \n",
       "47330  I'll make this brief. This was a joy to watch....      10  pos    1   \n",
       "\n",
       "      ds_part   idx  \n",
       "0       train  8335  \n",
       "1       train  8336  \n",
       "2        test  2489  \n",
       "3        test  9280  \n",
       "4        test  9281  \n",
       "...       ...   ...  \n",
       "47326    test  6038  \n",
       "47327    test   989  \n",
       "47328    test  4163  \n",
       "47329    test  4164  \n",
       "47330    test  4165  \n",
       "\n",
       "[47331 rows x 17 columns]"
      ]
     },
     "execution_count": 2,
     "metadata": {},
     "output_type": "execute_result"
    }
   ],
   "source": [
    "reviews = pd.read_csv('../datasets/imdb_reviews.tsv', sep='\\t', dtype={'votes': 'Int64'})\n",
    "reviews"
   ]
  },
  {
   "cell_type": "code",
   "execution_count": 3,
   "id": "bc9798d3",
   "metadata": {},
   "outputs": [
    {
     "name": "stdout",
     "output_type": "stream",
     "text": [
      "Hay 91 reseñas duplicadas.\n",
      "Hay 0 reseñas duplicadas.\n"
     ]
    }
   ],
   "source": [
    "# Se verifica si hay reseñas duplicadas\n",
    "repeated = reviews['review'].duplicated().sum()\n",
    "print(f'Hay {repeated} reseñas duplicadas.')\n",
    "\n",
    "\n",
    "# Se eliminan las reseñas duplicadas\n",
    "reviews = reviews.drop_duplicates(subset=['review'])\n",
    "repeated = reviews['review'].duplicated().sum()\n",
    "print(f'Hay {repeated} reseñas duplicadas.')"
   ]
  },
  {
   "cell_type": "code",
   "execution_count": 4,
   "id": "d4dc1a80",
   "metadata": {},
   "outputs": [
    {
     "name": "stdout",
     "output_type": "stream",
     "text": [
      "<class 'pandas.core.frame.DataFrame'>\n",
      "Index: 47240 entries, 0 to 47330\n",
      "Data columns (total 17 columns):\n",
      " #   Column           Non-Null Count  Dtype  \n",
      "---  ------           --------------  -----  \n",
      " 0   tconst           47240 non-null  object \n",
      " 1   title_type       47240 non-null  object \n",
      " 2   primary_title    47240 non-null  object \n",
      " 3   original_title   47240 non-null  object \n",
      " 4   start_year       47240 non-null  int64  \n",
      " 5   end_year         47240 non-null  object \n",
      " 6   runtime_minutes  47240 non-null  object \n",
      " 7   is_adult         47240 non-null  int64  \n",
      " 8   genres           47240 non-null  object \n",
      " 9   average_rating   47238 non-null  float64\n",
      " 10  votes            47238 non-null  Int64  \n",
      " 11  review           47240 non-null  object \n",
      " 12  rating           47240 non-null  int64  \n",
      " 13  sp               47240 non-null  object \n",
      " 14  pos              47240 non-null  int64  \n",
      " 15  ds_part          47240 non-null  object \n",
      " 16  idx              47240 non-null  int64  \n",
      "dtypes: Int64(1), float64(1), int64(5), object(10)\n",
      "memory usage: 6.5+ MB\n"
     ]
    }
   ],
   "source": [
    "reviews.info()"
   ]
  },
  {
   "cell_type": "markdown",
   "id": "cbdefa39",
   "metadata": {},
   "source": [
    "# **EDA**"
   ]
  },
  {
   "cell_type": "code",
   "execution_count": 5,
   "id": "cd1f1622",
   "metadata": {},
   "outputs": [
    {
     "data": {
      "application/vnd.microsoft.datawrangler.viewer.v0+json": {
       "columns": [
        {
         "name": "start_year",
         "rawType": "int64",
         "type": "integer"
        },
        {
         "name": "count",
         "rawType": "int64",
         "type": "integer"
        }
       ],
       "ref": "12a81474-e0d1-4bd0-ab25-5592cb84493c",
       "rows": [
        [
         "1894",
         "6"
        ],
        [
         "1895",
         "12"
        ],
        [
         "1897",
         "4"
        ],
        [
         "1902",
         "1"
        ],
        [
         "1903",
         "10"
        ],
        [
         "1908",
         "2"
        ],
        [
         "1909",
         "7"
        ],
        [
         "1910",
         "1"
        ],
        [
         "1912",
         "1"
        ],
        [
         "1913",
         "18"
        ],
        [
         "1914",
         "7"
        ],
        [
         "1915",
         "11"
        ],
        [
         "1916",
         "6"
        ],
        [
         "1917",
         "15"
        ],
        [
         "1918",
         "22"
        ],
        [
         "1919",
         "13"
        ],
        [
         "1920",
         "12"
        ],
        [
         "1921",
         "36"
        ],
        [
         "1922",
         "29"
        ],
        [
         "1923",
         "19"
        ],
        [
         "1924",
         "18"
        ],
        [
         "1925",
         "55"
        ],
        [
         "1926",
         "32"
        ],
        [
         "1927",
         "35"
        ],
        [
         "1928",
         "58"
        ],
        [
         "1929",
         "24"
        ],
        [
         "1930",
         "101"
        ],
        [
         "1931",
         "79"
        ],
        [
         "1932",
         "71"
        ],
        [
         "1933",
         "222"
        ],
        [
         "1934",
         "170"
        ],
        [
         "1935",
         "58"
        ],
        [
         "1936",
         "227"
        ],
        [
         "1937",
         "86"
        ],
        [
         "1938",
         "93"
        ],
        [
         "1939",
         "145"
        ],
        [
         "1940",
         "200"
        ],
        [
         "1941",
         "165"
        ],
        [
         "1942",
         "201"
        ],
        [
         "1943",
         "131"
        ],
        [
         "1944",
         "137"
        ],
        [
         "1945",
         "224"
        ],
        [
         "1946",
         "103"
        ],
        [
         "1947",
         "157"
        ],
        [
         "1948",
         "119"
        ],
        [
         "1949",
         "78"
        ],
        [
         "1950",
         "277"
        ],
        [
         "1951",
         "219"
        ],
        [
         "1952",
         "150"
        ],
        [
         "1953",
         "122"
        ]
       ],
       "shape": {
        "columns": 1,
        "rows": 107
       }
      },
      "text/plain": [
       "start_year\n",
       "1894       6\n",
       "1895      12\n",
       "1897       4\n",
       "1902       1\n",
       "1903      10\n",
       "        ... \n",
       "2006    3269\n",
       "2007    2103\n",
       "2008     990\n",
       "2009     386\n",
       "2010      27\n",
       "Name: count, Length: 107, dtype: int64"
      ]
     },
     "execution_count": 5,
     "metadata": {},
     "output_type": "execute_result"
    }
   ],
   "source": [
    "movies_by_year = reviews['start_year'].value_counts().sort_index()\n",
    "movies_by_year"
   ]
  },
  {
   "cell_type": "code",
   "execution_count": 6,
   "id": "a053ad45",
   "metadata": {},
   "outputs": [
    {
     "data": {
      "application/vnd.microsoft.datawrangler.viewer.v0+json": {
       "columns": [
        {
         "name": "start_year",
         "rawType": "int64",
         "type": "integer"
        },
        {
         "name": "0",
         "rawType": "float64",
         "type": "float"
        },
        {
         "name": "1",
         "rawType": "float64",
         "type": "float"
        }
       ],
       "ref": "110ca288-150d-4e5c-b53b-2c1adf9f344b",
       "rows": [
        [
         "1894",
         "1.0",
         "5.0"
        ],
        [
         "1895",
         "0.0",
         "12.0"
        ],
        [
         "1897",
         "0.0",
         "4.0"
        ],
        [
         "1902",
         "1.0",
         "0.0"
        ],
        [
         "1903",
         "7.0",
         "3.0"
        ],
        [
         "1908",
         "1.0",
         "1.0"
        ],
        [
         "1909",
         "2.0",
         "5.0"
        ],
        [
         "1910",
         "1.0",
         "0.0"
        ],
        [
         "1912",
         "1.0",
         "0.0"
        ],
        [
         "1913",
         "4.0",
         "14.0"
        ],
        [
         "1914",
         "6.0",
         "1.0"
        ],
        [
         "1915",
         "3.0",
         "8.0"
        ],
        [
         "1916",
         "5.0",
         "1.0"
        ],
        [
         "1917",
         "1.0",
         "14.0"
        ],
        [
         "1918",
         "2.0",
         "20.0"
        ],
        [
         "1919",
         "4.0",
         "9.0"
        ],
        [
         "1920",
         "7.0",
         "5.0"
        ],
        [
         "1921",
         "2.0",
         "34.0"
        ],
        [
         "1922",
         "8.0",
         "21.0"
        ],
        [
         "1923",
         "3.0",
         "16.0"
        ],
        [
         "1924",
         "6.0",
         "12.0"
        ],
        [
         "1925",
         "8.0",
         "47.0"
        ],
        [
         "1926",
         "4.0",
         "28.0"
        ],
        [
         "1927",
         "6.0",
         "29.0"
        ],
        [
         "1928",
         "8.0",
         "50.0"
        ],
        [
         "1929",
         "16.0",
         "8.0"
        ],
        [
         "1930",
         "29.0",
         "72.0"
        ],
        [
         "1931",
         "33.0",
         "46.0"
        ],
        [
         "1932",
         "42.0",
         "29.0"
        ],
        [
         "1933",
         "48.0",
         "174.0"
        ],
        [
         "1934",
         "53.0",
         "117.0"
        ],
        [
         "1935",
         "29.0",
         "29.0"
        ],
        [
         "1936",
         "64.0",
         "163.0"
        ],
        [
         "1937",
         "27.0",
         "59.0"
        ],
        [
         "1938",
         "21.0",
         "72.0"
        ],
        [
         "1939",
         "29.0",
         "116.0"
        ],
        [
         "1940",
         "58.0",
         "142.0"
        ],
        [
         "1941",
         "66.0",
         "99.0"
        ],
        [
         "1942",
         "95.0",
         "106.0"
        ],
        [
         "1943",
         "40.0",
         "91.0"
        ],
        [
         "1944",
         "48.0",
         "89.0"
        ],
        [
         "1945",
         "46.0",
         "178.0"
        ],
        [
         "1946",
         "37.0",
         "66.0"
        ],
        [
         "1947",
         "19.0",
         "138.0"
        ],
        [
         "1948",
         "49.0",
         "70.0"
        ],
        [
         "1949",
         "30.0",
         "48.0"
        ],
        [
         "1950",
         "52.0",
         "225.0"
        ],
        [
         "1951",
         "73.0",
         "146.0"
        ],
        [
         "1952",
         "51.0",
         "99.0"
        ],
        [
         "1953",
         "52.0",
         "70.0"
        ]
       ],
       "shape": {
        "columns": 2,
        "rows": 107
       }
      },
      "text/html": [
       "<div>\n",
       "<style scoped>\n",
       "    .dataframe tbody tr th:only-of-type {\n",
       "        vertical-align: middle;\n",
       "    }\n",
       "\n",
       "    .dataframe tbody tr th {\n",
       "        vertical-align: top;\n",
       "    }\n",
       "\n",
       "    .dataframe thead th {\n",
       "        text-align: right;\n",
       "    }\n",
       "</style>\n",
       "<table border=\"1\" class=\"dataframe\">\n",
       "  <thead>\n",
       "    <tr style=\"text-align: right;\">\n",
       "      <th>pos</th>\n",
       "      <th>0</th>\n",
       "      <th>1</th>\n",
       "    </tr>\n",
       "    <tr>\n",
       "      <th>start_year</th>\n",
       "      <th></th>\n",
       "      <th></th>\n",
       "    </tr>\n",
       "  </thead>\n",
       "  <tbody>\n",
       "    <tr>\n",
       "      <th>1894</th>\n",
       "      <td>1.0</td>\n",
       "      <td>5.0</td>\n",
       "    </tr>\n",
       "    <tr>\n",
       "      <th>1895</th>\n",
       "      <td>0.0</td>\n",
       "      <td>12.0</td>\n",
       "    </tr>\n",
       "    <tr>\n",
       "      <th>1897</th>\n",
       "      <td>0.0</td>\n",
       "      <td>4.0</td>\n",
       "    </tr>\n",
       "    <tr>\n",
       "      <th>1902</th>\n",
       "      <td>1.0</td>\n",
       "      <td>0.0</td>\n",
       "    </tr>\n",
       "    <tr>\n",
       "      <th>1903</th>\n",
       "      <td>7.0</td>\n",
       "      <td>3.0</td>\n",
       "    </tr>\n",
       "    <tr>\n",
       "      <th>...</th>\n",
       "      <td>...</td>\n",
       "      <td>...</td>\n",
       "    </tr>\n",
       "    <tr>\n",
       "      <th>2006</th>\n",
       "      <td>1891.0</td>\n",
       "      <td>1378.0</td>\n",
       "    </tr>\n",
       "    <tr>\n",
       "      <th>2007</th>\n",
       "      <td>1383.0</td>\n",
       "      <td>720.0</td>\n",
       "    </tr>\n",
       "    <tr>\n",
       "      <th>2008</th>\n",
       "      <td>679.0</td>\n",
       "      <td>311.0</td>\n",
       "    </tr>\n",
       "    <tr>\n",
       "      <th>2009</th>\n",
       "      <td>247.0</td>\n",
       "      <td>139.0</td>\n",
       "    </tr>\n",
       "    <tr>\n",
       "      <th>2010</th>\n",
       "      <td>27.0</td>\n",
       "      <td>0.0</td>\n",
       "    </tr>\n",
       "  </tbody>\n",
       "</table>\n",
       "<p>107 rows × 2 columns</p>\n",
       "</div>"
      ],
      "text/plain": [
       "pos              0       1\n",
       "start_year                \n",
       "1894           1.0     5.0\n",
       "1895           0.0    12.0\n",
       "1897           0.0     4.0\n",
       "1902           1.0     0.0\n",
       "1903           7.0     3.0\n",
       "...            ...     ...\n",
       "2006        1891.0  1378.0\n",
       "2007        1383.0   720.0\n",
       "2008         679.0   311.0\n",
       "2009         247.0   139.0\n",
       "2010          27.0     0.0\n",
       "\n",
       "[107 rows x 2 columns]"
      ]
     },
     "execution_count": 6,
     "metadata": {},
     "output_type": "execute_result"
    }
   ],
   "source": [
    "pos_by_year = reviews[['start_year', 'pos']].value_counts().sort_index().unstack().fillna(0)\n",
    "pos_by_year"
   ]
  },
  {
   "cell_type": "code",
   "execution_count": 7,
   "id": "b6c12d84",
   "metadata": {},
   "outputs": [
    {
     "data": {
      "image/png": "[encoded data removed]",
      "text/plain": [
       "<Figure size 1600x800 with 2 Axes>"
      ]
     },
     "metadata": {},
     "output_type": "display_data"
    }
   ],
   "source": [
    "fig, axs = plt.subplots(2, 1, figsize=(16, 8))\n",
    "\n",
    "ax=axs[0]\n",
    "ax.set_title('Número de películas a lo largo de los años')\n",
    "movies_by_year.plot(color='skyblue', kind='bar', stacked=True, ax=ax)\n",
    "ax.tick_params(axis='x', labelsize=10) \n",
    "\n",
    "ax=axs[1]\n",
    "ax.set_title('Número de reseñas a lo largo de los años')\n",
    "pos_by_year.plot(kind='bar', stacked=True, ax=ax)\n",
    "ax.tick_params(axis='x', labelsize=10) \n",
    "\n",
    "fig.tight_layout()\n",
    "plt.show()"
   ]
  },
  {
   "cell_type": "code",
   "execution_count": 8,
   "id": "c7c9bc78",
   "metadata": {},
   "outputs": [
    {
     "data": {
      "application/vnd.microsoft.datawrangler.viewer.v0+json": {
       "columns": [
        {
         "name": "tconst",
         "rawType": "object",
         "type": "string"
        },
        {
         "name": "review",
         "rawType": "int64",
         "type": "integer"
        }
       ],
       "ref": "a6996508-b537-4884-bd04-50b2b511a761",
       "rows": [
        [
         "tt0219854",
         "30"
        ],
        [
         "tt0112471",
         "30"
        ],
        [
         "tt0345551",
         "30"
        ],
        [
         "tt0346094",
         "30"
        ],
        [
         "tt0346293",
         "30"
        ],
        [
         "tt0111495",
         "30"
        ],
        [
         "tt0061809",
         "30"
        ],
        [
         "tt0347591",
         "30"
        ],
        [
         "tt0349903",
         "30"
        ],
        [
         "tt0350258",
         "30"
        ],
        [
         "tt0110099",
         "30"
        ],
        [
         "tt0035279",
         "30"
        ],
        [
         "tt0361748",
         "30"
        ],
        [
         "tt0362478",
         "30"
        ],
        [
         "tt0109117",
         "30"
        ],
        [
         "tt0108915",
         "30"
        ],
        [
         "tt0365376",
         "30"
        ],
        [
         "tt0365485",
         "30"
        ],
        [
         "tt0365513",
         "30"
        ],
        [
         "tt0365514",
         "30"
        ],
        [
         "tt0108211",
         "30"
        ],
        [
         "tt0365686",
         "30"
        ],
        [
         "tt0365830",
         "30"
        ],
        [
         "tt0107977",
         "30"
        ],
        [
         "tt0062622",
         "30"
        ],
        [
         "tt0107206",
         "30"
        ],
        [
         "tt0107151",
         "30"
        ],
        [
         "tt0034277",
         "30"
        ],
        [
         "tt0367623",
         "30"
        ],
        [
         "tt0367677",
         "30"
        ],
        [
         "tt0107131",
         "30"
        ],
        [
         "tt0053241",
         "30"
        ],
        [
         "tt0053182",
         "30"
        ],
        [
         "tt0369053",
         "30"
        ],
        [
         "tt0112681",
         "30"
        ],
        [
         "tt0116130",
         "30"
        ],
        [
         "tt0116075",
         "30"
        ],
        [
         "tt0315327",
         "30"
        ],
        [
         "tt0316188",
         "30"
        ],
        [
         "tt0316465",
         "30"
        ],
        [
         "tt0115813",
         "30"
        ],
        [
         "tt0115669",
         "30"
        ],
        [
         "tt0317676",
         "30"
        ],
        [
         "tt0115561",
         "30"
        ],
        [
         "tt0317740",
         "30"
        ],
        [
         "tt0114746",
         "30"
        ],
        [
         "tt0323298",
         "30"
        ],
        [
         "tt0052646",
         "30"
        ],
        [
         "tt0037595",
         "30"
        ],
        [
         "tt0037514",
         "30"
        ]
       ],
       "shape": {
        "columns": 1,
        "rows": 6648
       }
      },
      "text/plain": [
       "tconst\n",
       "tt0219854    30\n",
       "tt0112471    30\n",
       "tt0345551    30\n",
       "tt0346094    30\n",
       "tt0346293    30\n",
       "             ..\n",
       "tt0406551     1\n",
       "tt0406516     1\n",
       "tt0144714     1\n",
       "tt0146367     1\n",
       "tt0208614     1\n",
       "Name: review, Length: 6648, dtype: int64"
      ]
     },
     "execution_count": 8,
     "metadata": {},
     "output_type": "execute_result"
    }
   ],
   "source": [
    "# Número de reseñas por película\n",
    "reviews_by_movie = reviews.groupby('tconst')['review'].count().sort_values(ascending=False)\n",
    "reviews_by_movie"
   ]
  },
  {
   "cell_type": "code",
   "execution_count": 9,
   "id": "3aeb20b6",
   "metadata": {},
   "outputs": [
    {
     "data": {
      "application/vnd.microsoft.datawrangler.viewer.v0+json": {
       "columns": [
        {
         "name": "review",
         "rawType": "int64",
         "type": "integer"
        },
        {
         "name": "count",
         "rawType": "int64",
         "type": "integer"
        }
       ],
       "ref": "c2f77fde-6c53-4b2e-8965-02d9d2bc173b",
       "rows": [
        [
         "1",
         "1310"
        ],
        [
         "2",
         "945"
        ],
        [
         "3",
         "738"
        ],
        [
         "4",
         "622"
        ],
        [
         "5",
         "503"
        ],
        [
         "6",
         "366"
        ],
        [
         "7",
         "294"
        ],
        [
         "8",
         "239"
        ],
        [
         "9",
         "186"
        ],
        [
         "10",
         "108"
        ],
        [
         "11",
         "129"
        ],
        [
         "12",
         "91"
        ],
        [
         "13",
         "96"
        ],
        [
         "14",
         "87"
        ],
        [
         "15",
         "56"
        ],
        [
         "16",
         "62"
        ],
        [
         "17",
         "49"
        ],
        [
         "18",
         "54"
        ],
        [
         "19",
         "49"
        ],
        [
         "20",
         "32"
        ],
        [
         "21",
         "35"
        ],
        [
         "22",
         "31"
        ],
        [
         "23",
         "25"
        ],
        [
         "24",
         "26"
        ],
        [
         "25",
         "27"
        ],
        [
         "26",
         "20"
        ],
        [
         "27",
         "23"
        ],
        [
         "28",
         "15"
        ],
        [
         "29",
         "34"
        ],
        [
         "30",
         "396"
        ]
       ],
       "shape": {
        "columns": 1,
        "rows": 30
       }
      },
      "text/plain": [
       "review\n",
       "1     1310\n",
       "2      945\n",
       "3      738\n",
       "4      622\n",
       "5      503\n",
       "6      366\n",
       "7      294\n",
       "8      239\n",
       "9      186\n",
       "10     108\n",
       "11     129\n",
       "12      91\n",
       "13      96\n",
       "14      87\n",
       "15      56\n",
       "16      62\n",
       "17      49\n",
       "18      54\n",
       "19      49\n",
       "20      32\n",
       "21      35\n",
       "22      31\n",
       "23      25\n",
       "24      26\n",
       "25      27\n",
       "26      20\n",
       "27      23\n",
       "28      15\n",
       "29      34\n",
       "30     396\n",
       "Name: count, dtype: int64"
      ]
     },
     "execution_count": 9,
     "metadata": {},
     "output_type": "execute_result"
    }
   ],
   "source": [
    "# Se cuenta el número de películas según la cantidad de reseñas que tienen\n",
    "num_movies_by_quant_reviews = reviews_by_movie.value_counts().sort_index()\n",
    "num_movies_by_quant_reviews"
   ]
  },
  {
   "cell_type": "code",
   "execution_count": 10,
   "id": "2433cb8b",
   "metadata": {},
   "outputs": [
    {
     "data": {
      "image/png": "[encoded data removed]",
      "text/plain": [
       "<Figure size 1600x500 with 2 Axes>"
      ]
     },
     "metadata": {},
     "output_type": "display_data"
    }
   ],
   "source": [
    "fig, axs = plt.subplots(1, 2, figsize=(16, 5))\n",
    "ax=axs[0]\n",
    "ax.set_title('Gráfico de barras del conteo de películas por cantidad de reseñas')\n",
    "num_movies_by_quant_reviews.plot.bar(color='purple', stacked=True, ax=ax)\n",
    "ax.tick_params(axis='x', labelsize=10) \n",
    "\n",
    "ax = axs[1]\n",
    "ax.set_title('Gráfico KDE de # Reseñas por película')\n",
    "sns.kdeplot(reviews_by_movie, color='green', ax=ax)\n",
    "ax.tick_params(axis='x', labelsize=10) \n",
    "fig.tight_layout()\n",
    "plt.show()"
   ]
  },
  {
   "cell_type": "code",
   "execution_count": 11,
   "id": "53342206",
   "metadata": {},
   "outputs": [
    {
     "data": {
      "application/vnd.microsoft.datawrangler.viewer.v0+json": {
       "columns": [
        {
         "name": "rating",
         "rawType": "int64",
         "type": "integer"
        },
        {
         "name": "count",
         "rawType": "float64",
         "type": "float"
        }
       ],
       "ref": "8fe922d2-c1fa-4e8c-a352-9a5c2fa4965f",
       "rows": [
        [
         "1",
         "4856.0"
        ],
        [
         "2",
         "2154.0"
        ],
        [
         "3",
         "2314.0"
        ],
        [
         "4",
         "2571.0"
        ],
        [
         "5",
         "0.0"
        ],
        [
         "6",
         "0.0"
        ],
        [
         "7",
         "2390.0"
        ],
        [
         "8",
         "2874.0"
        ],
        [
         "9",
         "2145.0"
        ],
        [
         "10",
         "4453.0"
        ]
       ],
       "shape": {
        "columns": 1,
        "rows": 10
       }
      },
      "text/plain": [
       "rating\n",
       "1     4856.0\n",
       "2     2154.0\n",
       "3     2314.0\n",
       "4     2571.0\n",
       "5        0.0\n",
       "6        0.0\n",
       "7     2390.0\n",
       "8     2874.0\n",
       "9     2145.0\n",
       "10    4453.0\n",
       "Name: count, dtype: float64"
      ]
     },
     "execution_count": 11,
     "metadata": {},
     "output_type": "execute_result"
    }
   ],
   "source": [
    "# Se cuentan los valores únicos de los ratings en el conjunto de entrenamiento y prueba\n",
    "# Se usa un rango de 1 a 10 para asegurar que todas las puntuaciones estén representadas\n",
    "\n",
    "rating_count_train = reviews.query('ds_part == \"train\"')['rating'].value_counts().sort_index()\n",
    "rating_count_train = rating_count_train.reindex(index=np.arange(min(rating_count_train.index.min(), 1), \n",
    "                                                              max(rating_count_train.index.max(), 11))).fillna(0)\n",
    "\n",
    "rating_count_test = reviews.query('ds_part == \"test\"')['rating'].value_counts().sort_index()\n",
    "rating_count_test = rating_count_test.reindex(index=np.arange(min(rating_count_test.index.min(), 1), \n",
    "                                                              max(rating_count_test.index.max(), 11))).fillna(0)\n",
    "rating_count_train"
   ]
  },
  {
   "cell_type": "code",
   "execution_count": 12,
   "id": "9ecb9cdb",
   "metadata": {},
   "outputs": [
    {
     "data": {
      "image/png": "[encoded data removed]",
      "text/plain": [
       "<Figure size 1200x400 with 2 Axes>"
      ]
     },
     "metadata": {},
     "output_type": "display_data"
    }
   ],
   "source": [
    "fig, axs = plt.subplots(1, 2, figsize=(12, 4))\n",
    "\n",
    "ax = axs[0]\n",
    "ax.set_title('El conjunto de entrenamiento: distribución de puntuaciones')\n",
    "rating_count_train.plot.bar(color='red', stacked=True, ax=ax)\n",
    "ax.tick_params(axis='x', labelsize=10) \n",
    "\n",
    "\n",
    "ax = axs[1]\n",
    "ax.set_title('El conjunto de prueba: distribución de puntuaciones')\n",
    "rating_count_test.plot.bar(color='violet', stacked=True, ax=ax)\n",
    "ax.tick_params(axis='x', labelsize=10) \n",
    "\n",
    "fig.tight_layout()\n",
    "plt.show()"
   ]
  },
  {
   "cell_type": "code",
   "execution_count": 13,
   "id": "43552a0d",
   "metadata": {},
   "outputs": [
    {
     "name": "stdout",
     "output_type": "stream",
     "text": [
      "pos\n",
      "0    11895\n",
      "1    11862\n",
      "Name: count, dtype: int64\n",
      "pos\n",
      "0    11785\n",
      "1    11698\n",
      "Name: count, dtype: int64\n",
      "pos\n",
      "0    23680\n",
      "1    23560\n",
      "Name: count, dtype: int64\n"
     ]
    }
   ],
   "source": [
    "# Se verifica el desequilibrio de clases en el conjunto de entrenamiento, prueba y en general\n",
    "print(reviews.query('ds_part==\"train\"')['pos'].value_counts())\n",
    "print(reviews.query('ds_part==\"test\"')['pos'].value_counts())\n",
    "print(reviews['pos'].value_counts())"
   ]
  },
  {
   "cell_type": "markdown",
   "id": "d2430344",
   "metadata": {},
   "source": [
    "# **Preprocesamiento de texto**\n",
    "\n",
    "En esta sección preparamos las reseñas para que puedan ser entendidas por los modelos de machine learning.  \n",
    "El proceso completo consiste en:\n",
    "\n",
    "1. **Descarga de recursos NLTK**  \n",
    "   - `punkt`: tokenizador para dividir texto en palabras.  \n",
    "   - `stopwords`: lista de palabras muy frecuentes y poco informativas (ej: \"the\", \"and\").  \n",
    "   - `wordnet`: diccionario léxico que permite lematizar palabras.  \n",
    "   - `averaged_perceptron_tagger`: herramienta para etiquetar la función gramatical de cada palabra (sustantivo, verbo, adjetivo, etc.).\n",
    "\n",
    "2. **Limpieza del texto**  \n",
    "   - Conversión a minúsculas.  \n",
    "   - Eliminación de etiquetas HTML (`<br>`, `<p>`, etc.).  \n",
    "   - Eliminación de caracteres no alfabéticos (números, símbolos, signos de puntuación).  \n",
    "   - Normalización de espacios en blanco.\n",
    "\n",
    "3. **Tokenización**  \n",
    "   - El texto se separa en palabras individuales:  \n",
    "     `“This movie is GREAT!” → [\"this\", \"movie\", \"is\", \"great\"]`.\n",
    "\n",
    "4. **Eliminación de stopwords (opcional)**  \n",
    "   - Se quitan palabras sin mucho valor para el análisis de sentimiento:  \n",
    "     `[\"this\", \"movie\", \"is\", \"great\"] → [\"movie\", \"great\"]`.\n",
    "\n",
    "5. **Lematización (opcional)**  \n",
    "   - Se reduce cada palabra a su forma raíz, usando su etiqueta gramatical:  \n",
    "     - `\"running\"` → `\"run\"`  \n",
    "     - `\"better\"` → `\"good\"`  \n",
    "     - `\"movies\"` → `\"movie\"`\n",
    "\n",
    "6. **Filtrado final**  \n",
    "   - Se eliminan tokens muy cortos (ej: letras sueltas).  \n",
    "   - Se reconstruye el texto limpio en forma de string.\n",
    "\n",
    "7. **Métricas adicionales**  \n",
    "   - Se calculan la longitud en caracteres y palabras **antes y después** de limpiar el texto.  \n",
    "   - Esto permite comparar cómo cambia el tamaño de las reseñas tras la normalización.\n",
    "\n",
    "8. **Resultado final**  \n",
    "   - Nueva columna: `clean_review` con las reseñas procesadas.  \n",
    "   - DataFrame ahora incluye:  \n",
    "     - `char_len` y `word_count` → métricas del texto original.  \n",
    "     - `clean_char_len` y `clean_word_count` → métricas del texto limpio.  \n",
    "   - Se muestran ejemplos de reseñas y un resumen estadístico de longitudes.\n",
    "\n",
    "Con esto obtenemos reseñas homogéneas, libres de ruido y listas para transformarse en vectores (`TF-IDF`, `CountVectorizer`, o embeddings) para el entrenamiento de modelos.\n"
   ]
  },
  {
   "cell_type": "code",
   "execution_count": 14,
   "id": "90996ea8",
   "metadata": {},
   "outputs": [
    {
     "name": "stdout",
     "output_type": "stream",
     "text": [
      "Ejemplo original --> limpio (primeras 5 filas):\n"
     ]
    },
    {
     "data": {
      "application/vnd.microsoft.datawrangler.viewer.v0+json": {
       "columns": [
        {
         "name": "index",
         "rawType": "int64",
         "type": "integer"
        },
        {
         "name": "review",
         "rawType": "object",
         "type": "string"
        },
        {
         "name": "clean_review",
         "rawType": "object",
         "type": "string"
        },
        {
         "name": "pos",
         "rawType": "int64",
         "type": "integer"
        }
       ],
       "ref": "0588c708-bead-4e1b-b03a-b072e51a8e48",
       "rows": [
        [
         "0",
         "The pakage implies that Warren Beatty and Goldie Hawn are pulling off a huge bank robbery, but that's not what I got out of it! I didn't get anything! In the first half there's a new character (without introduction) in every other scene. The first half-hour is completely incomprehensible, the rest is just one long, annoying, underlit chase scene. There's always an irritating sound in the background whether it's a loud watch ticking, a blaring siren, a train whistling, or even the horrible score by Quincy Jones. There are a lot of parts that are laughably bad, too. Like, the bad guys chasing Beatty on thin ice with a CAR! Or, the police arriving at the scene roughly fifteen times. I really hated this movie!",
         "pakage implies warren beatty goldie hawn pull huge bank robbery get get anything first half new character without introduction every scene first half hour completely incomprehensible rest one long annoy underlit chase scene always irritate sound background whether loud watch tick blare siren train whistle even horrible score quincy jones lot part laughably bad like bad guy chase beatty thin ice car police arrive scene roughly fifteen time really hat movie",
         "0"
        ],
        [
         "1",
         "How the hell did they get this made?! Presenting itself as a caper comedy, the misbegotten \"$\" is essentially two hours of people mumbling sentence fragments. The usually dependable Warren Beatty looks drunk, and the usually hilarious Goldie Hawn acts like she's on depressants. As for Gert Frobe, his most famous role - Goldfinger - was infinitely more admirable than his character here. Not even the guy with the champagne bottle of LSD can save this litany of worthlessness. Am I comparing this movie to \"Plan 9 from Outer Space\"? I wouldn't do such a thing even if someone paid me. \"P9FOS\" was idiotically made but ended up hilarious; this was idiotically made and causes you to feel like your brain just melted out of your ears. Warren Beatty and Goldie Hawn made up for this when they co-starred in \"Shampoo\", but then they co-starred in the dreadful \"Town & Country\". Maybe they just shouldn't co-star in movies. All in all, I would rather have my skin torn off than have to watch this again. Awful. Maybe they should remake it with Jackie Chan. Then I would pay to see it.",
         "hell get make present caper comedy misbegotten essentially two hour people mumble sentence fragment usually dependable warren beatty look drink usually hilarious goldie hawn act like depressant gert frobe famous role goldfinger infinitely admirable character even guy champagne bottle lsd save litany worthlessness compare movie plan outer space thing even someone pay fo idiotically make end hilarious idiotically make cause feel like brain melt ear warren beatty goldie hawn make co star shampoo co star dreadful town country maybe co star movie would rather skin torn watch awful maybe remake jackie chan would pay see",
         "0"
        ],
        [
         "2",
         "There is no real story the film seems more like a fly on the wall drama-documentary than a proper film so this piece may in itself be a spoiler. Teen drama about 3 young Singaporean kids (very similar to UK chavs) who play truant from school, run with gangs, get into fights, insult people on the street, get tattoos, hang about doing nothing, etc. etc, They generally imagine themselves to be hard and every so often shout challenging rap chants into the camera. Filmed in MTV style, fast cuts, crazy camera angles, tight close ups and animation interludes. The dialogue might have been crisper in the original languages of Mandarin and Hokkien than in the subtitles and I have no doubt that some of the contemporary Singapore references will slip over Western heads as well as the cultural and political context unless of course you are familiar with Singapore. This kind of teen film may be a first for Singapore but it has been done before and done better in other Western countries, La Haine (1995) for example.",
         "real story film seem like fly wall drama documentary proper film piece may spoiler teen drama young singaporean kid similar uk chavs play truant school run gang get fight insult people street get tattoos hang nothing etc etc generally imagine hard every often shout challenge rap chant camera film mtv style fast cut crazy camera angle tight close ups animation interlude dialogue might crisper original language mandarin hokkien subtitle doubt contemporary singapore reference slip western head well cultural political context unless course familiar singapore kind teen film may first singapore do do well western country la haine example",
         "0"
        ],
        [
         "3",
         "Um .... a serious film about troubled teens in Singapore, a country I have not much knowledge on but have the previous wrong impression that all the kids there are highly disciplined and controlled by their family and government. Well, I guess I am wrong, just like other cities/ countries, they also have their troubled teens who also lead the not so surprising rebellious way of life of drugs, fights, bad language, and .... many other obvious signs of being a bad boy. The surprising part of this film isn't really about how these kids running around causing themselves and others trouble, but rather the subtle gayness hidden behind their so call loyalty between them. The bond between these \"brothers\" may very well originated from an unconscious gay tendency inside these boys. Though it isn't uncommon for str8 guys to have very close friendship with each other, but watch this film closely, it should be entering all sorts of gay film festivals and I would not be surprised that it may win itself a lot more awards toward this direction!",
         "um serious film trouble teen singapore country much knowledge previous wrong impression kid highly discipline control family government well guess wrong like city country also trouble teen also lead surprise rebellious way life drug fight bad language many obvious sign bad boy surprising part film really kid run around cause others trouble rather subtle gayness hide behind call loyalty bond brother may well originate unconscious gay tendency inside boy though uncommon str guy close friendship watch film closely enter sort gay film festival would surprise may win lot award toward direction",
         "1"
        ],
        [
         "4",
         "I'm totally agree with GarryJohal from Singapore's comments about this film. Quotation: 'Yes non-Singaporean's can't see what's the big deal about this film. Some of the references in this film fly right over the head of foreign viewers and mostly Singaporeans are the ones who would actually 'get' it.' It's still not quite the truth and as a Malaysian-Chinese, i do 'get it' although i don't speak Hokkien because we do have the similar 'problems' in Malaysia too. I know that it's really hard to understand and to accept this as a REALITY but it is definitely NOT a 'no real story'. I was pleased to see this film outside Malaysia because it will and definitely be banned in Malaysia too. Which means either you get it in 'illegal copied VCDs or DVDs' or hope that someone to be kind enough to 'share' it in the internet. This is not an 'another violent teen drama.......' because it portrays the reality which exists in Singapore (and in Malaysia too) in an interesting way (sad+humour). I was just a little sad to know that this film got about 20 cuts in censorship. What a waste!",
         "totally agree garryjohal singapore comment film quotation yes non singaporean see big deal film reference film fly right head foreign viewer mostly singaporeans one would actually get still quite truth malaysian chinese get although speak hokkien similar problem malaysia know really hard understand accept reality definitely real story please see film outside malaysia definitely ban malaysia mean either get illegal copy vcds dvd hope someone kind enough share internet another violent teen drama portray reality exists singapore malaysia interesting way sad humour little sad know film get cut censorship waste",
         "1"
        ]
       ],
       "shape": {
        "columns": 3,
        "rows": 5
       }
      },
      "text/html": [
       "<div>\n",
       "<style scoped>\n",
       "    .dataframe tbody tr th:only-of-type {\n",
       "        vertical-align: middle;\n",
       "    }\n",
       "\n",
       "    .dataframe tbody tr th {\n",
       "        vertical-align: top;\n",
       "    }\n",
       "\n",
       "    .dataframe thead th {\n",
       "        text-align: right;\n",
       "    }\n",
       "</style>\n",
       "<table border=\"1\" class=\"dataframe\">\n",
       "  <thead>\n",
       "    <tr style=\"text-align: right;\">\n",
       "      <th></th>\n",
       "      <th>review</th>\n",
       "      <th>clean_review</th>\n",
       "      <th>pos</th>\n",
       "    </tr>\n",
       "  </thead>\n",
       "  <tbody>\n",
       "    <tr>\n",
       "      <th>0</th>\n",
       "      <td>The pakage implies that Warren Beatty and Gold...</td>\n",
       "      <td>pakage implies warren beatty goldie hawn pull ...</td>\n",
       "      <td>0</td>\n",
       "    </tr>\n",
       "    <tr>\n",
       "      <th>1</th>\n",
       "      <td>How the hell did they get this made?! Presenti...</td>\n",
       "      <td>hell get make present caper comedy misbegotten...</td>\n",
       "      <td>0</td>\n",
       "    </tr>\n",
       "    <tr>\n",
       "      <th>2</th>\n",
       "      <td>There is no real story the film seems more lik...</td>\n",
       "      <td>real story film seem like fly wall drama docum...</td>\n",
       "      <td>0</td>\n",
       "    </tr>\n",
       "    <tr>\n",
       "      <th>3</th>\n",
       "      <td>Um .... a serious film about troubled teens in...</td>\n",
       "      <td>um serious film trouble teen singapore country...</td>\n",
       "      <td>1</td>\n",
       "    </tr>\n",
       "    <tr>\n",
       "      <th>4</th>\n",
       "      <td>I'm totally agree with GarryJohal from Singapo...</td>\n",
       "      <td>totally agree garryjohal singapore comment fil...</td>\n",
       "      <td>1</td>\n",
       "    </tr>\n",
       "  </tbody>\n",
       "</table>\n",
       "</div>"
      ],
      "text/plain": [
       "                                              review  \\\n",
       "0  The pakage implies that Warren Beatty and Gold...   \n",
       "1  How the hell did they get this made?! Presenti...   \n",
       "2  There is no real story the film seems more lik...   \n",
       "3  Um .... a serious film about troubled teens in...   \n",
       "4  I'm totally agree with GarryJohal from Singapo...   \n",
       "\n",
       "                                        clean_review  pos  \n",
       "0  pakage implies warren beatty goldie hawn pull ...    0  \n",
       "1  hell get make present caper comedy misbegotten...    0  \n",
       "2  real story film seem like fly wall drama docum...    0  \n",
       "3  um serious film trouble teen singapore country...    1  \n",
       "4  totally agree garryjohal singapore comment fil...    1  "
      ]
     },
     "metadata": {},
     "output_type": "display_data"
    },
    {
     "name": "stdout",
     "output_type": "stream",
     "text": [
      "\n",
      "Resumen longitudes (antes vs después):\n"
     ]
    },
    {
     "data": {
      "application/vnd.microsoft.datawrangler.viewer.v0+json": {
       "columns": [
        {
         "name": "index",
         "rawType": "object",
         "type": "string"
        },
        {
         "name": "char_len",
         "rawType": "float64",
         "type": "float"
        },
        {
         "name": "clean_char_len",
         "rawType": "float64",
         "type": "float"
        },
        {
         "name": "word_count",
         "rawType": "float64",
         "type": "float"
        },
        {
         "name": "clean_word_count",
         "rawType": "float64",
         "type": "float"
        }
       ],
       "ref": "c9293c33-b394-459e-bede-a3720e05edef",
       "rows": [
        [
         "count",
         "47240.0",
         "47240.0",
         "47240.0",
         "47240.0"
        ],
        [
         "mean",
         "1290.7126375952582",
         "776.5988145639288",
         "229.54436917866215",
         "117.98058848433531"
        ],
        [
         "std",
         "975.4722912670411",
         "602.636573169962",
         "170.16294019460736",
         "89.26082222268687"
        ],
        [
         "min",
         "32.0",
         "17.0",
         "4.0",
         "3.0"
        ],
        [
         "25%",
         "691.0",
         "404.0",
         "126.0",
         "63.0"
        ],
        [
         "50%",
         "958.0",
         "570.0",
         "172.0",
         "88.0"
        ],
        [
         "75%",
         "1567.0",
         "945.0",
         "279.0",
         "144.0"
        ],
        [
         "max",
         "13594.0",
         "8605.0",
         "2459.0",
         "1397.0"
        ]
       ],
       "shape": {
        "columns": 4,
        "rows": 8
       }
      },
      "text/html": [
       "<div>\n",
       "<style scoped>\n",
       "    .dataframe tbody tr th:only-of-type {\n",
       "        vertical-align: middle;\n",
       "    }\n",
       "\n",
       "    .dataframe tbody tr th {\n",
       "        vertical-align: top;\n",
       "    }\n",
       "\n",
       "    .dataframe thead th {\n",
       "        text-align: right;\n",
       "    }\n",
       "</style>\n",
       "<table border=\"1\" class=\"dataframe\">\n",
       "  <thead>\n",
       "    <tr style=\"text-align: right;\">\n",
       "      <th></th>\n",
       "      <th>char_len</th>\n",
       "      <th>clean_char_len</th>\n",
       "      <th>word_count</th>\n",
       "      <th>clean_word_count</th>\n",
       "    </tr>\n",
       "  </thead>\n",
       "  <tbody>\n",
       "    <tr>\n",
       "      <th>count</th>\n",
       "      <td>47240.000000</td>\n",
       "      <td>47240.000000</td>\n",
       "      <td>47240.000000</td>\n",
       "      <td>47240.000000</td>\n",
       "    </tr>\n",
       "    <tr>\n",
       "      <th>mean</th>\n",
       "      <td>1290.712638</td>\n",
       "      <td>776.598815</td>\n",
       "      <td>229.544369</td>\n",
       "      <td>117.980588</td>\n",
       "    </tr>\n",
       "    <tr>\n",
       "      <th>std</th>\n",
       "      <td>975.472291</td>\n",
       "      <td>602.636573</td>\n",
       "      <td>170.162940</td>\n",
       "      <td>89.260822</td>\n",
       "    </tr>\n",
       "    <tr>\n",
       "      <th>min</th>\n",
       "      <td>32.000000</td>\n",
       "      <td>17.000000</td>\n",
       "      <td>4.000000</td>\n",
       "      <td>3.000000</td>\n",
       "    </tr>\n",
       "    <tr>\n",
       "      <th>25%</th>\n",
       "      <td>691.000000</td>\n",
       "      <td>404.000000</td>\n",
       "      <td>126.000000</td>\n",
       "      <td>63.000000</td>\n",
       "    </tr>\n",
       "    <tr>\n",
       "      <th>50%</th>\n",
       "      <td>958.000000</td>\n",
       "      <td>570.000000</td>\n",
       "      <td>172.000000</td>\n",
       "      <td>88.000000</td>\n",
       "    </tr>\n",
       "    <tr>\n",
       "      <th>75%</th>\n",
       "      <td>1567.000000</td>\n",
       "      <td>945.000000</td>\n",
       "      <td>279.000000</td>\n",
       "      <td>144.000000</td>\n",
       "    </tr>\n",
       "    <tr>\n",
       "      <th>max</th>\n",
       "      <td>13594.000000</td>\n",
       "      <td>8605.000000</td>\n",
       "      <td>2459.000000</td>\n",
       "      <td>1397.000000</td>\n",
       "    </tr>\n",
       "  </tbody>\n",
       "</table>\n",
       "</div>"
      ],
      "text/plain": [
       "           char_len  clean_char_len    word_count  clean_word_count\n",
       "count  47240.000000    47240.000000  47240.000000      47240.000000\n",
       "mean    1290.712638      776.598815    229.544369        117.980588\n",
       "std      975.472291      602.636573    170.162940         89.260822\n",
       "min       32.000000       17.000000      4.000000          3.000000\n",
       "25%      691.000000      404.000000    126.000000         63.000000\n",
       "50%      958.000000      570.000000    172.000000         88.000000\n",
       "75%     1567.000000      945.000000    279.000000        144.000000\n",
       "max    13594.000000     8605.000000   2459.000000       1397.000000"
      ]
     },
     "metadata": {},
     "output_type": "display_data"
    }
   ],
   "source": [
    "# 🔽 Descarga de recursos NLTK\n",
    "nltk.download('punkt', quiet=True)\n",
    "nltk.download('wordnet', quiet=True)\n",
    "nltk.download('omw-1.4', quiet=True)\n",
    "nltk.download('stopwords', quiet=True)\n",
    "nltk.download('averaged_perceptron_tagger', quiet=True)\n",
    "\n",
    "# 🔽 Función para convertir etiquetas POS de NLTK a WordNet\n",
    "def _nltk_pos_to_wordnet_pos(tag):\n",
    "    if tag.startswith('J'):\n",
    "        return wordnet.ADJ\n",
    "    if tag.startswith('V'):\n",
    "        return wordnet.VERB\n",
    "    if tag.startswith('N'):\n",
    "        return wordnet.NOUN\n",
    "    if tag.startswith('R'):\n",
    "        return wordnet.ADV\n",
    "    return wordnet.NOUN\n",
    "\n",
    "# 🔽 Función de preprocesamiento\n",
    "def preprocess_text(text, lemmatize=True, remove_stopwords=True):\n",
    "    if not isinstance(text, str):\n",
    "        return ''\n",
    "    \n",
    "    text = text.lower()\n",
    "    text = re.sub(r'<[^>]+>', ' ', text)         # HTML\n",
    "    text = re.sub(r'[^a-z\\s]', ' ', text)        # caracteres no alfa\n",
    "    text = re.sub(r'\\s+', ' ', text).strip()     # espacios\n",
    "    \n",
    "    tokens = word_tokenize(text)\n",
    "    \n",
    "    if remove_stopwords:\n",
    "        stops = set(stopwords.words('english'))\n",
    "        tokens = [t for t in tokens if t not in stops]\n",
    "    \n",
    "    if lemmatize and tokens:\n",
    "        lemmatizer = WordNetLemmatizer()\n",
    "        pos_tags = pos_tag(tokens)\n",
    "        tokens = [lemmatizer.lemmatize(word, _nltk_pos_to_wordnet_pos(tag)) \n",
    "                  for word, tag in pos_tags]\n",
    "    \n",
    "    tokens = [t for t in tokens if len(t) > 1]\n",
    "    \n",
    "    return ' '.join(tokens)\n",
    "\n",
    "# 🔽 Crear métricas originales (antes de limpiar)\n",
    "reviews['char_len'] = reviews['review'].str.len()\n",
    "reviews['word_count'] = reviews['review'].str.split().str.len()\n",
    "\n",
    "# 🔽 Aplicar limpieza\n",
    "reviews['clean_review'] = reviews['review'].fillna('').apply(preprocess_text)\n",
    "\n",
    "# 🔽 Métricas después de limpiar\n",
    "reviews['clean_word_count'] = reviews['clean_review'].str.split().str.len()\n",
    "reviews['clean_char_len'] = reviews['clean_review'].str.len()\n",
    "\n",
    "# 🔽 Ejemplos y resumen\n",
    "print('Ejemplo original --> limpio (primeras 5 filas):')\n",
    "display(reviews[['review','clean_review','pos']].head())\n",
    "\n",
    "print('\\nResumen longitudes (antes vs después):')\n",
    "display(reviews[['char_len','clean_char_len','word_count','clean_word_count']].describe())\n"
   ]
  },
  {
   "cell_type": "markdown",
   "id": "a0ae6526",
   "metadata": {},
   "source": [
    "# **Vectorización de texto (TF-IDF)**\n",
    "\n",
    "Una vez que tenemos las reseñas limpias (`clean_review`), necesitamos convertirlas en **vectores numéricos** para que los algoritmos de machine learning puedan procesarlas.  \n",
    "Esto lo hacemos con la técnica **TF-IDF (Term Frequency – Inverse Document Frequency)**:\n",
    "\n",
    "1. **Idea principal**  \n",
    "   - Cada reseña se transforma en un vector.  \n",
    "   - Cada dimensión del vector corresponde a una palabra del vocabulario.  \n",
    "   - El valor asignado a cada palabra refleja:\n",
    "     - **TF (Term Frequency)** → cuántas veces aparece la palabra en la reseña.  \n",
    "     - **IDF (Inverse Document Frequency)** → qué tan única es esa palabra en todo el corpus (palabras comunes reciben menor peso).\n",
    "\n",
    "2. **Ventajas de TF-IDF**  \n",
    "   - Reduce la importancia de palabras demasiado frecuentes como “film”, “movie”, “good”.  \n",
    "   - Resalta palabras más distintivas de cada reseña, como “boring”, “masterpiece”, “awful”.  \n",
    "\n",
    "3. **Configuración aplicada**  \n",
    "   - `max_features=50000`: limita el vocabulario a las 50 mil palabras más frecuentes.  \n",
    "   - `ngram_range=(1,2)`: incluye palabras individuales (unigramas) y pares de palabras consecutivas (bigramas).  \n",
    "   - `stop_words='english'`: se eliminan stopwords adicionales de scikit-learn (complemento al preprocesamiento).  \n",
    "\n",
    "4. **Resultado**  \n",
    "   - Obtenemos una matriz dispersa donde:  \n",
    "     - Filas = reseñas.  \n",
    "     - Columnas = palabras del vocabulario seleccionado.  \n",
    "     - Valores = importancia TF-IDF de cada palabra en cada reseña.  \n",
    "\n",
    "Con esta representación, las reseñas están listas para ser utilizadas en el entrenamiento de modelos de clasificación.\n"
   ]
  },
  {
   "cell_type": "code",
   "execution_count": 15,
   "id": "2ff2ea6e",
   "metadata": {},
   "outputs": [
    {
     "name": "stdout",
     "output_type": "stream",
     "text": [
      "Shape del set de entrenamiento: (23757, 50000)\n",
      "Shape del set de prueba: (23483, 50000)\n"
     ]
    }
   ],
   "source": [
    "# 🔽 Dividir dataset en train/test según la columna ds_part\n",
    "train_texts = reviews.loc[reviews['ds_part'] == 'train', 'clean_review']\n",
    "train_labels = reviews.loc[reviews['ds_part'] == 'train', 'pos']\n",
    "\n",
    "test_texts = reviews.loc[reviews['ds_part'] == 'test', 'clean_review']\n",
    "test_labels = reviews.loc[reviews['ds_part'] == 'test', 'pos']\n",
    "\n",
    "# 🔽 Crear vectorizador TF-IDF\n",
    "tfidf = TfidfVectorizer(\n",
    "    max_features=50000,\n",
    "    ngram_range=(1,2),\n",
    "    stop_words='english'\n",
    ")\n",
    "\n",
    "# 🔽 Ajustar en el set de entrenamiento y transformar ambos sets\n",
    "X_train = tfidf.fit_transform(train_texts)\n",
    "X_test = tfidf.transform(test_texts)\n",
    "\n",
    "print(\"Shape del set de entrenamiento:\", X_train.shape)\n",
    "print(\"Shape del set de prueba:\", X_test.shape)\n"
   ]
  },
  {
   "cell_type": "markdown",
   "id": "335bdfd3",
   "metadata": {},
   "source": [
    "# **Modelado: Regresión Logística, SVM y XGBoost**\n",
    "\n",
    "Con las reseñas ya vectorizadas con **TF-IDF**, podemos entrenar modelos de clasificación.  \n",
    "Se probarán tres enfoques distintos:\n",
    "\n",
    "1. **Regresión Logística (Logistic Regression)**\n",
    "   - Modelo lineal clásico para clasificación binaria.  \n",
    "   - Ventaja: rápido, interpretable y muy eficaz con representaciones TF-IDF.  \n",
    "   - Suele servir como **baseline** (punto de referencia).\n",
    "\n",
    "2. **Máquinas de Vectores de Soporte (SVM - Support Vector Machine)**\n",
    "   - Busca el **hiperplano óptimo** que separa las clases en el espacio vectorial.  \n",
    "   - Funciona muy bien en espacios de alta dimensión (como texto con TF-IDF).  \n",
    "   - Puede ser más lento, pero suele mejorar precisión respecto a LogReg.\n",
    "\n",
    "3. **XGBoost (Extreme Gradient Boosting)**\n",
    "   - Algoritmo de **ensamble** basado en árboles de decisión y boosting.  \n",
    "   - Construye modelos secuenciales donde cada árbol corrige los errores del anterior.  \n",
    "   - Captura interacciones no lineales y suele dar gran rendimiento en clasificación.  \n",
    "   - Más complejo y costoso computacionalmente, pero robusto.\n",
    "\n",
    "---\n",
    "\n",
    "### **Evaluación**\n",
    "- Se utiliza la métrica **F1-score**, adecuada cuando se busca balancear **precision** y **recall**.  \n",
    "- También se muestran **reportes de clasificación** y **matrices de confusión** para analizar errores.  \n",
    "\n",
    "La comparación entre estos tres modelos permitirá identificar cuál es más adecuado para la tarea de detección de reseñas negativas.\n"
   ]
  },
  {
   "cell_type": "code",
   "execution_count": 16,
   "id": "8f68bcda",
   "metadata": {},
   "outputs": [
    {
     "name": "stdout",
     "output_type": "stream",
     "text": [
      "\n",
      "===== Evaluación: Regresión Logística =====\n",
      "F1-score (Regresión Logística): 0.8771\n",
      "\n",
      "Reporte de clasificación:\n",
      "              precision    recall  f1-score   support\n",
      "\n",
      "           0       0.88      0.87      0.88     11785\n",
      "           1       0.87      0.88      0.88     11698\n",
      "\n",
      "    accuracy                           0.88     23483\n",
      "   macro avg       0.88      0.88      0.88     23483\n",
      "weighted avg       0.88      0.88      0.88     23483\n",
      "\n"
     ]
    },
    {
     "data": {
      "image/png": "[encoded data removed]",
      "text/plain": [
       "<Figure size 640x480 with 2 Axes>"
      ]
     },
     "metadata": {},
     "output_type": "display_data"
    },
    {
     "name": "stdout",
     "output_type": "stream",
     "text": [
      "\n",
      "===== Evaluación: SVM (LinearSVC) =====\n",
      "F1-score (SVM (LinearSVC)): 0.8661\n",
      "\n",
      "Reporte de clasificación:\n",
      "              precision    recall  f1-score   support\n",
      "\n",
      "           0       0.86      0.88      0.87     11785\n",
      "           1       0.88      0.86      0.87     11698\n",
      "\n",
      "    accuracy                           0.87     23483\n",
      "   macro avg       0.87      0.87      0.87     23483\n",
      "weighted avg       0.87      0.87      0.87     23483\n",
      "\n"
     ]
    },
    {
     "data": {
      "image/png": "[encoded data removed]",
      "text/plain": [
       "<Figure size 640x480 with 2 Axes>"
      ]
     },
     "metadata": {},
     "output_type": "display_data"
    },
    {
     "name": "stdout",
     "output_type": "stream",
     "text": [
      "\n",
      "===== Evaluación: XGBoost =====\n",
      "F1-score (XGBoost): 0.8488\n",
      "\n",
      "Reporte de clasificación:\n",
      "              precision    recall  f1-score   support\n",
      "\n",
      "           0       0.86      0.83      0.84     11785\n",
      "           1       0.83      0.87      0.85     11698\n",
      "\n",
      "    accuracy                           0.85     23483\n",
      "   macro avg       0.85      0.85      0.85     23483\n",
      "weighted avg       0.85      0.85      0.85     23483\n",
      "\n"
     ]
    },
    {
     "data": {
      "image/png": "[encoded data removed]",
      "text/plain": [
       "<Figure size 640x480 with 2 Axes>"
      ]
     },
     "metadata": {},
     "output_type": "display_data"
    },
    {
     "name": "stdout",
     "output_type": "stream",
     "text": [
      "\n",
      "===== Comparativa de F1-scores =====\n",
      "Regresión Logística: 0.8771\n",
      "SVM:                 0.8661\n",
      "XGBoost:             0.8488\n"
     ]
    }
   ],
   "source": [
    "# ==============================================================\n",
    "# 🔽 Función auxiliar para evaluar modelos\n",
    "# ==============================================================\n",
    "\n",
    "def evaluate_model(model, X_train, y_train, X_test, y_test, model_name=\"Modelo\"):\n",
    "    \"\"\"\n",
    "    Entrena un modelo, predice y muestra métricas clave:\n",
    "    - F1-score\n",
    "    - Reporte de clasificación\n",
    "    - Matriz de confusión\n",
    "    \"\"\"\n",
    "    print(f\"\\n===== Evaluación: {model_name} =====\")\n",
    "    \n",
    "    # Entrenar el modelo\n",
    "    model.fit(X_train, y_train)\n",
    "    \n",
    "    # Predicciones\n",
    "    y_pred = model.predict(X_test)\n",
    "    \n",
    "    # F1-score\n",
    "    f1 = f1_score(y_test, y_pred, average='binary')\n",
    "    print(f\"F1-score ({model_name}): {f1:.4f}\")\n",
    "    \n",
    "    # Reporte detallado\n",
    "    print(\"\\nReporte de clasificación:\")\n",
    "    print(classification_report(y_test, y_pred))\n",
    "    \n",
    "    # Matriz de confusión\n",
    "    cm = confusion_matrix(y_test, y_pred)\n",
    "    sns.heatmap(cm, annot=True, fmt=\"d\", cmap=\"Blues\", \n",
    "                xticklabels=[\"Negativo\",\"Positivo\"], \n",
    "                yticklabels=[\"Negativo\",\"Positivo\"])\n",
    "    plt.title(f\"Matriz de Confusión - {model_name}\")\n",
    "    plt.xlabel(\"Predicción\")\n",
    "    plt.ylabel(\"Real\")\n",
    "    plt.show()\n",
    "    \n",
    "    return f1\n",
    "\n",
    "# ==============================================================\n",
    "# 🔽 1) Regresión Logística\n",
    "# ==============================================================\n",
    "\n",
    "log_reg = LogisticRegression(max_iter=200, class_weight='balanced', random_state=42)\n",
    "f1_logreg = evaluate_model(log_reg, X_train, train_labels, X_test, test_labels, \"Regresión Logística\")\n",
    "\n",
    "# ==============================================================\n",
    "# 🔽 2) Support Vector Machine (Linear SVC)\n",
    "# ==============================================================\n",
    "\n",
    "svm = LinearSVC(class_weight='balanced', random_state=42)\n",
    "f1_svm = evaluate_model(svm, X_train, train_labels, X_test, test_labels, \"SVM (LinearSVC)\")\n",
    "\n",
    "# ==============================================================\n",
    "# 🔽 3) XGBoost Classifier\n",
    "# ==============================================================\n",
    "\n",
    "xgb = XGBClassifier(\n",
    "    n_estimators=200,       # número de árboles\n",
    "    learning_rate=0.1,      # tasa de aprendizaje\n",
    "    max_depth=6,            # profundidad máxima de cada árbol\n",
    "    subsample=0.8,          # fracción de datos para cada árbol\n",
    "    colsample_bytree=0.8,   # fracción de características para cada árbol\n",
    "    random_state=42,\n",
    "    n_jobs=-1,\n",
    "    use_label_encoder=False,\n",
    "    eval_metric='logloss'\n",
    ")\n",
    "f1_xgb = evaluate_model(xgb, X_train, train_labels, X_test, test_labels, \"XGBoost\")\n",
    "\n",
    "# ==============================================================\n",
    "# 🔽 Comparativa final\n",
    "# ==============================================================\n",
    "\n",
    "print(\"\\n===== Comparativa de F1-scores =====\")\n",
    "print(f\"Regresión Logística: {f1_logreg:.4f}\")\n",
    "print(f\"SVM:                 {f1_svm:.4f}\")\n",
    "print(f\"XGBoost:             {f1_xgb:.4f}\")\n"
   ]
  },
  {
   "cell_type": "markdown",
   "id": "dadfadfd",
   "metadata": {},
   "source": [
    "##  **Interpretación de Resultados y Conclusión Final**\n",
    "\n",
    "Después de entrenar y evaluar los tres modelos propuestos, se obtuvieron los siguientes **F1-scores**:\n",
    "\n",
    "- **Regresión Logística**: 0.8771  \n",
    "- **SVM (LinearSVC)**: 0.8661  \n",
    "- **XGBoost**: 0.8488  \n",
    "\n",
    "### **Interpretación de los resultados**\n",
    "1. **Regresión Logística** obtuvo el mejor desempeño.  \n",
    "   - Esto confirma que los modelos lineales son altamente efectivos con datos de texto representados mediante **TF-IDF**, ya que el problema suele ser linealmente separable: basta con encontrar combinaciones de palabras que distingan bien entre reseñas positivas y negativas.  \n",
    "\n",
    "2. **SVM** también mostró un buen resultado, muy cercano al de la regresión logística.  \n",
    "   - Funciona bien en espacios de alta dimensión (como texto vectorizado), aunque fue ligeramente menos eficiente en este caso.  \n",
    "\n",
    "3. **XGBoost** tuvo el peor rendimiento de los tres.  \n",
    "   - Esto no significa que sea un mal modelo, sino que su **naturaleza basada en árboles de decisión** no se adapta tan bien a vectores dispersos y de muy alta dimensión como los generados por TF-IDF.  \n",
    "   - XGBoost suele brillar en datos tabulares con interacciones no lineales entre variables, pero en este caso su complejidad no aportó ventajas.  \n",
    "\n",
    "### **Conclusión**\n",
    "- Se alcanzó y superó el umbral de desempeño requerido (**F1 ≥ 0.85**).  \n",
    "- La **Regresión Logística** se confirma como el modelo más adecuado y eficiente para este problema, seguida de cerca por **SVM**.  \n",
    "- El resultado muestra que, para tareas de análisis de sentimientos con TF-IDF, **los modelos lineales son preferibles a los de boosting**.  \n",
    "\n",
    "Con esto, el proyecto queda completado exitosamente.  \n",
    "\n"
   ]
  },
  {
   "cell_type": "markdown",
   "id": "0a3daf33",
   "metadata": {},
   "source": [
    "# **Uso de BERT en el proyecto**\n",
    "\n",
    "Aunque los modelos clásicos con TF-IDF (Regresión Logística, SVM y XGBoost) ya alcanzaron buenos resultados, \n",
    "también se exploró un enfoque basado en **BERT** (Bidirectional Encoder Representations from Transformers).\n",
    "\n",
    "Dado que entrenar BERT sobre las 47 000 reseñas completas sería extremadamente costoso en CPU, \n",
    "se utilizó la variante **DistilBERT**, que es una versión más ligera y rápida. \n",
    "Además, se trabajó con un **subset reducido y balanceado** (5 000 reseñas para entrenamiento y 2 000 para prueba).\n",
    "\n",
    "El procedimiento consistió en:\n",
    "1. Tokenizar las reseñas con el tokenizer de BERT.\n",
    "2. Convertir los textos a tensores de embeddings.\n",
    "3. Entrenar únicamente la **capa de clasificación final**, congelando las capas base del modelo preentrenado.\n",
    "4. Evaluar el rendimiento con la métrica F1-score.\n",
    "\n",
    "Este enfoque permite comparar:\n",
    "- **Modelos clásicos basados en TF-IDF**, rápidos y eficientes.\n",
    "- **Modelos basados en BERT**, más costosos pero con capacidad de capturar relaciones semánticas profundas en el lenguaje.\n",
    "\n",
    "Con ello, se puede analizar si el uso de embeddings modernos aporta mejoras significativas frente a las técnicas tradicionales.\n"
   ]
  },
  {
   "cell_type": "code",
   "execution_count": 19,
   "id": "9bb6e7a2",
   "metadata": {},
   "outputs": [
    {
     "name": "stdout",
     "output_type": "stream",
     "text": [
      "(500, 22) (200, 22)\n"
     ]
    },
    {
     "name": "stderr",
     "output_type": "stream",
     "text": [
      "Some weights of DistilBertForSequenceClassification were not initialized from the model checkpoint at distilbert-base-uncased and are newly initialized: ['classifier.bias', 'classifier.weight', 'pre_classifier.bias', 'pre_classifier.weight']\n",
      "You should probably TRAIN this model on a down-stream task to be able to use it for predictions and inference.\n"
     ]
    },
    {
     "data": {
      "text/html": [
       "\n",
       "    <div>\n",
       "      \n",
       "      <progress value='2' max='64' style='width:300px; height:20px; vertical-align: middle;'></progress>\n",
       "      [ 2/64 : < :, Epoch 0.03/2]\n",
       "    </div>\n",
       "    <table border=\"1\" class=\"dataframe\">\n",
       "  <thead>\n",
       " <tr style=\"text-align: left;\">\n",
       "      <th>Step</th>\n",
       "      <th>Training Loss</th>\n",
       "    </tr>\n",
       "  </thead>\n",
       "  <tbody>\n",
       "  </tbody>\n",
       "</table><p>"
      ],
      "text/plain": [
       "<IPython.core.display.HTML object>"
      ]
     },
     "metadata": {},
     "output_type": "display_data"
    },
    {
     "ename": "KeyboardInterrupt",
     "evalue": "",
     "output_type": "error",
     "traceback": [
      "\u001b[31m---------------------------------------------------------------------------\u001b[39m",
      "\u001b[31mKeyboardInterrupt\u001b[39m                         Traceback (most recent call last)",
      "\u001b[36mCell\u001b[39m\u001b[36m \u001b[39m\u001b[32mIn[19]\u001b[39m\u001b[32m, line 86\u001b[39m\n\u001b[32m     75\u001b[39m trainer = Trainer(\n\u001b[32m     76\u001b[39m     model=model,\n\u001b[32m     77\u001b[39m     args=training_args,\n\u001b[32m   (...)\u001b[39m\u001b[32m     80\u001b[39m     compute_metrics=compute_metrics\n\u001b[32m     81\u001b[39m )\n\u001b[32m     83\u001b[39m \u001b[38;5;66;03m# =====================================================\u001b[39;00m\n\u001b[32m     84\u001b[39m \u001b[38;5;66;03m# 8. Entrenamiento y evaluación\u001b[39;00m\n\u001b[32m     85\u001b[39m \u001b[38;5;66;03m# =====================================================\u001b[39;00m\n\u001b[32m---> \u001b[39m\u001b[32m86\u001b[39m \u001b[43mtrainer\u001b[49m\u001b[43m.\u001b[49m\u001b[43mtrain\u001b[49m\u001b[43m(\u001b[49m\u001b[43m)\u001b[49m\n\u001b[32m     87\u001b[39m results = trainer.evaluate()\n\u001b[32m     88\u001b[39m \u001b[38;5;28mprint\u001b[39m(\u001b[33m\"\u001b[39m\u001b[33mResultados con DistilBERT:\u001b[39m\u001b[33m\"\u001b[39m, results)\n",
      "\u001b[36mFile \u001b[39m\u001b[32mc:\\Users\\gabri\\OneDrive\\Escritorio\\proyectos\\.venv\\Lib\\site-packages\\transformers\\trainer.py:2328\u001b[39m, in \u001b[36mTrainer.train\u001b[39m\u001b[34m(self, resume_from_checkpoint, trial, ignore_keys_for_eval, **kwargs)\u001b[39m\n\u001b[32m   2326\u001b[39m         hf_hub_utils.enable_progress_bars()\n\u001b[32m   2327\u001b[39m \u001b[38;5;28;01melse\u001b[39;00m:\n\u001b[32m-> \u001b[39m\u001b[32m2328\u001b[39m     \u001b[38;5;28;01mreturn\u001b[39;00m \u001b[43minner_training_loop\u001b[49m\u001b[43m(\u001b[49m\n\u001b[32m   2329\u001b[39m \u001b[43m        \u001b[49m\u001b[43margs\u001b[49m\u001b[43m=\u001b[49m\u001b[43margs\u001b[49m\u001b[43m,\u001b[49m\n\u001b[32m   2330\u001b[39m \u001b[43m        \u001b[49m\u001b[43mresume_from_checkpoint\u001b[49m\u001b[43m=\u001b[49m\u001b[43mresume_from_checkpoint\u001b[49m\u001b[43m,\u001b[49m\n\u001b[32m   2331\u001b[39m \u001b[43m        \u001b[49m\u001b[43mtrial\u001b[49m\u001b[43m=\u001b[49m\u001b[43mtrial\u001b[49m\u001b[43m,\u001b[49m\n\u001b[32m   2332\u001b[39m \u001b[43m        \u001b[49m\u001b[43mignore_keys_for_eval\u001b[49m\u001b[43m=\u001b[49m\u001b[43mignore_keys_for_eval\u001b[49m\u001b[43m,\u001b[49m\n\u001b[32m   2333\u001b[39m \u001b[43m    \u001b[49m\u001b[43m)\u001b[49m\n",
      "\u001b[36mFile \u001b[39m\u001b[32mc:\\Users\\gabri\\OneDrive\\Escritorio\\proyectos\\.venv\\Lib\\site-packages\\transformers\\trainer.py:2672\u001b[39m, in \u001b[36mTrainer._inner_training_loop\u001b[39m\u001b[34m(self, batch_size, args, resume_from_checkpoint, trial, ignore_keys_for_eval)\u001b[39m\n\u001b[32m   2665\u001b[39m context = (\n\u001b[32m   2666\u001b[39m     functools.partial(\u001b[38;5;28mself\u001b[39m.accelerator.no_sync, model=model)\n\u001b[32m   2667\u001b[39m     \u001b[38;5;28;01mif\u001b[39;00m i != \u001b[38;5;28mlen\u001b[39m(batch_samples) - \u001b[32m1\u001b[39m\n\u001b[32m   2668\u001b[39m     \u001b[38;5;129;01mand\u001b[39;00m \u001b[38;5;28mself\u001b[39m.accelerator.distributed_type != DistributedType.DEEPSPEED\n\u001b[32m   2669\u001b[39m     \u001b[38;5;28;01melse\u001b[39;00m contextlib.nullcontext\n\u001b[32m   2670\u001b[39m )\n\u001b[32m   2671\u001b[39m \u001b[38;5;28;01mwith\u001b[39;00m context():\n\u001b[32m-> \u001b[39m\u001b[32m2672\u001b[39m     tr_loss_step = \u001b[38;5;28;43mself\u001b[39;49m\u001b[43m.\u001b[49m\u001b[43mtraining_step\u001b[49m\u001b[43m(\u001b[49m\u001b[43mmodel\u001b[49m\u001b[43m,\u001b[49m\u001b[43m \u001b[49m\u001b[43minputs\u001b[49m\u001b[43m,\u001b[49m\u001b[43m \u001b[49m\u001b[43mnum_items_in_batch\u001b[49m\u001b[43m)\u001b[49m\n\u001b[32m   2674\u001b[39m \u001b[38;5;28;01mif\u001b[39;00m (\n\u001b[32m   2675\u001b[39m     args.logging_nan_inf_filter\n\u001b[32m   2676\u001b[39m     \u001b[38;5;129;01mand\u001b[39;00m \u001b[38;5;129;01mnot\u001b[39;00m is_torch_xla_available()\n\u001b[32m   2677\u001b[39m     \u001b[38;5;129;01mand\u001b[39;00m (torch.isnan(tr_loss_step) \u001b[38;5;129;01mor\u001b[39;00m torch.isinf(tr_loss_step))\n\u001b[32m   2678\u001b[39m ):\n\u001b[32m   2679\u001b[39m     \u001b[38;5;66;03m# if loss is nan or inf simply add the average of previous logged losses\u001b[39;00m\n\u001b[32m   2680\u001b[39m     tr_loss = tr_loss + tr_loss / (\u001b[32m1\u001b[39m + \u001b[38;5;28mself\u001b[39m.state.global_step - \u001b[38;5;28mself\u001b[39m._globalstep_last_logged)\n",
      "\u001b[36mFile \u001b[39m\u001b[32mc:\\Users\\gabri\\OneDrive\\Escritorio\\proyectos\\.venv\\Lib\\site-packages\\transformers\\trainer.py:4009\u001b[39m, in \u001b[36mTrainer.training_step\u001b[39m\u001b[34m(self, model, inputs, num_items_in_batch)\u001b[39m\n\u001b[32m   4006\u001b[39m     \u001b[38;5;28;01mreturn\u001b[39;00m loss_mb.reduce_mean().detach().to(\u001b[38;5;28mself\u001b[39m.args.device)\n\u001b[32m   4008\u001b[39m \u001b[38;5;28;01mwith\u001b[39;00m \u001b[38;5;28mself\u001b[39m.compute_loss_context_manager():\n\u001b[32m-> \u001b[39m\u001b[32m4009\u001b[39m     loss = \u001b[38;5;28;43mself\u001b[39;49m\u001b[43m.\u001b[49m\u001b[43mcompute_loss\u001b[49m\u001b[43m(\u001b[49m\u001b[43mmodel\u001b[49m\u001b[43m,\u001b[49m\u001b[43m \u001b[49m\u001b[43minputs\u001b[49m\u001b[43m,\u001b[49m\u001b[43m \u001b[49m\u001b[43mnum_items_in_batch\u001b[49m\u001b[43m=\u001b[49m\u001b[43mnum_items_in_batch\u001b[49m\u001b[43m)\u001b[49m\n\u001b[32m   4011\u001b[39m \u001b[38;5;28;01mdel\u001b[39;00m inputs\n\u001b[32m   4012\u001b[39m \u001b[38;5;28;01mif\u001b[39;00m (\n\u001b[32m   4013\u001b[39m     \u001b[38;5;28mself\u001b[39m.args.torch_empty_cache_steps \u001b[38;5;129;01mis\u001b[39;00m \u001b[38;5;129;01mnot\u001b[39;00m \u001b[38;5;28;01mNone\u001b[39;00m\n\u001b[32m   4014\u001b[39m     \u001b[38;5;129;01mand\u001b[39;00m \u001b[38;5;28mself\u001b[39m.state.global_step % \u001b[38;5;28mself\u001b[39m.args.torch_empty_cache_steps == \u001b[32m0\u001b[39m\n\u001b[32m   4015\u001b[39m ):\n",
      "\u001b[36mFile \u001b[39m\u001b[32mc:\\Users\\gabri\\OneDrive\\Escritorio\\proyectos\\.venv\\Lib\\site-packages\\transformers\\trainer.py:4099\u001b[39m, in \u001b[36mTrainer.compute_loss\u001b[39m\u001b[34m(self, model, inputs, return_outputs, num_items_in_batch)\u001b[39m\n\u001b[32m   4097\u001b[39m         kwargs[\u001b[33m\"\u001b[39m\u001b[33mnum_items_in_batch\u001b[39m\u001b[33m\"\u001b[39m] = num_items_in_batch\n\u001b[32m   4098\u001b[39m     inputs = {**inputs, **kwargs}\n\u001b[32m-> \u001b[39m\u001b[32m4099\u001b[39m outputs = \u001b[43mmodel\u001b[49m\u001b[43m(\u001b[49m\u001b[43m*\u001b[49m\u001b[43m*\u001b[49m\u001b[43minputs\u001b[49m\u001b[43m)\u001b[49m\n\u001b[32m   4100\u001b[39m \u001b[38;5;66;03m# Save past state if it exists\u001b[39;00m\n\u001b[32m   4101\u001b[39m \u001b[38;5;66;03m# TODO: this needs to be fixed and made cleaner later.\u001b[39;00m\n\u001b[32m   4102\u001b[39m \u001b[38;5;28;01mif\u001b[39;00m \u001b[38;5;28mself\u001b[39m.args.past_index >= \u001b[32m0\u001b[39m:\n",
      "\u001b[36mFile \u001b[39m\u001b[32mc:\\Users\\gabri\\OneDrive\\Escritorio\\proyectos\\.venv\\Lib\\site-packages\\torch\\nn\\modules\\module.py:1773\u001b[39m, in \u001b[36mModule._wrapped_call_impl\u001b[39m\u001b[34m(self, *args, **kwargs)\u001b[39m\n\u001b[32m   1771\u001b[39m     \u001b[38;5;28;01mreturn\u001b[39;00m \u001b[38;5;28mself\u001b[39m._compiled_call_impl(*args, **kwargs)  \u001b[38;5;66;03m# type: ignore[misc]\u001b[39;00m\n\u001b[32m   1772\u001b[39m \u001b[38;5;28;01melse\u001b[39;00m:\n\u001b[32m-> \u001b[39m\u001b[32m1773\u001b[39m     \u001b[38;5;28;01mreturn\u001b[39;00m \u001b[38;5;28;43mself\u001b[39;49m\u001b[43m.\u001b[49m\u001b[43m_call_impl\u001b[49m\u001b[43m(\u001b[49m\u001b[43m*\u001b[49m\u001b[43margs\u001b[49m\u001b[43m,\u001b[49m\u001b[43m \u001b[49m\u001b[43m*\u001b[49m\u001b[43m*\u001b[49m\u001b[43mkwargs\u001b[49m\u001b[43m)\u001b[49m\n",
      "\u001b[36mFile \u001b[39m\u001b[32mc:\\Users\\gabri\\OneDrive\\Escritorio\\proyectos\\.venv\\Lib\\site-packages\\torch\\nn\\modules\\module.py:1784\u001b[39m, in \u001b[36mModule._call_impl\u001b[39m\u001b[34m(self, *args, **kwargs)\u001b[39m\n\u001b[32m   1779\u001b[39m \u001b[38;5;66;03m# If we don't have any hooks, we want to skip the rest of the logic in\u001b[39;00m\n\u001b[32m   1780\u001b[39m \u001b[38;5;66;03m# this function, and just call forward.\u001b[39;00m\n\u001b[32m   1781\u001b[39m \u001b[38;5;28;01mif\u001b[39;00m \u001b[38;5;129;01mnot\u001b[39;00m (\u001b[38;5;28mself\u001b[39m._backward_hooks \u001b[38;5;129;01mor\u001b[39;00m \u001b[38;5;28mself\u001b[39m._backward_pre_hooks \u001b[38;5;129;01mor\u001b[39;00m \u001b[38;5;28mself\u001b[39m._forward_hooks \u001b[38;5;129;01mor\u001b[39;00m \u001b[38;5;28mself\u001b[39m._forward_pre_hooks\n\u001b[32m   1782\u001b[39m         \u001b[38;5;129;01mor\u001b[39;00m _global_backward_pre_hooks \u001b[38;5;129;01mor\u001b[39;00m _global_backward_hooks\n\u001b[32m   1783\u001b[39m         \u001b[38;5;129;01mor\u001b[39;00m _global_forward_hooks \u001b[38;5;129;01mor\u001b[39;00m _global_forward_pre_hooks):\n\u001b[32m-> \u001b[39m\u001b[32m1784\u001b[39m     \u001b[38;5;28;01mreturn\u001b[39;00m \u001b[43mforward_call\u001b[49m\u001b[43m(\u001b[49m\u001b[43m*\u001b[49m\u001b[43margs\u001b[49m\u001b[43m,\u001b[49m\u001b[43m \u001b[49m\u001b[43m*\u001b[49m\u001b[43m*\u001b[49m\u001b[43mkwargs\u001b[49m\u001b[43m)\u001b[49m\n\u001b[32m   1786\u001b[39m result = \u001b[38;5;28;01mNone\u001b[39;00m\n\u001b[32m   1787\u001b[39m called_always_called_hooks = \u001b[38;5;28mset\u001b[39m()\n",
      "\u001b[36mFile \u001b[39m\u001b[32mc:\\Users\\gabri\\OneDrive\\Escritorio\\proyectos\\.venv\\Lib\\site-packages\\transformers\\models\\distilbert\\modeling_distilbert.py:907\u001b[39m, in \u001b[36mDistilBertForSequenceClassification.forward\u001b[39m\u001b[34m(self, input_ids, attention_mask, head_mask, inputs_embeds, labels, output_attentions, output_hidden_states, return_dict)\u001b[39m\n\u001b[32m    899\u001b[39m \u001b[38;5;250m\u001b[39m\u001b[33mr\u001b[39m\u001b[33;03m\"\"\"\u001b[39;00m\n\u001b[32m    900\u001b[39m \u001b[33;03mlabels (`torch.LongTensor` of shape `(batch_size,)`, *optional*):\u001b[39;00m\n\u001b[32m    901\u001b[39m \u001b[33;03m    Labels for computing the sequence classification/regression loss. Indices should be in `[0, ...,\u001b[39;00m\n\u001b[32m    902\u001b[39m \u001b[33;03m    config.num_labels - 1]`. If `config.num_labels == 1` a regression loss is computed (Mean-Square loss), If\u001b[39;00m\n\u001b[32m    903\u001b[39m \u001b[33;03m    `config.num_labels > 1` a classification loss is computed (Cross-Entropy).\u001b[39;00m\n\u001b[32m    904\u001b[39m \u001b[33;03m\"\"\"\u001b[39;00m\n\u001b[32m    905\u001b[39m return_dict = return_dict \u001b[38;5;28;01mif\u001b[39;00m return_dict \u001b[38;5;129;01mis\u001b[39;00m \u001b[38;5;129;01mnot\u001b[39;00m \u001b[38;5;28;01mNone\u001b[39;00m \u001b[38;5;28;01melse\u001b[39;00m \u001b[38;5;28mself\u001b[39m.config.use_return_dict\n\u001b[32m--> \u001b[39m\u001b[32m907\u001b[39m distilbert_output = \u001b[38;5;28;43mself\u001b[39;49m\u001b[43m.\u001b[49m\u001b[43mdistilbert\u001b[49m\u001b[43m(\u001b[49m\n\u001b[32m    908\u001b[39m \u001b[43m    \u001b[49m\u001b[43minput_ids\u001b[49m\u001b[43m=\u001b[49m\u001b[43minput_ids\u001b[49m\u001b[43m,\u001b[49m\n\u001b[32m    909\u001b[39m \u001b[43m    \u001b[49m\u001b[43mattention_mask\u001b[49m\u001b[43m=\u001b[49m\u001b[43mattention_mask\u001b[49m\u001b[43m,\u001b[49m\n\u001b[32m    910\u001b[39m \u001b[43m    \u001b[49m\u001b[43mhead_mask\u001b[49m\u001b[43m=\u001b[49m\u001b[43mhead_mask\u001b[49m\u001b[43m,\u001b[49m\n\u001b[32m    911\u001b[39m \u001b[43m    \u001b[49m\u001b[43minputs_embeds\u001b[49m\u001b[43m=\u001b[49m\u001b[43minputs_embeds\u001b[49m\u001b[43m,\u001b[49m\n\u001b[32m    912\u001b[39m \u001b[43m    \u001b[49m\u001b[43moutput_attentions\u001b[49m\u001b[43m=\u001b[49m\u001b[43moutput_attentions\u001b[49m\u001b[43m,\u001b[49m\n\u001b[32m    913\u001b[39m \u001b[43m    \u001b[49m\u001b[43moutput_hidden_states\u001b[49m\u001b[43m=\u001b[49m\u001b[43moutput_hidden_states\u001b[49m\u001b[43m,\u001b[49m\n\u001b[32m    914\u001b[39m \u001b[43m    \u001b[49m\u001b[43mreturn_dict\u001b[49m\u001b[43m=\u001b[49m\u001b[43mreturn_dict\u001b[49m\u001b[43m,\u001b[49m\n\u001b[32m    915\u001b[39m \u001b[43m\u001b[49m\u001b[43m)\u001b[49m\n\u001b[32m    916\u001b[39m hidden_state = distilbert_output[\u001b[32m0\u001b[39m]  \u001b[38;5;66;03m# (bs, seq_len, dim)\u001b[39;00m\n\u001b[32m    917\u001b[39m pooled_output = hidden_state[:, \u001b[32m0\u001b[39m]  \u001b[38;5;66;03m# (bs, dim)\u001b[39;00m\n",
      "\u001b[36mFile \u001b[39m\u001b[32mc:\\Users\\gabri\\OneDrive\\Escritorio\\proyectos\\.venv\\Lib\\site-packages\\torch\\nn\\modules\\module.py:1773\u001b[39m, in \u001b[36mModule._wrapped_call_impl\u001b[39m\u001b[34m(self, *args, **kwargs)\u001b[39m\n\u001b[32m   1771\u001b[39m     \u001b[38;5;28;01mreturn\u001b[39;00m \u001b[38;5;28mself\u001b[39m._compiled_call_impl(*args, **kwargs)  \u001b[38;5;66;03m# type: ignore[misc]\u001b[39;00m\n\u001b[32m   1772\u001b[39m \u001b[38;5;28;01melse\u001b[39;00m:\n\u001b[32m-> \u001b[39m\u001b[32m1773\u001b[39m     \u001b[38;5;28;01mreturn\u001b[39;00m \u001b[38;5;28;43mself\u001b[39;49m\u001b[43m.\u001b[49m\u001b[43m_call_impl\u001b[49m\u001b[43m(\u001b[49m\u001b[43m*\u001b[49m\u001b[43margs\u001b[49m\u001b[43m,\u001b[49m\u001b[43m \u001b[49m\u001b[43m*\u001b[49m\u001b[43m*\u001b[49m\u001b[43mkwargs\u001b[49m\u001b[43m)\u001b[49m\n",
      "\u001b[36mFile \u001b[39m\u001b[32mc:\\Users\\gabri\\OneDrive\\Escritorio\\proyectos\\.venv\\Lib\\site-packages\\torch\\nn\\modules\\module.py:1784\u001b[39m, in \u001b[36mModule._call_impl\u001b[39m\u001b[34m(self, *args, **kwargs)\u001b[39m\n\u001b[32m   1779\u001b[39m \u001b[38;5;66;03m# If we don't have any hooks, we want to skip the rest of the logic in\u001b[39;00m\n\u001b[32m   1780\u001b[39m \u001b[38;5;66;03m# this function, and just call forward.\u001b[39;00m\n\u001b[32m   1781\u001b[39m \u001b[38;5;28;01mif\u001b[39;00m \u001b[38;5;129;01mnot\u001b[39;00m (\u001b[38;5;28mself\u001b[39m._backward_hooks \u001b[38;5;129;01mor\u001b[39;00m \u001b[38;5;28mself\u001b[39m._backward_pre_hooks \u001b[38;5;129;01mor\u001b[39;00m \u001b[38;5;28mself\u001b[39m._forward_hooks \u001b[38;5;129;01mor\u001b[39;00m \u001b[38;5;28mself\u001b[39m._forward_pre_hooks\n\u001b[32m   1782\u001b[39m         \u001b[38;5;129;01mor\u001b[39;00m _global_backward_pre_hooks \u001b[38;5;129;01mor\u001b[39;00m _global_backward_hooks\n\u001b[32m   1783\u001b[39m         \u001b[38;5;129;01mor\u001b[39;00m _global_forward_hooks \u001b[38;5;129;01mor\u001b[39;00m _global_forward_pre_hooks):\n\u001b[32m-> \u001b[39m\u001b[32m1784\u001b[39m     \u001b[38;5;28;01mreturn\u001b[39;00m \u001b[43mforward_call\u001b[49m\u001b[43m(\u001b[49m\u001b[43m*\u001b[49m\u001b[43margs\u001b[49m\u001b[43m,\u001b[49m\u001b[43m \u001b[49m\u001b[43m*\u001b[49m\u001b[43m*\u001b[49m\u001b[43mkwargs\u001b[49m\u001b[43m)\u001b[49m\n\u001b[32m   1786\u001b[39m result = \u001b[38;5;28;01mNone\u001b[39;00m\n\u001b[32m   1787\u001b[39m called_always_called_hooks = \u001b[38;5;28mset\u001b[39m()\n",
      "\u001b[36mFile \u001b[39m\u001b[32mc:\\Users\\gabri\\OneDrive\\Escritorio\\proyectos\\.venv\\Lib\\site-packages\\transformers\\models\\distilbert\\modeling_distilbert.py:726\u001b[39m, in \u001b[36mDistilBertModel.forward\u001b[39m\u001b[34m(self, input_ids, attention_mask, head_mask, inputs_embeds, output_attentions, output_hidden_states, return_dict)\u001b[39m\n\u001b[32m    721\u001b[39m     \u001b[38;5;28;01mif\u001b[39;00m \u001b[38;5;28mself\u001b[39m._use_sdpa \u001b[38;5;129;01mand\u001b[39;00m head_mask_is_none \u001b[38;5;129;01mand\u001b[39;00m \u001b[38;5;129;01mnot\u001b[39;00m output_attentions:\n\u001b[32m    722\u001b[39m         attention_mask = _prepare_4d_attention_mask_for_sdpa(\n\u001b[32m    723\u001b[39m             attention_mask, embeddings.dtype, tgt_len=input_shape[\u001b[32m1\u001b[39m]\n\u001b[32m    724\u001b[39m         )\n\u001b[32m--> \u001b[39m\u001b[32m726\u001b[39m \u001b[38;5;28;01mreturn\u001b[39;00m \u001b[38;5;28;43mself\u001b[39;49m\u001b[43m.\u001b[49m\u001b[43mtransformer\u001b[49m\u001b[43m(\u001b[49m\n\u001b[32m    727\u001b[39m \u001b[43m    \u001b[49m\u001b[43mx\u001b[49m\u001b[43m=\u001b[49m\u001b[43membeddings\u001b[49m\u001b[43m,\u001b[49m\n\u001b[32m    728\u001b[39m \u001b[43m    \u001b[49m\u001b[43mattn_mask\u001b[49m\u001b[43m=\u001b[49m\u001b[43mattention_mask\u001b[49m\u001b[43m,\u001b[49m\n\u001b[32m    729\u001b[39m \u001b[43m    \u001b[49m\u001b[43mhead_mask\u001b[49m\u001b[43m=\u001b[49m\u001b[43mhead_mask\u001b[49m\u001b[43m,\u001b[49m\n\u001b[32m    730\u001b[39m \u001b[43m    \u001b[49m\u001b[43moutput_attentions\u001b[49m\u001b[43m=\u001b[49m\u001b[43moutput_attentions\u001b[49m\u001b[43m,\u001b[49m\n\u001b[32m    731\u001b[39m \u001b[43m    \u001b[49m\u001b[43moutput_hidden_states\u001b[49m\u001b[43m=\u001b[49m\u001b[43moutput_hidden_states\u001b[49m\u001b[43m,\u001b[49m\n\u001b[32m    732\u001b[39m \u001b[43m    \u001b[49m\u001b[43mreturn_dict\u001b[49m\u001b[43m=\u001b[49m\u001b[43mreturn_dict\u001b[49m\u001b[43m,\u001b[49m\n\u001b[32m    733\u001b[39m \u001b[43m\u001b[49m\u001b[43m)\u001b[49m\n",
      "\u001b[36mFile \u001b[39m\u001b[32mc:\\Users\\gabri\\OneDrive\\Escritorio\\proyectos\\.venv\\Lib\\site-packages\\torch\\nn\\modules\\module.py:1773\u001b[39m, in \u001b[36mModule._wrapped_call_impl\u001b[39m\u001b[34m(self, *args, **kwargs)\u001b[39m\n\u001b[32m   1771\u001b[39m     \u001b[38;5;28;01mreturn\u001b[39;00m \u001b[38;5;28mself\u001b[39m._compiled_call_impl(*args, **kwargs)  \u001b[38;5;66;03m# type: ignore[misc]\u001b[39;00m\n\u001b[32m   1772\u001b[39m \u001b[38;5;28;01melse\u001b[39;00m:\n\u001b[32m-> \u001b[39m\u001b[32m1773\u001b[39m     \u001b[38;5;28;01mreturn\u001b[39;00m \u001b[38;5;28;43mself\u001b[39;49m\u001b[43m.\u001b[49m\u001b[43m_call_impl\u001b[49m\u001b[43m(\u001b[49m\u001b[43m*\u001b[49m\u001b[43margs\u001b[49m\u001b[43m,\u001b[49m\u001b[43m \u001b[49m\u001b[43m*\u001b[49m\u001b[43m*\u001b[49m\u001b[43mkwargs\u001b[49m\u001b[43m)\u001b[49m\n",
      "\u001b[36mFile \u001b[39m\u001b[32mc:\\Users\\gabri\\OneDrive\\Escritorio\\proyectos\\.venv\\Lib\\site-packages\\torch\\nn\\modules\\module.py:1784\u001b[39m, in \u001b[36mModule._call_impl\u001b[39m\u001b[34m(self, *args, **kwargs)\u001b[39m\n\u001b[32m   1779\u001b[39m \u001b[38;5;66;03m# If we don't have any hooks, we want to skip the rest of the logic in\u001b[39;00m\n\u001b[32m   1780\u001b[39m \u001b[38;5;66;03m# this function, and just call forward.\u001b[39;00m\n\u001b[32m   1781\u001b[39m \u001b[38;5;28;01mif\u001b[39;00m \u001b[38;5;129;01mnot\u001b[39;00m (\u001b[38;5;28mself\u001b[39m._backward_hooks \u001b[38;5;129;01mor\u001b[39;00m \u001b[38;5;28mself\u001b[39m._backward_pre_hooks \u001b[38;5;129;01mor\u001b[39;00m \u001b[38;5;28mself\u001b[39m._forward_hooks \u001b[38;5;129;01mor\u001b[39;00m \u001b[38;5;28mself\u001b[39m._forward_pre_hooks\n\u001b[32m   1782\u001b[39m         \u001b[38;5;129;01mor\u001b[39;00m _global_backward_pre_hooks \u001b[38;5;129;01mor\u001b[39;00m _global_backward_hooks\n\u001b[32m   1783\u001b[39m         \u001b[38;5;129;01mor\u001b[39;00m _global_forward_hooks \u001b[38;5;129;01mor\u001b[39;00m _global_forward_pre_hooks):\n\u001b[32m-> \u001b[39m\u001b[32m1784\u001b[39m     \u001b[38;5;28;01mreturn\u001b[39;00m \u001b[43mforward_call\u001b[49m\u001b[43m(\u001b[49m\u001b[43m*\u001b[49m\u001b[43margs\u001b[49m\u001b[43m,\u001b[49m\u001b[43m \u001b[49m\u001b[43m*\u001b[49m\u001b[43m*\u001b[49m\u001b[43mkwargs\u001b[49m\u001b[43m)\u001b[49m\n\u001b[32m   1786\u001b[39m result = \u001b[38;5;28;01mNone\u001b[39;00m\n\u001b[32m   1787\u001b[39m called_always_called_hooks = \u001b[38;5;28mset\u001b[39m()\n",
      "\u001b[36mFile \u001b[39m\u001b[32mc:\\Users\\gabri\\OneDrive\\Escritorio\\proyectos\\.venv\\Lib\\site-packages\\transformers\\models\\distilbert\\modeling_distilbert.py:531\u001b[39m, in \u001b[36mTransformer.forward\u001b[39m\u001b[34m(self, x, attn_mask, head_mask, output_attentions, output_hidden_states, return_dict)\u001b[39m\n\u001b[32m    528\u001b[39m \u001b[38;5;28;01mif\u001b[39;00m output_hidden_states:\n\u001b[32m    529\u001b[39m     all_hidden_states = all_hidden_states + (hidden_state,)\n\u001b[32m--> \u001b[39m\u001b[32m531\u001b[39m layer_outputs = \u001b[43mlayer_module\u001b[49m\u001b[43m(\u001b[49m\n\u001b[32m    532\u001b[39m \u001b[43m    \u001b[49m\u001b[43mhidden_state\u001b[49m\u001b[43m,\u001b[49m\n\u001b[32m    533\u001b[39m \u001b[43m    \u001b[49m\u001b[43mattn_mask\u001b[49m\u001b[43m,\u001b[49m\n\u001b[32m    534\u001b[39m \u001b[43m    \u001b[49m\u001b[43mhead_mask\u001b[49m\u001b[43m[\u001b[49m\u001b[43mi\u001b[49m\u001b[43m]\u001b[49m\u001b[43m,\u001b[49m\n\u001b[32m    535\u001b[39m \u001b[43m    \u001b[49m\u001b[43moutput_attentions\u001b[49m\u001b[43m,\u001b[49m\n\u001b[32m    536\u001b[39m \u001b[43m\u001b[49m\u001b[43m)\u001b[49m\n\u001b[32m    538\u001b[39m hidden_state = layer_outputs[-\u001b[32m1\u001b[39m]\n\u001b[32m    540\u001b[39m \u001b[38;5;28;01mif\u001b[39;00m output_attentions:\n",
      "\u001b[36mFile \u001b[39m\u001b[32mc:\\Users\\gabri\\OneDrive\\Escritorio\\proyectos\\.venv\\Lib\\site-packages\\transformers\\modeling_layers.py:94\u001b[39m, in \u001b[36mGradientCheckpointingLayer.__call__\u001b[39m\u001b[34m(self, *args, **kwargs)\u001b[39m\n\u001b[32m     91\u001b[39m         logger.warning_once(message)\n\u001b[32m     93\u001b[39m     \u001b[38;5;28;01mreturn\u001b[39;00m \u001b[38;5;28mself\u001b[39m._gradient_checkpointing_func(partial(\u001b[38;5;28msuper\u001b[39m().\u001b[34m__call__\u001b[39m, **kwargs), *args)\n\u001b[32m---> \u001b[39m\u001b[32m94\u001b[39m \u001b[38;5;28;01mreturn\u001b[39;00m \u001b[38;5;28;43msuper\u001b[39;49m\u001b[43m(\u001b[49m\u001b[43m)\u001b[49m\u001b[43m.\u001b[49m\u001b[34;43m__call__\u001b[39;49m\u001b[43m(\u001b[49m\u001b[43m*\u001b[49m\u001b[43margs\u001b[49m\u001b[43m,\u001b[49m\u001b[43m \u001b[49m\u001b[43m*\u001b[49m\u001b[43m*\u001b[49m\u001b[43mkwargs\u001b[49m\u001b[43m)\u001b[49m\n",
      "\u001b[36mFile \u001b[39m\u001b[32mc:\\Users\\gabri\\OneDrive\\Escritorio\\proyectos\\.venv\\Lib\\site-packages\\torch\\nn\\modules\\module.py:1773\u001b[39m, in \u001b[36mModule._wrapped_call_impl\u001b[39m\u001b[34m(self, *args, **kwargs)\u001b[39m\n\u001b[32m   1771\u001b[39m     \u001b[38;5;28;01mreturn\u001b[39;00m \u001b[38;5;28mself\u001b[39m._compiled_call_impl(*args, **kwargs)  \u001b[38;5;66;03m# type: ignore[misc]\u001b[39;00m\n\u001b[32m   1772\u001b[39m \u001b[38;5;28;01melse\u001b[39;00m:\n\u001b[32m-> \u001b[39m\u001b[32m1773\u001b[39m     \u001b[38;5;28;01mreturn\u001b[39;00m \u001b[38;5;28;43mself\u001b[39;49m\u001b[43m.\u001b[49m\u001b[43m_call_impl\u001b[49m\u001b[43m(\u001b[49m\u001b[43m*\u001b[49m\u001b[43margs\u001b[49m\u001b[43m,\u001b[49m\u001b[43m \u001b[49m\u001b[43m*\u001b[49m\u001b[43m*\u001b[49m\u001b[43mkwargs\u001b[49m\u001b[43m)\u001b[49m\n",
      "\u001b[36mFile \u001b[39m\u001b[32mc:\\Users\\gabri\\OneDrive\\Escritorio\\proyectos\\.venv\\Lib\\site-packages\\torch\\nn\\modules\\module.py:1784\u001b[39m, in \u001b[36mModule._call_impl\u001b[39m\u001b[34m(self, *args, **kwargs)\u001b[39m\n\u001b[32m   1779\u001b[39m \u001b[38;5;66;03m# If we don't have any hooks, we want to skip the rest of the logic in\u001b[39;00m\n\u001b[32m   1780\u001b[39m \u001b[38;5;66;03m# this function, and just call forward.\u001b[39;00m\n\u001b[32m   1781\u001b[39m \u001b[38;5;28;01mif\u001b[39;00m \u001b[38;5;129;01mnot\u001b[39;00m (\u001b[38;5;28mself\u001b[39m._backward_hooks \u001b[38;5;129;01mor\u001b[39;00m \u001b[38;5;28mself\u001b[39m._backward_pre_hooks \u001b[38;5;129;01mor\u001b[39;00m \u001b[38;5;28mself\u001b[39m._forward_hooks \u001b[38;5;129;01mor\u001b[39;00m \u001b[38;5;28mself\u001b[39m._forward_pre_hooks\n\u001b[32m   1782\u001b[39m         \u001b[38;5;129;01mor\u001b[39;00m _global_backward_pre_hooks \u001b[38;5;129;01mor\u001b[39;00m _global_backward_hooks\n\u001b[32m   1783\u001b[39m         \u001b[38;5;129;01mor\u001b[39;00m _global_forward_hooks \u001b[38;5;129;01mor\u001b[39;00m _global_forward_pre_hooks):\n\u001b[32m-> \u001b[39m\u001b[32m1784\u001b[39m     \u001b[38;5;28;01mreturn\u001b[39;00m \u001b[43mforward_call\u001b[49m\u001b[43m(\u001b[49m\u001b[43m*\u001b[49m\u001b[43margs\u001b[49m\u001b[43m,\u001b[49m\u001b[43m \u001b[49m\u001b[43m*\u001b[49m\u001b[43m*\u001b[49m\u001b[43mkwargs\u001b[49m\u001b[43m)\u001b[49m\n\u001b[32m   1786\u001b[39m result = \u001b[38;5;28;01mNone\u001b[39;00m\n\u001b[32m   1787\u001b[39m called_always_called_hooks = \u001b[38;5;28mset\u001b[39m()\n",
      "\u001b[36mFile \u001b[39m\u001b[32mc:\\Users\\gabri\\OneDrive\\Escritorio\\proyectos\\.venv\\Lib\\site-packages\\transformers\\models\\distilbert\\modeling_distilbert.py:484\u001b[39m, in \u001b[36mTransformerBlock.forward\u001b[39m\u001b[34m(self, x, attn_mask, head_mask, output_attentions)\u001b[39m\n\u001b[32m    481\u001b[39m sa_output = \u001b[38;5;28mself\u001b[39m.sa_layer_norm(sa_output + x)  \u001b[38;5;66;03m# (bs, seq_length, dim)\u001b[39;00m\n\u001b[32m    483\u001b[39m \u001b[38;5;66;03m# Feed Forward Network\u001b[39;00m\n\u001b[32m--> \u001b[39m\u001b[32m484\u001b[39m ffn_output = \u001b[38;5;28;43mself\u001b[39;49m\u001b[43m.\u001b[49m\u001b[43mffn\u001b[49m\u001b[43m(\u001b[49m\u001b[43msa_output\u001b[49m\u001b[43m)\u001b[49m  \u001b[38;5;66;03m# (bs, seq_length, dim)\u001b[39;00m\n\u001b[32m    485\u001b[39m ffn_output: torch.Tensor = \u001b[38;5;28mself\u001b[39m.output_layer_norm(ffn_output + sa_output)  \u001b[38;5;66;03m# (bs, seq_length, dim)\u001b[39;00m\n\u001b[32m    487\u001b[39m output = (ffn_output,)\n",
      "\u001b[36mFile \u001b[39m\u001b[32mc:\\Users\\gabri\\OneDrive\\Escritorio\\proyectos\\.venv\\Lib\\site-packages\\torch\\nn\\modules\\module.py:1773\u001b[39m, in \u001b[36mModule._wrapped_call_impl\u001b[39m\u001b[34m(self, *args, **kwargs)\u001b[39m\n\u001b[32m   1771\u001b[39m     \u001b[38;5;28;01mreturn\u001b[39;00m \u001b[38;5;28mself\u001b[39m._compiled_call_impl(*args, **kwargs)  \u001b[38;5;66;03m# type: ignore[misc]\u001b[39;00m\n\u001b[32m   1772\u001b[39m \u001b[38;5;28;01melse\u001b[39;00m:\n\u001b[32m-> \u001b[39m\u001b[32m1773\u001b[39m     \u001b[38;5;28;01mreturn\u001b[39;00m \u001b[38;5;28;43mself\u001b[39;49m\u001b[43m.\u001b[49m\u001b[43m_call_impl\u001b[49m\u001b[43m(\u001b[49m\u001b[43m*\u001b[49m\u001b[43margs\u001b[49m\u001b[43m,\u001b[49m\u001b[43m \u001b[49m\u001b[43m*\u001b[49m\u001b[43m*\u001b[49m\u001b[43mkwargs\u001b[49m\u001b[43m)\u001b[49m\n",
      "\u001b[36mFile \u001b[39m\u001b[32mc:\\Users\\gabri\\OneDrive\\Escritorio\\proyectos\\.venv\\Lib\\site-packages\\torch\\nn\\modules\\module.py:1784\u001b[39m, in \u001b[36mModule._call_impl\u001b[39m\u001b[34m(self, *args, **kwargs)\u001b[39m\n\u001b[32m   1779\u001b[39m \u001b[38;5;66;03m# If we don't have any hooks, we want to skip the rest of the logic in\u001b[39;00m\n\u001b[32m   1780\u001b[39m \u001b[38;5;66;03m# this function, and just call forward.\u001b[39;00m\n\u001b[32m   1781\u001b[39m \u001b[38;5;28;01mif\u001b[39;00m \u001b[38;5;129;01mnot\u001b[39;00m (\u001b[38;5;28mself\u001b[39m._backward_hooks \u001b[38;5;129;01mor\u001b[39;00m \u001b[38;5;28mself\u001b[39m._backward_pre_hooks \u001b[38;5;129;01mor\u001b[39;00m \u001b[38;5;28mself\u001b[39m._forward_hooks \u001b[38;5;129;01mor\u001b[39;00m \u001b[38;5;28mself\u001b[39m._forward_pre_hooks\n\u001b[32m   1782\u001b[39m         \u001b[38;5;129;01mor\u001b[39;00m _global_backward_pre_hooks \u001b[38;5;129;01mor\u001b[39;00m _global_backward_hooks\n\u001b[32m   1783\u001b[39m         \u001b[38;5;129;01mor\u001b[39;00m _global_forward_hooks \u001b[38;5;129;01mor\u001b[39;00m _global_forward_pre_hooks):\n\u001b[32m-> \u001b[39m\u001b[32m1784\u001b[39m     \u001b[38;5;28;01mreturn\u001b[39;00m \u001b[43mforward_call\u001b[49m\u001b[43m(\u001b[49m\u001b[43m*\u001b[49m\u001b[43margs\u001b[49m\u001b[43m,\u001b[49m\u001b[43m \u001b[49m\u001b[43m*\u001b[49m\u001b[43m*\u001b[49m\u001b[43mkwargs\u001b[49m\u001b[43m)\u001b[49m\n\u001b[32m   1786\u001b[39m result = \u001b[38;5;28;01mNone\u001b[39;00m\n\u001b[32m   1787\u001b[39m called_always_called_hooks = \u001b[38;5;28mset\u001b[39m()\n",
      "\u001b[36mFile \u001b[39m\u001b[32mc:\\Users\\gabri\\OneDrive\\Escritorio\\proyectos\\.venv\\Lib\\site-packages\\transformers\\models\\distilbert\\modeling_distilbert.py:418\u001b[39m, in \u001b[36mFFN.forward\u001b[39m\u001b[34m(self, input)\u001b[39m\n\u001b[32m    417\u001b[39m \u001b[38;5;28;01mdef\u001b[39;00m\u001b[38;5;250m \u001b[39m\u001b[34mforward\u001b[39m(\u001b[38;5;28mself\u001b[39m, \u001b[38;5;28minput\u001b[39m: torch.Tensor) -> torch.Tensor:\n\u001b[32m--> \u001b[39m\u001b[32m418\u001b[39m     \u001b[38;5;28;01mreturn\u001b[39;00m \u001b[43mapply_chunking_to_forward\u001b[49m\u001b[43m(\u001b[49m\u001b[38;5;28;43mself\u001b[39;49m\u001b[43m.\u001b[49m\u001b[43mff_chunk\u001b[49m\u001b[43m,\u001b[49m\u001b[43m \u001b[49m\u001b[38;5;28;43mself\u001b[39;49m\u001b[43m.\u001b[49m\u001b[43mchunk_size_feed_forward\u001b[49m\u001b[43m,\u001b[49m\u001b[43m \u001b[49m\u001b[38;5;28;43mself\u001b[39;49m\u001b[43m.\u001b[49m\u001b[43mseq_len_dim\u001b[49m\u001b[43m,\u001b[49m\u001b[43m \u001b[49m\u001b[38;5;28;43minput\u001b[39;49m\u001b[43m)\u001b[49m\n",
      "\u001b[36mFile \u001b[39m\u001b[32mc:\\Users\\gabri\\OneDrive\\Escritorio\\proyectos\\.venv\\Lib\\site-packages\\transformers\\pytorch_utils.py:257\u001b[39m, in \u001b[36mapply_chunking_to_forward\u001b[39m\u001b[34m(forward_fn, chunk_size, chunk_dim, *input_tensors)\u001b[39m\n\u001b[32m    254\u001b[39m     \u001b[38;5;66;03m# concatenate output at same dimension\u001b[39;00m\n\u001b[32m    255\u001b[39m     \u001b[38;5;28;01mreturn\u001b[39;00m torch.cat(output_chunks, dim=chunk_dim)\n\u001b[32m--> \u001b[39m\u001b[32m257\u001b[39m \u001b[38;5;28;01mreturn\u001b[39;00m \u001b[43mforward_fn\u001b[49m\u001b[43m(\u001b[49m\u001b[43m*\u001b[49m\u001b[43minput_tensors\u001b[49m\u001b[43m)\u001b[49m\n",
      "\u001b[36mFile \u001b[39m\u001b[32mc:\\Users\\gabri\\OneDrive\\Escritorio\\proyectos\\.venv\\Lib\\site-packages\\transformers\\models\\distilbert\\modeling_distilbert.py:423\u001b[39m, in \u001b[36mFFN.ff_chunk\u001b[39m\u001b[34m(self, input)\u001b[39m\n\u001b[32m    421\u001b[39m x = \u001b[38;5;28mself\u001b[39m.lin1(\u001b[38;5;28minput\u001b[39m)\n\u001b[32m    422\u001b[39m x = \u001b[38;5;28mself\u001b[39m.activation(x)\n\u001b[32m--> \u001b[39m\u001b[32m423\u001b[39m x = \u001b[38;5;28;43mself\u001b[39;49m\u001b[43m.\u001b[49m\u001b[43mlin2\u001b[49m\u001b[43m(\u001b[49m\u001b[43mx\u001b[49m\u001b[43m)\u001b[49m\n\u001b[32m    424\u001b[39m x = \u001b[38;5;28mself\u001b[39m.dropout(x)\n\u001b[32m    425\u001b[39m \u001b[38;5;28;01mreturn\u001b[39;00m x\n",
      "\u001b[36mFile \u001b[39m\u001b[32mc:\\Users\\gabri\\OneDrive\\Escritorio\\proyectos\\.venv\\Lib\\site-packages\\torch\\nn\\modules\\module.py:1773\u001b[39m, in \u001b[36mModule._wrapped_call_impl\u001b[39m\u001b[34m(self, *args, **kwargs)\u001b[39m\n\u001b[32m   1771\u001b[39m     \u001b[38;5;28;01mreturn\u001b[39;00m \u001b[38;5;28mself\u001b[39m._compiled_call_impl(*args, **kwargs)  \u001b[38;5;66;03m# type: ignore[misc]\u001b[39;00m\n\u001b[32m   1772\u001b[39m \u001b[38;5;28;01melse\u001b[39;00m:\n\u001b[32m-> \u001b[39m\u001b[32m1773\u001b[39m     \u001b[38;5;28;01mreturn\u001b[39;00m \u001b[38;5;28;43mself\u001b[39;49m\u001b[43m.\u001b[49m\u001b[43m_call_impl\u001b[49m\u001b[43m(\u001b[49m\u001b[43m*\u001b[49m\u001b[43margs\u001b[49m\u001b[43m,\u001b[49m\u001b[43m \u001b[49m\u001b[43m*\u001b[49m\u001b[43m*\u001b[49m\u001b[43mkwargs\u001b[49m\u001b[43m)\u001b[49m\n",
      "\u001b[36mFile \u001b[39m\u001b[32mc:\\Users\\gabri\\OneDrive\\Escritorio\\proyectos\\.venv\\Lib\\site-packages\\torch\\nn\\modules\\module.py:1784\u001b[39m, in \u001b[36mModule._call_impl\u001b[39m\u001b[34m(self, *args, **kwargs)\u001b[39m\n\u001b[32m   1779\u001b[39m \u001b[38;5;66;03m# If we don't have any hooks, we want to skip the rest of the logic in\u001b[39;00m\n\u001b[32m   1780\u001b[39m \u001b[38;5;66;03m# this function, and just call forward.\u001b[39;00m\n\u001b[32m   1781\u001b[39m \u001b[38;5;28;01mif\u001b[39;00m \u001b[38;5;129;01mnot\u001b[39;00m (\u001b[38;5;28mself\u001b[39m._backward_hooks \u001b[38;5;129;01mor\u001b[39;00m \u001b[38;5;28mself\u001b[39m._backward_pre_hooks \u001b[38;5;129;01mor\u001b[39;00m \u001b[38;5;28mself\u001b[39m._forward_hooks \u001b[38;5;129;01mor\u001b[39;00m \u001b[38;5;28mself\u001b[39m._forward_pre_hooks\n\u001b[32m   1782\u001b[39m         \u001b[38;5;129;01mor\u001b[39;00m _global_backward_pre_hooks \u001b[38;5;129;01mor\u001b[39;00m _global_backward_hooks\n\u001b[32m   1783\u001b[39m         \u001b[38;5;129;01mor\u001b[39;00m _global_forward_hooks \u001b[38;5;129;01mor\u001b[39;00m _global_forward_pre_hooks):\n\u001b[32m-> \u001b[39m\u001b[32m1784\u001b[39m     \u001b[38;5;28;01mreturn\u001b[39;00m \u001b[43mforward_call\u001b[49m\u001b[43m(\u001b[49m\u001b[43m*\u001b[49m\u001b[43margs\u001b[49m\u001b[43m,\u001b[49m\u001b[43m \u001b[49m\u001b[43m*\u001b[49m\u001b[43m*\u001b[49m\u001b[43mkwargs\u001b[49m\u001b[43m)\u001b[49m\n\u001b[32m   1786\u001b[39m result = \u001b[38;5;28;01mNone\u001b[39;00m\n\u001b[32m   1787\u001b[39m called_always_called_hooks = \u001b[38;5;28mset\u001b[39m()\n",
      "\u001b[36mFile \u001b[39m\u001b[32mc:\\Users\\gabri\\OneDrive\\Escritorio\\proyectos\\.venv\\Lib\\site-packages\\torch\\nn\\modules\\linear.py:125\u001b[39m, in \u001b[36mLinear.forward\u001b[39m\u001b[34m(self, input)\u001b[39m\n\u001b[32m    124\u001b[39m \u001b[38;5;28;01mdef\u001b[39;00m\u001b[38;5;250m \u001b[39m\u001b[34mforward\u001b[39m(\u001b[38;5;28mself\u001b[39m, \u001b[38;5;28minput\u001b[39m: Tensor) -> Tensor:\n\u001b[32m--> \u001b[39m\u001b[32m125\u001b[39m     \u001b[38;5;28;01mreturn\u001b[39;00m \u001b[43mF\u001b[49m\u001b[43m.\u001b[49m\u001b[43mlinear\u001b[49m\u001b[43m(\u001b[49m\u001b[38;5;28;43minput\u001b[39;49m\u001b[43m,\u001b[49m\u001b[43m \u001b[49m\u001b[38;5;28;43mself\u001b[39;49m\u001b[43m.\u001b[49m\u001b[43mweight\u001b[49m\u001b[43m,\u001b[49m\u001b[43m \u001b[49m\u001b[38;5;28;43mself\u001b[39;49m\u001b[43m.\u001b[49m\u001b[43mbias\u001b[49m\u001b[43m)\u001b[49m\n",
      "\u001b[31mKeyboardInterrupt\u001b[39m: "
     ]
    }
   ],
   "source": [
    "# =====================================================\n",
    "# 1. Submuestreo balanceado\n",
    "# =====================================================\n",
    "# Filtrar train y test\n",
    "train_df = reviews[reviews['ds_part'] == 'train']\n",
    "test_df  = reviews[reviews['ds_part'] == 'test']\n",
    "\n",
    "# Tomar subset balanceado (5000 train, 2000 test aprox)\n",
    "train_sample = train_df.groupby('pos', group_keys=False).apply(lambda x: x.sample(250, random_state=42))\n",
    "test_sample  = test_df.groupby('pos', group_keys=False).apply(lambda x: x.sample(100, random_state=42))\n",
    "\n",
    "print(train_sample.shape, test_sample.shape)\n",
    "\n",
    "# =====================================================\n",
    "# 2. Tokenización con DistilBERT\n",
    "# =====================================================\n",
    "tokenizer = DistilBertTokenizerFast.from_pretrained(\"distilbert-base-uncased\")\n",
    "\n",
    "train_encodings = tokenizer(list(train_sample['review']), truncation=True, padding=True, max_length=256)\n",
    "test_encodings  = tokenizer(list(test_sample['review']), truncation=True, padding=True, max_length=256)\n",
    "\n",
    "# =====================================================\n",
    "# 3. Dataset en formato PyTorch\n",
    "# =====================================================\n",
    "class IMDbDataset(Dataset):\n",
    "    def __init__(self, encodings, labels):\n",
    "        self.encodings = encodings\n",
    "        self.labels = labels\n",
    "\n",
    "    def __len__(self):\n",
    "        return len(self.labels)\n",
    "\n",
    "    def __getitem__(self, idx):\n",
    "        item = {key: torch.tensor(val[idx]) for key, val in self.encodings.items()}\n",
    "        item['labels'] = torch.tensor(int(self.labels[idx]))\n",
    "        return item\n",
    "\n",
    "train_dataset = IMDbDataset(train_encodings, list(train_sample['pos']))\n",
    "test_dataset  = IMDbDataset(test_encodings, list(test_sample['pos']))\n",
    "\n",
    "# =====================================================\n",
    "# 4. Definir modelo DistilBERT con capa de clasificación\n",
    "# =====================================================\n",
    "model = DistilBertForSequenceClassification.from_pretrained(\"distilbert-base-uncased\", num_labels=2)\n",
    "\n",
    "# =====================================================\n",
    "# 5. Configurar entrenamiento (compatible con versiones antiguas)\n",
    "# =====================================================\n",
    "\n",
    "training_args = TrainingArguments(\n",
    "    output_dir=\"./results\",              # Carpeta donde guarda resultados\n",
    "    overwrite_output_dir=True,           # Sobrescribe si ya existe\n",
    "    num_train_epochs=2,                  # Número de épocas\n",
    "    per_device_train_batch_size=16,      # Tamaño de batch en entrenamiento\n",
    "    per_device_eval_batch_size=16,       # Tamaño de batch en evaluación\n",
    "    learning_rate=5e-5,                  # Tasa de aprendizaje\n",
    "    weight_decay=0.01,                   # Penalización L2\n",
    "    logging_dir=\"./logs\",                # Carpeta para logs\n",
    "    logging_steps=50,                    # Cada cuántos pasos registrar\n",
    "    save_steps=500,                      # Guardar modelo cada 500 pasos\n",
    "    seed=42                              # Semilla para reproducibilidad\n",
    ")\n",
    "\n",
    "# =====================================================\n",
    "# 6. Definir función de métrica (F1-score)\n",
    "# =====================================================\n",
    "def compute_metrics(pred):\n",
    "    labels = pred.label_ids\n",
    "    preds = pred.predictions.argmax(-1)\n",
    "    return {\"f1\": f1_score(labels, preds)}\n",
    "\n",
    "# =====================================================\n",
    "# 7. Trainer de Hugging Face\n",
    "# =====================================================\n",
    "trainer = Trainer(\n",
    "    model=model,\n",
    "    args=training_args,\n",
    "    train_dataset=train_dataset,\n",
    "    eval_dataset=test_dataset,\n",
    "    compute_metrics=compute_metrics\n",
    ")\n",
    "\n",
    "# =====================================================\n",
    "# 8. Entrenamiento y evaluación\n",
    "# =====================================================\n",
    "trainer.train()\n",
    "results = trainer.evaluate()\n",
    "print(\"Resultados con DistilBERT:\", results)\n",
    "\n"
   ]
  },
  {
   "cell_type": "code",
   "execution_count": null,
   "id": "1236e09c",
   "metadata": {},
   "outputs": [],
   "source": [
    "# =====================================================\n",
    "# Probar el modelo entrenado con nuevas reseñas\n",
    "# =====================================================\n",
    "import torch\n",
    "\n",
    "# Función para clasificar reseñas con el modelo entrenado\n",
    "def predict_sentiment(texts, model, tokenizer):\n",
    "    encodings = tokenizer(texts, truncation=True, padding=True, max_length=256, return_tensors=\"pt\")\n",
    "    with torch.no_grad():\n",
    "        outputs = model(**encodings)\n",
    "        preds = torch.argmax(outputs.logits, dim=1).numpy()\n",
    "    return [\"Positiva\" if p == 1 else \"Negativa\" for p in preds]\n",
    "\n",
    "# Ejemplos de reseñas\n",
    "ejemplos = [\n",
    "    \"This movie was absolutely wonderful! The acting and story were amazing.\",\n",
    "    \"I really hated this film. It was boring and a complete waste of time.\",\n",
    "    \"Not bad, but not great either. It was just an average movie.\"\n",
    "]\n",
    "\n",
    "# Clasificar con DistilBERT entrenado\n",
    "resultados = predict_sentiment(ejemplos, model, tokenizer)\n",
    "\n",
    "# Mostrar resultados\n",
    "for review, sentiment in zip(ejemplos, resultados):\n",
    "    print(f\"Reseña: {review}\\nPredicción: {sentiment}\\n\")\n"
   ]
  },
  {
   "cell_type": "markdown",
   "id": "bcbde343",
   "metadata": {},
   "source": [
    "## **¿Qué es BERT y por qué usarlo?**\n",
    "\n",
    "**BERT** (Bidirectional Encoder Representations from Transformers) es un modelo de lenguaje \n",
    "desarrollado por Google en 2018 que revolucionó el procesamiento de lenguaje natural (NLP).  \n",
    "Su principal característica es que entiende el **contexto bidireccional** de las palabras:  \n",
    "cuando procesa una palabra dentro de una oración, tiene en cuenta tanto las palabras anteriores \n",
    "como las siguientes. Esto le permite captar significados y matices que otros métodos más simples \n",
    "(TF-IDF, Bag-of-Words) no logran.\n",
    "\n",
    "### **¿Cómo funciona BERT?**\n",
    "1. **Basado en Transformers**: utiliza el mecanismo de *self-attention*, que permite que cada palabra \n",
    "   “preste atención” a las demás en la oración, identificando qué términos son más relevantes entre sí.\n",
    "2. **Preentrenado en grandes corpus**: BERT se entrena en tareas generales de lenguaje \n",
    "   (como predecir palabras ocultas o la siguiente oración), lo que le da un entendimiento muy rico \n",
    "   de la gramática y el significado del texto.\n",
    "3. **Embeddings contextuales**: cada palabra se representa como un vector (embedding) que depende \n",
    "   del contexto en el que aparece. Ejemplo: la palabra *bank* no se interpreta igual en \n",
    "   “river bank” (orilla) que en “money bank” (banco).\n",
    "\n",
    "### **¿Por qué es mejor que métodos clásicos?**\n",
    "- **TF-IDF y similares** solo cuentan la frecuencia de palabras, sin entender su significado ni contexto.  \n",
    "- **BERT**, en cambio, entiende la semántica y la relación entre palabras, lo que permite \n",
    "  distinguir reseñas con sarcasmo, frases complejas o dobles sentidos.  \n",
    "- Además, BERT ya viene **preentrenado en millones de textos**, y solo necesita una pequeña \n",
    "  “afinación” (*fine-tuning*) para adaptarse a una tarea específica como la clasificación de reseñas.\n",
    "\n",
    "### **Ventajas en este proyecto**\n",
    "- Puede mejorar el F1-score al capturar relaciones de lenguaje que los modelos clásicos no detectan.\n",
    "- Permite comparar enfoques: **modelos clásicos (TF-IDF + ML)** vs. **modelos modernos basados en Transformers**.\n",
    "- Aunque es más pesado y requiere más recursos computacionales, incluso usando un subconjunto de datos \n",
    "y una variante ligera como **DistilBERT**, se pueden obtener resultados muy competitivos.\n",
    "\n",
    "En conclusión, **BERT es más “inteligente” al procesar texto**, porque no solo ve las palabras, \n",
    "sino cómo se usan en contexto. Eso lo convierte en una herramienta poderosa para tareas de análisis \n",
    "de sentimientos y clasificación\n"
   ]
  }
 ],
 "metadata": {
  "kernelspec": {
   "display_name": ".venv",
   "language": "python",
   "name": "python3"
  },
  "language_info": {
   "codemirror_mode": {
    "name": "ipython",
    "version": 3
   },
   "file_extension": ".py",
   "mimetype": "text/x-python",
   "name": "python",
   "nbconvert_exporter": "python",
   "pygments_lexer": "ipython3",
   "version": "3.11.0"
  }
 },
 "nbformat": 4,
 "nbformat_minor": 5
}
